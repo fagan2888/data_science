{
 "cells": [
  {
   "cell_type": "markdown",
   "metadata": {},
   "source": [
    "# Intro"
   ]
  },
  {
   "cell_type": "markdown",
   "metadata": {},
   "source": [
    "Open source project started by Guido van Rossum in 1991.\n",
    "\n",
    "Computers are cheap, your time is expensive!\n",
    "\n",
    "Data scientists spend 50-80 percent of their time preparing data.\n",
    "\n",
    "\"Premature optimization is the root of all evil\" -- Donald Knuth, inventor of LaTeX, and many other things\n",
    "\n",
    "Huge and expanding ecosystem of packages for wide variety of tasks\n",
    "\n",
    "Part of the culture to provide usable examples rather than just lengthy documentation\n",
    "\n",
    "Big on \"idioms\" and doing things \"Pythonically\"\n",
    "\n",
    "Duck Typing! If it walks like a duck and quacks like a duck, then... treat it like a duck"
   ]
  },
  {
   "cell_type": "markdown",
   "metadata": {},
   "source": [
    "# Python Basics"
   ]
  },
  {
   "cell_type": "markdown",
   "metadata": {},
   "source": [
    "## Printing"
   ]
  },
  {
   "cell_type": "code",
   "execution_count": 6,
   "metadata": {},
   "outputs": [
    {
     "name": "stdout",
     "output_type": "stream",
     "text": [
      "Hello World!\n"
     ]
    }
   ],
   "source": [
    "print('Hello World!')"
   ]
  },
  {
   "cell_type": "code",
   "execution_count": 2,
   "metadata": {},
   "outputs": [
    {
     "name": "stdout",
     "output_type": "stream",
     "text": [
      "5\n"
     ]
    }
   ],
   "source": [
    "print(5)"
   ]
  },
  {
   "cell_type": "code",
   "execution_count": 3,
   "metadata": {},
   "outputs": [
    {
     "name": "stdout",
     "output_type": "stream",
     "text": [
      "5 6 foo\n"
     ]
    }
   ],
   "source": [
    "print(5, 6, 'foo')"
   ]
  },
  {
   "cell_type": "code",
   "execution_count": 7,
   "metadata": {},
   "outputs": [
    {
     "data": {
      "text/plain": [
       "'hi'"
      ]
     },
     "execution_count": 7,
     "metadata": {},
     "output_type": "execute_result"
    }
   ],
   "source": [
    "'hi' # by default outputs last line of cell"
   ]
  },
  {
   "cell_type": "markdown",
   "metadata": {},
   "source": [
    "## Builtin Types"
   ]
  },
  {
   "cell_type": "markdown",
   "metadata": {},
   "source": [
    "### Tuples (tuple)"
   ]
  },
  {
   "cell_type": "code",
   "execution_count": 8,
   "metadata": {},
   "outputs": [
    {
     "data": {
      "text/plain": [
       "(1, 2)"
      ]
     },
     "execution_count": 8,
     "metadata": {},
     "output_type": "execute_result"
    }
   ],
   "source": [
    "a = (1, 2)\n",
    "a"
   ]
  },
  {
   "cell_type": "code",
   "execution_count": 9,
   "metadata": {},
   "outputs": [
    {
     "name": "stdout",
     "output_type": "stream",
     "text": [
      "1\n",
      "2\n"
     ]
    }
   ],
   "source": [
    "b, c = a # this is called \"unpacking\"\n",
    "print(b)\n",
    "print(c)"
   ]
  },
  {
   "cell_type": "markdown",
   "metadata": {},
   "source": [
    "### Lists (list)"
   ]
  },
  {
   "cell_type": "code",
   "execution_count": 10,
   "metadata": {},
   "outputs": [
    {
     "name": "stdout",
     "output_type": "stream",
     "text": [
      "[1, 2, 3]\n"
     ]
    }
   ],
   "source": [
    "a = [1, 2, 3]\n",
    "print(a)"
   ]
  },
  {
   "cell_type": "code",
   "execution_count": 11,
   "metadata": {},
   "outputs": [
    {
     "name": "stdout",
     "output_type": "stream",
     "text": [
      "[1, 2, 3, 5, 6, 7]\n",
      "[1, 2, 3, 5, 6, 7, 8, 9, 10]\n"
     ]
    }
   ],
   "source": [
    "a += [5, 6, 7] # adding is appending/concatenating\n",
    "print(a)\n",
    "b = a + [8, 9, 10]\n",
    "print(b)"
   ]
  },
  {
   "cell_type": "code",
   "execution_count": 12,
   "metadata": {},
   "outputs": [
    {
     "name": "stdout",
     "output_type": "stream",
     "text": [
      "[1, 2, 3, 5, 6, 7, 8]\n"
     ]
    }
   ],
   "source": [
    "a.append(8)\n",
    "print(a)"
   ]
  },
  {
   "cell_type": "code",
   "execution_count": 13,
   "metadata": {},
   "outputs": [
    {
     "name": "stdout",
     "output_type": "stream",
     "text": [
      "[1, 2, 3, 5, 6, 7, 8, 1, 2, 3, 5, 6, 7, 8, 1, 2, 3, 5, 6, 7, 8]\n"
     ]
    }
   ],
   "source": [
    "b = 3*a # multiplying is repeating\n",
    "print(b)"
   ]
  },
  {
   "cell_type": "markdown",
   "metadata": {},
   "source": [
    "### Dictionaries (dict)"
   ]
  },
  {
   "cell_type": "code",
   "execution_count": 14,
   "metadata": {},
   "outputs": [
    {
     "name": "stdout",
     "output_type": "stream",
     "text": [
      "{1: 2, 2: 3, 3: 10, 4: -5}\n"
     ]
    }
   ],
   "source": [
    "# dictionaries are a general type of mapping\n",
    "d = {1: 2, 2: 3, 3: 10, 4: -5} # 1->2, 2->3, 3->10, 4->-5\n",
    "print(d)"
   ]
  },
  {
   "cell_type": "code",
   "execution_count": 15,
   "metadata": {},
   "outputs": [
    {
     "data": {
      "text/plain": [
       "10"
      ]
     },
     "execution_count": 15,
     "metadata": {},
     "output_type": "execute_result"
    }
   ],
   "source": [
    "d[3] # access with square brackets"
   ]
  },
  {
   "cell_type": "code",
   "execution_count": 16,
   "metadata": {},
   "outputs": [
    {
     "name": "stdout",
     "output_type": "stream",
     "text": [
      "{'firstname': 'doug', 'lastname': 'hanley', 'city': 'pittsburgh'}\n",
      "{'firstname': 'roee', 'lastname': 'teper'}\n"
     ]
    }
   ],
   "source": [
    "d = {'firstname': 'doug', 'lastname': 'hanley', 'city': 'pittsburgh'}\n",
    "d1 = {'firstname': 'roee', 'lastname': 'teper'}\n",
    "print(d)\n",
    "print(d1)"
   ]
  },
  {
   "cell_type": "code",
   "execution_count": 17,
   "metadata": {},
   "outputs": [
    {
     "name": "stdout",
     "output_type": "stream",
     "text": [
      "pittsburgh\n"
     ]
    },
    {
     "ename": "KeyError",
     "evalue": "'city'",
     "output_type": "error",
     "traceback": [
      "\u001b[0;31m---------------------------------------------------------------------------\u001b[0m",
      "\u001b[0;31mKeyError\u001b[0m                                  Traceback (most recent call last)",
      "\u001b[0;32m<ipython-input-17-a2c9420ae566>\u001b[0m in \u001b[0;36m<module>\u001b[0;34m()\u001b[0m\n\u001b[1;32m      1\u001b[0m \u001b[0mprint\u001b[0m\u001b[0;34m(\u001b[0m\u001b[0md\u001b[0m\u001b[0;34m[\u001b[0m\u001b[0;34m'city'\u001b[0m\u001b[0;34m]\u001b[0m\u001b[0;34m)\u001b[0m \u001b[0;31m# 'pittsburgh'\u001b[0m\u001b[0;34m\u001b[0m\u001b[0m\n\u001b[0;32m----> 2\u001b[0;31m \u001b[0mprint\u001b[0m\u001b[0;34m(\u001b[0m\u001b[0md1\u001b[0m\u001b[0;34m[\u001b[0m\u001b[0;34m'city'\u001b[0m\u001b[0;34m]\u001b[0m\u001b[0;34m)\u001b[0m \u001b[0;31m# error\u001b[0m\u001b[0;34m\u001b[0m\u001b[0m\n\u001b[0m",
      "\u001b[0;31mKeyError\u001b[0m: 'city'"
     ]
    }
   ],
   "source": [
    "print(d['city']) # 'pittsburgh'\n",
    "print(d1['city']) # error"
   ]
  },
  {
   "cell_type": "code",
   "execution_count": 18,
   "metadata": {},
   "outputs": [
    {
     "name": "stdout",
     "output_type": "stream",
     "text": [
      "False\n",
      "None\n",
      "unknown\n"
     ]
    }
   ],
   "source": [
    "print('city' in d1) # False\n",
    "print(d1.get('city')) # None\n",
    "print(d1.get('city', 'unknown')) # 'unknown'"
   ]
  },
  {
   "cell_type": "markdown",
   "metadata": {},
   "source": [
    "### Strings"
   ]
  },
  {
   "cell_type": "code",
   "execution_count": 19,
   "metadata": {},
   "outputs": [
    {
     "name": "stdout",
     "output_type": "stream",
     "text": [
      "hello world\n"
     ]
    }
   ],
   "source": [
    "s = 'hello world'\n",
    "print(s)"
   ]
  },
  {
   "cell_type": "code",
   "execution_count": 20,
   "metadata": {},
   "outputs": [
    {
     "name": "stdout",
     "output_type": "stream",
     "text": [
      "hello world again\n"
     ]
    }
   ],
   "source": [
    "# strings are like lists of characters\n",
    "s1 = s + ' again' # concatenate with addition\n",
    "print(s1)"
   ]
  },
  {
   "cell_type": "code",
   "execution_count": 21,
   "metadata": {},
   "outputs": [
    {
     "name": "stdout",
     "output_type": "stream",
     "text": [
      "hello worldhello worldhello world\n"
     ]
    }
   ],
   "source": [
    "print(3*s) # repeat with multiplication"
   ]
  },
  {
   "cell_type": "code",
   "execution_count": 22,
   "metadata": {},
   "outputs": [
    {
     "data": {
      "text/plain": [
       "'hello world hello world hello world'"
      ]
     },
     "execution_count": 22,
     "metadata": {},
     "output_type": "execute_result"
    }
   ],
   "source": [
    "' '.join(3*[s])"
   ]
  },
  {
   "cell_type": "code",
   "execution_count": 23,
   "metadata": {},
   "outputs": [
    {
     "name": "stdout",
     "output_type": "stream",
     "text": [
      "hello world hello world hello world\n",
      "hello world\n",
      "hello, world\n",
      "hello|world\n"
     ]
    }
   ],
   "source": [
    "# but what about spacing?\n",
    "print(' '.join(3*[s]))\n",
    "print(' '.join(['hello', 'world'])) # joins a list of string with given separator\n",
    "print(', '.join(['hello', 'world']))\n",
    "print('|'.join(['hello', 'world']))"
   ]
  },
  {
   "cell_type": "code",
   "execution_count": 24,
   "metadata": {},
   "outputs": [
    {
     "name": "stdout",
     "output_type": "stream",
     "text": [
      "5 - test\n",
      "5 - test\n",
      "5 - test\n",
      "5 - test\n"
     ]
    }
   ],
   "source": [
    "# advanced printing\n",
    "x = 5\n",
    "s = 'test'\n",
    "print('%d - %s' % (x, s)) # c style printing\n",
    "print('{} - {}'.format(x, s)) # format style printing\n",
    "print('{:d} - {:s}'.format(x, s)) # format style printing (with types)\n",
    "print(f'{x} - {s}') # f-string printing (new in python 3.6!)"
   ]
  },
  {
   "cell_type": "markdown",
   "metadata": {},
   "source": [
    "## Control Flow"
   ]
  },
  {
   "cell_type": "markdown",
   "metadata": {},
   "source": [
    "### Conditional"
   ]
  },
  {
   "cell_type": "code",
   "execution_count": 25,
   "metadata": {},
   "outputs": [
    {
     "name": "stdout",
     "output_type": "stream",
     "text": [
      "doubling\n",
      "12\n"
     ]
    }
   ],
   "source": [
    "# conditional\n",
    "a = 6\n",
    "if (a < 10) and (a > 3):\n",
    "    a *= 2\n",
    "    print('doubling')\n",
    "print(a)"
   ]
  },
  {
   "cell_type": "markdown",
   "metadata": {},
   "source": [
    "### Looping"
   ]
  },
  {
   "cell_type": "code",
   "execution_count": 26,
   "metadata": {},
   "outputs": [
    {
     "name": "stdout",
     "output_type": "stream",
     "text": [
      "5\n",
      "6\n",
      "7\n",
      "8\n",
      "9\n"
     ]
    }
   ],
   "source": [
    "# basic loop\n",
    "for x in [5, 6, 7, 8, 9]:\n",
    "    print(x)"
   ]
  },
  {
   "cell_type": "code",
   "execution_count": 27,
   "metadata": {},
   "outputs": [
    {
     "name": "stdout",
     "output_type": "stream",
     "text": [
      "0\n",
      "1\n",
      "2\n",
      "3\n",
      "4\n"
     ]
    }
   ],
   "source": [
    "# common loop\n",
    "for x in range(5):\n",
    "    print(x)"
   ]
  },
  {
   "cell_type": "code",
   "execution_count": 57,
   "metadata": {},
   "outputs": [
    {
     "name": "stdout",
     "output_type": "stream",
     "text": [
      "0 9\n",
      "1 8\n",
      "2 7\n",
      "3 6\n",
      "4 5\n"
     ]
    }
   ],
   "source": [
    "# a useful idiom\n",
    "for i, x in enumerate(reversed(range(5, 10))):\n",
    "    print(i, x)"
   ]
  },
  {
   "cell_type": "markdown",
   "metadata": {},
   "source": [
    "### List Comprehensions"
   ]
  },
  {
   "cell_type": "code",
   "execution_count": 58,
   "metadata": {},
   "outputs": [
    {
     "name": "stdout",
     "output_type": "stream",
     "text": [
      "range(0, 10)\n",
      "[0, 1, 2, 3, 4, 5, 6, 7, 8, 9]\n"
     ]
    }
   ],
   "source": [
    "a = range(10)\n",
    "print(a) # hmm - it's an iterator\n",
    "print(list(a))"
   ]
  },
  {
   "cell_type": "code",
   "execution_count": 59,
   "metadata": {},
   "outputs": [
    {
     "name": "stdout",
     "output_type": "stream",
     "text": [
      "[0, 1, 4, 9, 16, 25, 36, 49, 64, 81]\n"
     ]
    }
   ],
   "source": [
    "b = [x**2 for x in a] # like an inline loop\n",
    "print(b)"
   ]
  },
  {
   "cell_type": "code",
   "execution_count": 60,
   "metadata": {},
   "outputs": [
    {
     "name": "stdout",
     "output_type": "stream",
     "text": [
      "[0, 4, 16, 36, 64]\n"
     ]
    }
   ],
   "source": [
    "b = [x**2 for x in a if x % 2 == 0] # only if even\n",
    "print(b)"
   ]
  },
  {
   "cell_type": "code",
   "execution_count": 61,
   "metadata": {},
   "outputs": [
    {
     "name": "stdout",
     "output_type": "stream",
     "text": [
      "{'firstname': 'SEWON', 'lastname': 'HUR'}\n",
      "{'firstname': 'SEWON', 'lastname': 'HUR'}\n"
     ]
    }
   ],
   "source": [
    "# works with dictionaries too!\n",
    "d = {'firstname': 'sewon', 'lastname': 'hur'}\n",
    "d1 = {k: d[k].upper() for k in d}\n",
    "print(d1)\n",
    "d1 = {k: v.upper() for k, v in d.items()}\n",
    "print(d1)"
   ]
  },
  {
   "cell_type": "code",
   "execution_count": 62,
   "metadata": {},
   "outputs": [
    {
     "name": "stdout",
     "output_type": "stream",
     "text": [
      "[(0, 10), (1, 11), (2, 12), (3, 13), (4, 14), (5, 15), (6, 16), (7, 17), (8, 18), (9, 19)]\n",
      "[0, 11, 24, 39, 56, 75, 96, 119, 144, 171]\n"
     ]
    }
   ],
   "source": [
    "# zipping two lists\n",
    "a = range(10)\n",
    "b = range(10, 20)\n",
    "c1 = list(zip(a, b))\n",
    "c2 = [x*y for x, y in zip(a, b)]\n",
    "print(c1)\n",
    "print(c2)"
   ]
  },
  {
   "cell_type": "markdown",
   "metadata": {},
   "source": [
    "## Functions"
   ]
  },
  {
   "cell_type": "code",
   "execution_count": 28,
   "metadata": {},
   "outputs": [
    {
     "data": {
      "text/plain": [
       "15"
      ]
     },
     "execution_count": 28,
     "metadata": {},
     "output_type": "execute_result"
    }
   ],
   "source": [
    "# basic function (indentation matters)\n",
    "def multiply(x, y):\n",
    "    return x*y\n",
    "multiply(5, 3)"
   ]
  },
  {
   "cell_type": "code",
   "execution_count": 29,
   "metadata": {},
   "outputs": [
    {
     "name": "stdout",
     "output_type": "stream",
     "text": [
      "5\n",
      "3\n"
     ]
    }
   ],
   "source": [
    "# keyword arguments with default value (% is modulus)\n",
    "def multiply_mod(x, y, mod=10):\n",
    "    z = x*y\n",
    "    return z % mod\n",
    "print(multiply_mod(5, 3))\n",
    "print(multiply_mod(5, 3, mod=12))"
   ]
  },
  {
   "cell_type": "code",
   "execution_count": 30,
   "metadata": {},
   "outputs": [
    {
     "name": "stdout",
     "output_type": "stream",
     "text": [
      "test:\n",
      "op = add\n",
      "direction = up\n",
      "name = joe\n",
      "level = 7\n"
     ]
    }
   ],
   "source": [
    "# arbirtrary default values: up, direction, name, level could have been anything\n",
    "def run(cmd, **opts):\n",
    "    print('\\n'.join([f'{cmd}:'] + [f'{k} = {v}' for k, v in opts.items()]))\n",
    "run('test', op='add', direction='up', name='joe', level=7)"
   ]
  },
  {
   "cell_type": "code",
   "execution_count": 31,
   "metadata": {},
   "outputs": [
    {
     "name": "stdout",
     "output_type": "stream",
     "text": [
      "{'op': 'add', 'direction': 'up', 'name': 'joe', 'level': 7}\n"
     ]
    }
   ],
   "source": [
    "# here's how it works\n",
    "def func(**kwargs):\n",
    "    print(kwargs)\n",
    "func(op='add', direction='up', name='joe', level=7)"
   ]
  },
  {
   "cell_type": "code",
   "execution_count": 32,
   "metadata": {},
   "outputs": [
    {
     "name": "stdout",
     "output_type": "stream",
     "text": [
      "6\n",
      "6\n"
     ]
    }
   ],
   "source": [
    "# variable length arguments\n",
    "def func(*args):\n",
    "    return sum(args)\n",
    "x1 = func(*range(4))\n",
    "x2 = func(0, 1, 2, 3)\n",
    "print(x1)\n",
    "print(x2)"
   ]
  },
  {
   "cell_type": "markdown",
   "metadata": {},
   "source": [
    "### Lambda functions"
   ]
  },
  {
   "cell_type": "code",
   "execution_count": 33,
   "metadata": {},
   "outputs": [
    {
     "name": "stdout",
     "output_type": "stream",
     "text": [
      "5\n",
      "28\n"
     ]
    }
   ],
   "source": [
    "ident = lambda x: x\n",
    "mult = lambda x, y: x*y\n",
    "print(ident(5))\n",
    "print(mult(4, 7))"
   ]
  },
  {
   "cell_type": "markdown",
   "metadata": {},
   "source": [
    "### Functions of functions"
   ]
  },
  {
   "cell_type": "code",
   "execution_count": 34,
   "metadata": {},
   "outputs": [
    {
     "name": "stdout",
     "output_type": "stream",
     "text": [
      "-10 -3\n",
      "2 2\n"
     ]
    }
   ],
   "source": [
    "def bounder(f, a, b):\n",
    "    def fb(x):\n",
    "        return max(a, min(b, f(x)))\n",
    "    return fb\n",
    "g = lambda x: 2*x\n",
    "g1 = bounder(g, -3, 3)\n",
    "print(g(-5), g1(-5))\n",
    "print(g(1), g1(1))"
   ]
  },
  {
   "cell_type": "code",
   "execution_count": 35,
   "metadata": {},
   "outputs": [
    {
     "name": "stdout",
     "output_type": "stream",
     "text": [
      "-30\n",
      "-30\n"
     ]
    }
   ],
   "source": [
    "def negate(f):\n",
    "    def fn(x):\n",
    "        return -f(x)\n",
    "    return fn\n",
    "\n",
    "# this is called a decorator\n",
    "@negate\n",
    "def h1(x):\n",
    "    return 3*x\n",
    "print(h1(10))\n",
    "\n",
    "# this is equivalent to\n",
    "def h(x):\n",
    "    return 3*x\n",
    "h2 = negate(h)\n",
    "print(h2(10))"
   ]
  },
  {
   "cell_type": "markdown",
   "metadata": {},
   "source": [
    "# Modules"
   ]
  },
  {
   "cell_type": "code",
   "execution_count": 36,
   "metadata": {},
   "outputs": [],
   "source": [
    "# get acces to more functionality beyond builtins\n",
    "import re # regular expressions"
   ]
  },
  {
   "cell_type": "code",
   "execution_count": 275,
   "metadata": {},
   "outputs": [
    {
     "data": {
      "text/plain": [
       "'their social is xxx-xx-xxxx, fyi'"
      ]
     },
     "execution_count": 275,
     "metadata": {},
     "output_type": "execute_result"
    }
   ],
   "source": [
    "re.sub(r'[0-9]{3}-[0-9]{2}-[0-9]{4}', 'xxx-xx-xxxx', 'their social is 123-45-6789, fyi')"
   ]
  },
  {
   "cell_type": "code",
   "execution_count": 71,
   "metadata": {},
   "outputs": [
    {
     "name": "stdout",
     "output_type": "stream",
     "text": [
      "whats with all this silly punctuation \n"
     ]
    }
   ],
   "source": [
    "s = \"what's with;all, this--silly punctuation!?\"\n",
    "s1 = re.sub(r'[^a-z\\']', ' ', s)\n",
    "s1 = re.sub(r'\\'', '', s1)\n",
    "s1 = re.sub(r' +', ' ', s1)\n",
    "print(s1)"
   ]
  },
  {
   "cell_type": "code",
   "execution_count": 75,
   "metadata": {},
   "outputs": [],
   "source": [
    "from collections import defaultdict"
   ]
  },
  {
   "cell_type": "code",
   "execution_count": 73,
   "metadata": {},
   "outputs": [
    {
     "data": {
      "text/plain": [
       "['the', 'sly', 'fox', 'jumped', 'over', 'the', 'lazy', 'dog']"
      ]
     },
     "execution_count": 73,
     "metadata": {},
     "output_type": "execute_result"
    }
   ],
   "source": [
    "'the sly fox jumped over the lazy dog'.split()"
   ]
  },
  {
   "cell_type": "code",
   "execution_count": 76,
   "metadata": {},
   "outputs": [
    {
     "data": {
      "text/plain": [
       "defaultdict(list,\n",
       "            {3: ['the', 'sly', 'fox', 'the', 'dog'],\n",
       "             4: ['over', 'lazy'],\n",
       "             6: ['jumped']})"
      ]
     },
     "execution_count": 76,
     "metadata": {},
     "output_type": "execute_result"
    }
   ],
   "source": [
    "s = 'the sly fox jumped over the lazy dog'\n",
    "d = defaultdict(list)\n",
    "for w in s.split():\n",
    "    d[len(w)] += [w]\n",
    "d"
   ]
  },
  {
   "cell_type": "code",
   "execution_count": 77,
   "metadata": {},
   "outputs": [
    {
     "data": {
      "text/plain": [
       "{3: 5, 4: 2, 6: 1}"
      ]
     },
     "execution_count": 77,
     "metadata": {},
     "output_type": "execute_result"
    }
   ],
   "source": [
    "{k: len(v) for k, v in d.items()}"
   ]
  },
  {
   "cell_type": "markdown",
   "metadata": {},
   "source": [
    "# Numerics"
   ]
  },
  {
   "cell_type": "code",
   "execution_count": 37,
   "metadata": {},
   "outputs": [],
   "source": [
    "import numpy as np"
   ]
  },
  {
   "cell_type": "code",
   "execution_count": 39,
   "metadata": {},
   "outputs": [
    {
     "data": {
      "text/plain": [
       "array([ 1.,  1.,  1.,  1.,  1.,  1.,  1.,  1.,  1.,  1.])"
      ]
     },
     "execution_count": 39,
     "metadata": {},
     "output_type": "execute_result"
    }
   ],
   "source": [
    "np.ones(10) # similar to matlab"
   ]
  },
  {
   "cell_type": "code",
   "execution_count": 40,
   "metadata": {},
   "outputs": [
    {
     "name": "stdout",
     "output_type": "stream",
     "text": [
      "[ 5  7  9 11 13 15 17 19 21]\n"
     ]
    }
   ],
   "source": [
    "# ranges\n",
    "a = np.arange(5, 22, 2)\n",
    "print(a)"
   ]
  },
  {
   "cell_type": "code",
   "execution_count": 41,
   "metadata": {},
   "outputs": [
    {
     "name": "stdout",
     "output_type": "stream",
     "text": [
      "[0 1 2 3 4 5 6 7 8 9]\n",
      "0\n",
      "[3 4 5 6 7 8 9]\n",
      "[0 1 2 3 4 5 6 7 8]\n",
      "[3 4]\n"
     ]
    }
   ],
   "source": [
    "# indexing\n",
    "a = np.arange(10)\n",
    "print(a)\n",
    "print(a[0]) # zero indexed!\n",
    "print(a[3:]) # no 'end' needed\n",
    "print(a[:-1]) # negatives index from end\n",
    "print(a[3:5]) # second index is non-inclusive"
   ]
  },
  {
   "cell_type": "code",
   "execution_count": 42,
   "metadata": {},
   "outputs": [
    {
     "data": {
      "text/plain": [
       "array([[0],\n",
       "       [1],\n",
       "       [2],\n",
       "       [3],\n",
       "       [4],\n",
       "       [5],\n",
       "       [6],\n",
       "       [7],\n",
       "       [8],\n",
       "       [9]])"
      ]
     },
     "execution_count": 42,
     "metadata": {},
     "output_type": "execute_result"
    }
   ],
   "source": [
    "# adding dimensions with indexing\n",
    "a[:, None]"
   ]
  },
  {
   "cell_type": "code",
   "execution_count": 43,
   "metadata": {},
   "outputs": [
    {
     "data": {
      "text/plain": [
       "array([ 0,  1,  4,  9, 16, 25, 36, 49, 64, 81])"
      ]
     },
     "execution_count": 43,
     "metadata": {},
     "output_type": "execute_result"
    }
   ],
   "source": [
    "# multiplication is element-wise by default (like .* in matlab)\n",
    "np.arange(10)*np.arange(10)"
   ]
  },
  {
   "cell_type": "code",
   "execution_count": 44,
   "metadata": {},
   "outputs": [
    {
     "data": {
      "text/plain": [
       "array([[ 50,  55,  60,  65,  70,  75,  80,  85,  90,  95],\n",
       "       [ 60,  66,  72,  78,  84,  90,  96, 102, 108, 114],\n",
       "       [ 70,  77,  84,  91,  98, 105, 112, 119, 126, 133],\n",
       "       [ 80,  88,  96, 104, 112, 120, 128, 136, 144, 152],\n",
       "       [ 90,  99, 108, 117, 126, 135, 144, 153, 162, 171],\n",
       "       [100, 110, 120, 130, 140, 150, 160, 170, 180, 190],\n",
       "       [110, 121, 132, 143, 154, 165, 176, 187, 198, 209],\n",
       "       [120, 132, 144, 156, 168, 180, 192, 204, 216, 228],\n",
       "       [130, 143, 156, 169, 182, 195, 208, 221, 234, 247],\n",
       "       [140, 154, 168, 182, 196, 210, 224, 238, 252, 266]])"
      ]
     },
     "execution_count": 44,
     "metadata": {},
     "output_type": "execute_result"
    }
   ],
   "source": [
    "# broadcasting is a game changer\n",
    "np.arange(10, 20)[None, :]*np.arange(5,15)[:, None]"
   ]
  },
  {
   "cell_type": "code",
   "execution_count": 45,
   "metadata": {},
   "outputs": [
    {
     "name": "stdout",
     "output_type": "stream",
     "text": [
      "[[ 1.044019    0.21239025 -3.02436342  0.9081785   1.56082451]\n",
      " [ 1.06431227 -0.44812     0.18772224  0.10787091 -0.10572779]\n",
      " [-1.27457126  2.17306024  2.26685874 -1.95926903 -1.29826745]\n",
      " [-0.99451737  3.44402853 -0.48536807 -3.82920305  2.38931793]\n",
      " [ 0.46986832 -4.22734534 -0.0980872   4.50796009  0.11046396]]\n",
      "[[  1.00000000e+00   1.43388829e-16  -9.11764622e-17  -3.12846823e-18\n",
      "    2.92977526e-17]\n",
      " [  1.13349429e-16   1.00000000e+00  -2.80942781e-16   8.62788088e-18\n",
      "    7.27911599e-17]\n",
      " [ -5.47912697e-17  -3.71935143e-16   1.00000000e+00   1.93954854e-17\n",
      "   -2.49462465e-17]\n",
      " [  9.73876990e-17   4.84323891e-16  -3.04490255e-16   1.00000000e+00\n",
      "    3.78805112e-17]\n",
      " [ -9.21138737e-18  -1.49098356e-16  -1.42763439e-16   1.40471220e-16\n",
      "    1.00000000e+00]]\n"
     ]
    }
   ],
   "source": [
    "m = np.random.rand(5, 5)\n",
    "mi = np.linalg.inv(m)\n",
    "print(mi)\n",
    "print(np.dot(m, mi))"
   ]
  },
  {
   "cell_type": "code",
   "execution_count": 46,
   "metadata": {},
   "outputs": [
    {
     "data": {
      "text/plain": [
       "array([3, 3, 3, 2, 2, 0, 1, 2, 2, 3])"
      ]
     },
     "execution_count": 46,
     "metadata": {},
     "output_type": "execute_result"
    }
   ],
   "source": [
    "np.random.randint(5, size=10)"
   ]
  },
  {
   "cell_type": "markdown",
   "metadata": {},
   "source": [
    "# Plotting"
   ]
  },
  {
   "cell_type": "code",
   "execution_count": 47,
   "metadata": {},
   "outputs": [],
   "source": [
    "import matplotlib.pyplot as plt\n",
    "%matplotlib inline"
   ]
  },
  {
   "cell_type": "code",
   "execution_count": 48,
   "metadata": {},
   "outputs": [
    {
     "data": {
      "image/png": "[encoded data removed]",
      "text/plain": [
       "<matplotlib.figure.Figure at 0x7fcc58213b00>"
      ]
     },
     "metadata": {},
     "output_type": "display_data"
    }
   ],
   "source": [
    "plt.plot(np.arange(10));"
   ]
  },
  {
   "cell_type": "code",
   "execution_count": 49,
   "metadata": {},
   "outputs": [
    {
     "data": {
      "image/png": "[encoded data removed]",
      "text/plain": [
       "<matplotlib.figure.Figure at 0x7fcc58ca5898>"
      ]
     },
     "metadata": {},
     "output_type": "display_data"
    }
   ],
   "source": [
    "plt.hist(np.random.randn(1000));"
   ]
  },
  {
   "cell_type": "markdown",
   "metadata": {},
   "source": [
    "## Exercise 1"
   ]
  },
  {
   "cell_type": "markdown",
   "metadata": {},
   "source": [
    "1. Generate a bunch of random sentences\n",
    "2. Compute word counts and word frequencies for each\n",
    "3. Plot distribution of frequency and log frequency"
   ]
  },
  {
   "cell_type": "markdown",
   "metadata": {},
   "source": [
    "## More Plotting"
   ]
  },
  {
   "cell_type": "code",
   "execution_count": 51,
   "metadata": {},
   "outputs": [
    {
     "data": {
      "image/png": "[encoded data removed]",
      "text/plain": [
       "<matplotlib.figure.Figure at 0x7fcc4f401470>"
      ]
     },
     "metadata": {},
     "output_type": "display_data"
    }
   ],
   "source": [
    "plt.plot(np.cumsum(np.random.randn(1000)));"
   ]
  },
  {
   "cell_type": "code",
   "execution_count": 54,
   "metadata": {},
   "outputs": [
    {
     "data": {
      "image/png": "[encoded data removed]",
      "text/plain": [
       "<matplotlib.figure.Figure at 0x7fcc4f29c908>"
      ]
     },
     "metadata": {},
     "output_type": "display_data"
    }
   ],
   "source": [
    "plt.plot(np.cumsum(np.random.randn(1000,2), axis=0));"
   ]
  },
  {
   "cell_type": "code",
   "execution_count": 55,
   "metadata": {},
   "outputs": [
    {
     "name": "stdout",
     "output_type": "stream",
     "text": [
      "[-0.77360865  0.7690861 ]\n"
     ]
    },
    {
     "data": {
      "image/png": "[encoded data removed]",
      "text/plain": [
       "<matplotlib.figure.Figure at 0x7fcc4f2d5fd0>"
      ]
     },
     "metadata": {},
     "output_type": "display_data"
    }
   ],
   "source": [
    "N = 10000\n",
    "rhos = np.array([np.corrcoef(np.cumsum(np.random.randn(1000,2), axis=0).T)[0, 1] for _ in range(N)])\n",
    "print(np.percentile(rhos, [5, 95]))\n",
    "plt.hist(rhos, bins=50);"
   ]
  },
  {
   "cell_type": "code",
   "execution_count": 56,
   "metadata": {},
   "outputs": [
    {
     "name": "stdout",
     "output_type": "stream",
     "text": [
      "[-0.05086248  0.0511035 ]\n"
     ]
    },
    {
     "data": {
      "image/png": "[encoded data removed]",
      "text/plain": [
       "<matplotlib.figure.Figure at 0x7fcc4f190cc0>"
      ]
     },
     "metadata": {},
     "output_type": "display_data"
    }
   ],
   "source": [
    "N = 10000\n",
    "rhos = np.array([np.corrcoef(np.random.randn(1000,2).T)[0, 1] for _ in range(N)])\n",
    "print(np.percentile(rhos, [5, 95]))\n",
    "plt.hist(rhos, bins=50);"
   ]
  },
  {
   "cell_type": "markdown",
   "metadata": {},
   "source": [
    "## Exercise 2"
   ]
  },
  {
   "cell_type": "markdown",
   "metadata": {},
   "source": [
    "Do the same but for an AR(1)."
   ]
  },
  {
   "cell_type": "markdown",
   "metadata": {},
   "source": [
    "# Input/Output"
   ]
  },
  {
   "cell_type": "code",
   "execution_count": 57,
   "metadata": {},
   "outputs": [
    {
     "data": {
      "text/plain": [
       "array([[ 0.21857522,  0.40393979,  0.7507703 ,  0.41469988,  0.044896  ],\n",
       "       [ 0.24180499,  0.28410932,  0.90171449,  0.51762595,  0.49381952],\n",
       "       [ 0.63232939,  0.78203627,  0.67135119,  0.33606429,  0.27080013],\n",
       "       [ 0.61109404,  0.77679083,  0.20946718,  0.95247438,  0.55506111],\n",
       "       [ 0.24812484,  0.51877237,  0.0640388 ,  0.47600016,  0.62867719],\n",
       "       [ 0.25314303,  0.34341835,  0.42999368,  0.33158092,  0.89939705],\n",
       "       [ 0.89251079,  0.40648178,  0.33909666,  0.56160817,  0.6388904 ],\n",
       "       [ 0.83357118,  0.45807623,  0.22498802,  0.4538373 ,  0.37052415],\n",
       "       [ 0.1447984 ,  0.88305723,  0.11304306,  0.47013402,  0.00244389],\n",
       "       [ 0.2505036 ,  0.2359758 ,  0.70633636,  0.59108764,  0.60897602],\n",
       "       [ 0.88022523,  0.28625514,  0.92758188,  0.1395076 ,  0.86904073],\n",
       "       [ 0.92327563,  0.06125425,  0.74109808,  0.45021734,  0.98575545],\n",
       "       [ 0.39526664,  0.45369229,  0.9512302 ,  0.58217112,  0.65622309],\n",
       "       [ 0.34582424,  0.28489455,  0.22251211,  0.15903508,  0.77177325],\n",
       "       [ 0.1296889 ,  0.62019029,  0.31812007,  0.82227394,  0.76858947],\n",
       "       [ 0.56793099,  0.11979829,  0.78373846,  0.51889056,  0.50600027],\n",
       "       [ 0.26029787,  0.37632343,  0.98700242,  0.33237966,  0.2116848 ],\n",
       "       [ 0.78891792,  0.15412124,  0.2509396 ,  0.32668305,  0.68719462],\n",
       "       [ 0.10321056,  0.12413356,  0.95381784,  0.89052657,  0.5565131 ],\n",
       "       [ 0.88208461,  0.19531527,  0.81960646,  0.78241239,  0.14224427],\n",
       "       [ 0.76974064,  0.81859283,  0.31128554,  0.71477229,  0.81461603],\n",
       "       [ 0.42952327,  0.43093478,  0.32178787,  0.39154645,  0.43223273],\n",
       "       [ 0.05370957,  0.69448717,  0.21492247,  0.41678475,  0.57154219],\n",
       "       [ 0.11573847,  0.63088261,  0.70142295,  0.01999564,  0.67177787],\n",
       "       [ 0.62288863,  0.3247289 ,  0.80763833,  0.91530265,  0.18048308],\n",
       "       [ 0.60371884,  0.65747768,  0.35531027,  0.20552604,  0.35467625],\n",
       "       [ 0.62658601,  0.47033842,  0.84178977,  0.889713  ,  0.11746938],\n",
       "       [ 0.88344459,  0.02299419,  0.46636356,  0.50726747,  0.46473965],\n",
       "       [ 0.17823531,  0.48297779,  0.1135155 ,  0.79303312,  0.97957777],\n",
       "       [ 0.10198926,  0.54477215,  0.58984476,  0.25477868,  0.85990915]])"
      ]
     },
     "execution_count": 57,
     "metadata": {},
     "output_type": "execute_result"
    }
   ],
   "source": [
    "N, M = 30, 5\n",
    "dat = np.random.rand(N, M)\n",
    "dat"
   ]
  },
  {
   "cell_type": "code",
   "execution_count": 58,
   "metadata": {},
   "outputs": [],
   "source": [
    "fid = open('test.csv', 'w+')\n",
    "fid.write(','.join([f'col{i}' for i in range(dat.shape[1])])+'\\n')\n",
    "for row in dat:\n",
    "    fid.write(','.join([f'{x:.5f}' for x in row])+'\\n')\n",
    "fid.close()"
   ]
  },
  {
   "cell_type": "code",
   "execution_count": 59,
   "metadata": {},
   "outputs": [
    {
     "name": "stdout",
     "output_type": "stream",
     "text": [
      "col0,col1,col2,col3,col4\n",
      "0.21858,0.40394,0.75077,0.41470,0.04490\n",
      "0.24180,0.28411,0.90171,0.51763,0.49382\n",
      "0.63233,0.78204,0.67135,0.33606,0.27080\n",
      "0.61109,0.77679,0.20947,0.95247,0.55506\n",
      "0.24812,0.51877,0.06404,0.47600,0.62868\n",
      "0.25314,0.34342,0.42999,0.33158,0.89940\n",
      "0.89251,0.40648,0.33910,0.56161,0.63889\n",
      "0.83357,0.45808,0.22499,0.45384,0.37052\n",
      "0.14480,0.88306,0.11304,0.47013,0.00244\n",
      "0.25050,0.23598,0.70634,0.59109,0.60898\n",
      "0.88023,0.28626,0.92758,0.13951,0.86904\n",
      "0.92328,0.06125,0.74110,0.45022,0.98576\n",
      "0.39527,0.45369,0.95123,0.58217,0.65622\n",
      "0.34582,0.28489,0.22251,0.15904,0.77177\n",
      "0.12969,0.62019,0.31812,0.82227,0.76859\n",
      "0.56793,0.11980,0.78374,0.51889,0.50600\n",
      "0.26030,0.37632,0.98700,0.33238,0.21168\n",
      "0.78892,0.15412,0.25094,0.32668,0.68719\n",
      "0.10321,0.12413,0.95382,0.89053,0.55651\n",
      "0.88208,0.19532,0.81961,0.78241,0.14224\n",
      "0.76974,0.81859,0.31129,0.71477,0.81462\n",
      "0.42952,0.43093,0.32179,0.39155,0.43223\n",
      "0.05371,0.69449,0.21492,0.41678,0.57154\n",
      "0.11574,0.63088,0.70142,0.02000,0.67178\n",
      "0.62289,0.32473,0.80764,0.91530,0.18048\n",
      "0.60372,0.65748,0.35531,0.20553,0.35468\n",
      "0.62659,0.47034,0.84179,0.88971,0.11747\n",
      "0.88344,0.02299,0.46636,0.50727,0.46474\n",
      "0.17824,0.48298,0.11352,0.79303,0.97958\n",
      "0.10199,0.54477,0.58984,0.25478,0.85991\n",
      "\n"
     ]
    }
   ],
   "source": [
    "fid = open('test.csv')\n",
    "print(fid.read())"
   ]
  },
  {
   "cell_type": "code",
   "execution_count": 60,
   "metadata": {},
   "outputs": [
    {
     "name": "stdout",
     "output_type": "stream",
     "text": [
      "['col0', 'col1', 'col2', 'col3', 'col4']\n"
     ]
    },
    {
     "data": {
      "text/plain": [
       "array([[ 0.21858,  0.40394,  0.75077,  0.4147 ,  0.0449 ],\n",
       "       [ 0.2418 ,  0.28411,  0.90171,  0.51763,  0.49382],\n",
       "       [ 0.63233,  0.78204,  0.67135,  0.33606,  0.2708 ],\n",
       "       [ 0.61109,  0.77679,  0.20947,  0.95247,  0.55506],\n",
       "       [ 0.24812,  0.51877,  0.06404,  0.476  ,  0.62868],\n",
       "       [ 0.25314,  0.34342,  0.42999,  0.33158,  0.8994 ],\n",
       "       [ 0.89251,  0.40648,  0.3391 ,  0.56161,  0.63889],\n",
       "       [ 0.83357,  0.45808,  0.22499,  0.45384,  0.37052],\n",
       "       [ 0.1448 ,  0.88306,  0.11304,  0.47013,  0.00244],\n",
       "       [ 0.2505 ,  0.23598,  0.70634,  0.59109,  0.60898],\n",
       "       [ 0.88023,  0.28626,  0.92758,  0.13951,  0.86904],\n",
       "       [ 0.92328,  0.06125,  0.7411 ,  0.45022,  0.98576],\n",
       "       [ 0.39527,  0.45369,  0.95123,  0.58217,  0.65622],\n",
       "       [ 0.34582,  0.28489,  0.22251,  0.15904,  0.77177],\n",
       "       [ 0.12969,  0.62019,  0.31812,  0.82227,  0.76859],\n",
       "       [ 0.56793,  0.1198 ,  0.78374,  0.51889,  0.506  ],\n",
       "       [ 0.2603 ,  0.37632,  0.987  ,  0.33238,  0.21168],\n",
       "       [ 0.78892,  0.15412,  0.25094,  0.32668,  0.68719],\n",
       "       [ 0.10321,  0.12413,  0.95382,  0.89053,  0.55651],\n",
       "       [ 0.88208,  0.19532,  0.81961,  0.78241,  0.14224],\n",
       "       [ 0.76974,  0.81859,  0.31129,  0.71477,  0.81462],\n",
       "       [ 0.42952,  0.43093,  0.32179,  0.39155,  0.43223],\n",
       "       [ 0.05371,  0.69449,  0.21492,  0.41678,  0.57154],\n",
       "       [ 0.11574,  0.63088,  0.70142,  0.02   ,  0.67178],\n",
       "       [ 0.62289,  0.32473,  0.80764,  0.9153 ,  0.18048],\n",
       "       [ 0.60372,  0.65748,  0.35531,  0.20553,  0.35468],\n",
       "       [ 0.62659,  0.47034,  0.84179,  0.88971,  0.11747],\n",
       "       [ 0.88344,  0.02299,  0.46636,  0.50727,  0.46474],\n",
       "       [ 0.17824,  0.48298,  0.11352,  0.79303,  0.97958],\n",
       "       [ 0.10199,  0.54477,  0.58984,  0.25478,  0.85991]])"
      ]
     },
     "execution_count": 60,
     "metadata": {},
     "output_type": "execute_result"
    }
   ],
   "source": [
    "fid = open('test.csv')\n",
    "rows = list(fid)\n",
    "names = rows[0].strip().split(',')\n",
    "rdat = np.array([x.strip().split(',') for x in rows[1:]]).astype(np.float)\n",
    "print(names)\n",
    "rdat"
   ]
  },
  {
   "cell_type": "markdown",
   "metadata": {},
   "source": [
    "# The Web"
   ]
  },
  {
   "cell_type": "code",
   "execution_count": 1,
   "metadata": {},
   "outputs": [],
   "source": [
    "from urllib.request import urlopen"
   ]
  },
  {
   "cell_type": "code",
   "execution_count": 2,
   "metadata": {},
   "outputs": [],
   "source": [
    "ret = urlopen('https://econ.tepper.cmu.edu/seminars/seminar.asp?sort=1&short=Y')"
   ]
  },
  {
   "cell_type": "code",
   "execution_count": 3,
   "metadata": {},
   "outputs": [],
   "source": [
    "text = ret.read()"
   ]
  },
  {
   "cell_type": "code",
   "execution_count": 4,
   "metadata": {},
   "outputs": [],
   "source": [
    "from bs4 import BeautifulSoup"
   ]
  },
  {
   "cell_type": "code",
   "execution_count": 5,
   "metadata": {},
   "outputs": [
    {
     "name": "stderr",
     "output_type": "stream",
     "text": [
      "/Users/doug/Library/Python/3.6/lib/python/site-packages/bs4/__init__.py:181: UserWarning: No parser was explicitly specified, so I'm using the best available HTML parser for this system (\"html5lib\"). This usually isn't a problem, but if you run this code on another system, or in a different virtual environment, it may use a different parser and behave differently.\n",
      "\n",
      "The code that caused this warning is on line 193 of the file /usr/local/Cellar/python3/3.6.2/Frameworks/Python.framework/Versions/3.6/lib/python3.6/runpy.py. To get rid of this warning, change code that looks like this:\n",
      "\n",
      " BeautifulSoup(YOUR_MARKUP})\n",
      "\n",
      "to this:\n",
      "\n",
      " BeautifulSoup(YOUR_MARKUP, \"html5lib\")\n",
      "\n",
      "  markup_type=markup_type))\n"
     ]
    }
   ],
   "source": [
    "tree = BeautifulSoup(text)"
   ]
  },
  {
   "cell_type": "code",
   "execution_count": 6,
   "metadata": {},
   "outputs": [],
   "source": [
    "tabs = tree.find_all('table')"
   ]
  },
  {
   "cell_type": "code",
   "execution_count": 7,
   "metadata": {},
   "outputs": [],
   "source": [
    "# drop beginning, end, and week headers\n",
    "rtabs = [tab for tab in tabs[3:-1] if 'Seminars for Week of' not in tab.text]"
   ]
  },
  {
   "cell_type": "code",
   "execution_count": 8,
   "metadata": {},
   "outputs": [],
   "source": [
    "# divide into chunks\n",
    "ctabs = [rtabs[i:i+3] for i in range(0, len(rtabs), 3)]"
   ]
  },
  {
   "cell_type": "code",
   "execution_count": 14,
   "metadata": {},
   "outputs": [],
   "source": [
    "def tab_summary(tab):\n",
    "    info = {}\n",
    "    speak = tab[0].tr.td.text.strip()\n",
    "    if '\\n' in speak:\n",
    "        name, inst = speak.split('\\n')\n",
    "    else:\n",
    "        name, inst = speak, ''\n",
    "    inst = inst.split(',')[1].strip() if ',' in inst else inst\n",
    "    title = tab[1].tr.td.b.text\n",
    "    info['name'] = name\n",
    "    info['institution'] = inst\n",
    "    info['title'] = title\n",
    "    return info\n",
    "tsums = [tab_summary(tab) for tab in ctabs]"
   ]
  },
  {
   "cell_type": "code",
   "execution_count": 15,
   "metadata": {},
   "outputs": [
    {
     "data": {
      "text/html": [
       "<div>\n",
       "<style>\n",
       "    .dataframe thead tr:only-child th {\n",
       "        text-align: right;\n",
       "    }\n",
       "\n",
       "    .dataframe thead th {\n",
       "        text-align: left;\n",
       "    }\n",
       "\n",
       "    .dataframe tbody tr th {\n",
       "        vertical-align: top;\n",
       "    }\n",
       "</style>\n",
       "<table border=\"1\" class=\"dataframe\">\n",
       "  <thead>\n",
       "    <tr style=\"text-align: right;\">\n",
       "      <th></th>\n",
       "      <th>institution</th>\n",
       "      <th>name</th>\n",
       "      <th>title</th>\n",
       "    </tr>\n",
       "  </thead>\n",
       "  <tbody>\n",
       "    <tr>\n",
       "      <th>0</th>\n",
       "      <td>Stanford University</td>\n",
       "      <td>Ran Abramitzky</td>\n",
       "      <td>Cultural Assimilation During The Two Ages Of M...</td>\n",
       "    </tr>\n",
       "    <tr>\n",
       "      <th>1</th>\n",
       "      <td></td>\n",
       "      <td>Mila Sanina, Ex Dir &amp; Editor of Public Source ...</td>\n",
       "      <td>Displacement in the Global Business Environment</td>\n",
       "    </tr>\n",
       "    <tr>\n",
       "      <th>2</th>\n",
       "      <td>London Business School</td>\n",
       "      <td>Alex Edmans</td>\n",
       "      <td>The Effect of Diversification on Price Informa...</td>\n",
       "    </tr>\n",
       "    <tr>\n",
       "      <th>3</th>\n",
       "      <td>Disney Research/CMU</td>\n",
       "      <td>Maarten Bos</td>\n",
       "      <td>Behavioral Science at Disney Research</td>\n",
       "    </tr>\n",
       "    <tr>\n",
       "      <th>4</th>\n",
       "      <td>NYU Stern</td>\n",
       "      <td>Gal Oestreicher-Singer</td>\n",
       "      <td>Gal-TBA</td>\n",
       "    </tr>\n",
       "    <tr>\n",
       "      <th>5</th>\n",
       "      <td>Stanford University</td>\n",
       "      <td>Dana Foarta</td>\n",
       "      <td>Avoiding The Cost Of A Bad Hire: On The Optima...</td>\n",
       "    </tr>\n",
       "    <tr>\n",
       "      <th>6</th>\n",
       "      <td>Carnegie Mellon University</td>\n",
       "      <td>John Hooker</td>\n",
       "      <td>Finding Alternative Musical Scales</td>\n",
       "    </tr>\n",
       "    <tr>\n",
       "      <th>7</th>\n",
       "      <td>Visiting the Tepper School</td>\n",
       "      <td>Stefan Lewellen</td>\n",
       "      <td>TBA/Lewellen</td>\n",
       "    </tr>\n",
       "    <tr>\n",
       "      <th>8</th>\n",
       "      <td>Washington University in St. Louis</td>\n",
       "      <td>Stuart Bunderson</td>\n",
       "      <td>Diversity and inequality in management teams: ...</td>\n",
       "    </tr>\n",
       "    <tr>\n",
       "      <th>9</th>\n",
       "      <td>Boston University</td>\n",
       "      <td>Adam Guren</td>\n",
       "      <td>Mortgage Design In An Equilibrium Model Of The...</td>\n",
       "    </tr>\n",
       "    <tr>\n",
       "      <th>10</th>\n",
       "      <td>University of Pittsburgh</td>\n",
       "      <td>Osea Giuntella</td>\n",
       "      <td>Immigrant Legalization, Health, &amp; Demand For Care</td>\n",
       "    </tr>\n",
       "    <tr>\n",
       "      <th>11</th>\n",
       "      <td>Carnegie Mellon University</td>\n",
       "      <td>Yeonjeong Kim</td>\n",
       "      <td>Dissertation Defense--Text-Based Unethical Beh...</td>\n",
       "    </tr>\n",
       "    <tr>\n",
       "      <th>12</th>\n",
       "      <td>University of Toronto</td>\n",
       "      <td>Heski Bar-Isaac</td>\n",
       "      <td>Adverse Selection, Efficiency and the Structur...</td>\n",
       "    </tr>\n",
       "    <tr>\n",
       "      <th>13</th>\n",
       "      <td>Carnegie Mellon University</td>\n",
       "      <td>Atanu Paul</td>\n",
       "      <td>TBA/Paul</td>\n",
       "    </tr>\n",
       "    <tr>\n",
       "      <th>14</th>\n",
       "      <td>Rice University</td>\n",
       "      <td>Cyrus Mody</td>\n",
       "      <td>Mody-TBA</td>\n",
       "    </tr>\n",
       "    <tr>\n",
       "      <th>15</th>\n",
       "      <td>Stanford University</td>\n",
       "      <td>Mohammad Akbarpout</td>\n",
       "      <td>TBA/Akbarpour</td>\n",
       "    </tr>\n",
       "    <tr>\n",
       "      <th>16</th>\n",
       "      <td>NYU Stern</td>\n",
       "      <td>Daria Dzyabura</td>\n",
       "      <td>Capturing Heterogeneity Among Consumers with M...</td>\n",
       "    </tr>\n",
       "    <tr>\n",
       "      <th>17</th>\n",
       "      <td>Stanford University</td>\n",
       "      <td>Margaret Brandeau</td>\n",
       "      <td>What Should We Do About the Opioid Epidemic? M...</td>\n",
       "    </tr>\n",
       "    <tr>\n",
       "      <th>18</th>\n",
       "      <td>University of Minnesota</td>\n",
       "      <td>Kyle Herkenhoff</td>\n",
       "      <td>TBA/Herkenhoff</td>\n",
       "    </tr>\n",
       "    <tr>\n",
       "      <th>19</th>\n",
       "      <td>PhD Candidate</td>\n",
       "      <td>Jordan Bable</td>\n",
       "      <td>How Do Investors React to Corporate Political ...</td>\n",
       "    </tr>\n",
       "    <tr>\n",
       "      <th>20</th>\n",
       "      <td>Carnegie Mellon University</td>\n",
       "      <td>Brandy Aven</td>\n",
       "      <td>The Valley of Trust: The Effect of Relational ...</td>\n",
       "    </tr>\n",
       "    <tr>\n",
       "      <th>21</th>\n",
       "      <td>Penn State</td>\n",
       "      <td>Ross Doppelt</td>\n",
       "      <td>TBA/Doppelt</td>\n",
       "    </tr>\n",
       "    <tr>\n",
       "      <th>22</th>\n",
       "      <td>University of Pittsburgh</td>\n",
       "      <td>Willie Choi</td>\n",
       "      <td>BRING THE NOISE, BUT NOT THE FUNK: DOES THE EF...</td>\n",
       "    </tr>\n",
       "    <tr>\n",
       "      <th>23</th>\n",
       "      <td>Carnegie Mellon University</td>\n",
       "      <td>Erica VanSant</td>\n",
       "      <td>Health, Health Insurance and Employment: A Dyn...</td>\n",
       "    </tr>\n",
       "    <tr>\n",
       "      <th>24</th>\n",
       "      <td>Northwestern University</td>\n",
       "      <td>Karen R. Smilowitz</td>\n",
       "      <td>Robust bus route design: linking support servi...</td>\n",
       "    </tr>\n",
       "    <tr>\n",
       "      <th>25</th>\n",
       "      <td>USC</td>\n",
       "      <td>Antonio Bento</td>\n",
       "      <td>Bento-TBA</td>\n",
       "    </tr>\n",
       "    <tr>\n",
       "      <th>26</th>\n",
       "      <td>Harvard University</td>\n",
       "      <td>Heather Sarsons</td>\n",
       "      <td>Interpreting Signals: Evidence from Doctor Ref...</td>\n",
       "    </tr>\n",
       "    <tr>\n",
       "      <th>27</th>\n",
       "      <td>IBM Chief Environmental Executive</td>\n",
       "      <td>Wayne S. Balta</td>\n",
       "      <td>Environmental Leadership: From Control, Preven...</td>\n",
       "    </tr>\n",
       "    <tr>\n",
       "      <th>28</th>\n",
       "      <td>Princeton University</td>\n",
       "      <td>Stephen Morris</td>\n",
       "      <td>MORRIS--TBA</td>\n",
       "    </tr>\n",
       "    <tr>\n",
       "      <th>29</th>\n",
       "      <td>Johns Hopkins Univ. Carey Business School</td>\n",
       "      <td>Tinglong Dai</td>\n",
       "      <td>Dai-TBA</td>\n",
       "    </tr>\n",
       "    <tr>\n",
       "      <th>...</th>\n",
       "      <td>...</td>\n",
       "      <td>...</td>\n",
       "      <td>...</td>\n",
       "    </tr>\n",
       "    <tr>\n",
       "      <th>116</th>\n",
       "      <td>Indiana University</td>\n",
       "      <td>Mike Jones</td>\n",
       "      <td>TBA/Jones</td>\n",
       "    </tr>\n",
       "    <tr>\n",
       "      <th>117</th>\n",
       "      <td>Carnegie Mellon University</td>\n",
       "      <td>Alan Montgomery</td>\n",
       "      <td>Montgomery-TBA</td>\n",
       "    </tr>\n",
       "    <tr>\n",
       "      <th>118</th>\n",
       "      <td>MIT</td>\n",
       "      <td>Drew Fudenberg</td>\n",
       "      <td>FUDENBERG--TBA</td>\n",
       "    </tr>\n",
       "    <tr>\n",
       "      <th>119</th>\n",
       "      <td>Washington University at St. Louis</td>\n",
       "      <td>Rachael Ruttan</td>\n",
       "      <td>TBA/Ruttman</td>\n",
       "    </tr>\n",
       "    <tr>\n",
       "      <th>120</th>\n",
       "      <td>UC</td>\n",
       "      <td>Clayton Critcher</td>\n",
       "      <td>TBA/Critcher</td>\n",
       "    </tr>\n",
       "    <tr>\n",
       "      <th>121</th>\n",
       "      <td>University of Pennsylvania</td>\n",
       "      <td>George Mailath</td>\n",
       "      <td>TBA/Mailath</td>\n",
       "    </tr>\n",
       "    <tr>\n",
       "      <th>122</th>\n",
       "      <td>University of Michigan</td>\n",
       "      <td>Gautam Ahuja</td>\n",
       "      <td>TBA/Ahuja</td>\n",
       "    </tr>\n",
       "    <tr>\n",
       "      <th>123</th>\n",
       "      <td>Stanford University</td>\n",
       "      <td>Luigi Pistaferri</td>\n",
       "      <td>Pistaferri--TBA</td>\n",
       "    </tr>\n",
       "    <tr>\n",
       "      <th>124</th>\n",
       "      <td>Harvard Business School</td>\n",
       "      <td>Ethan  Bernstein</td>\n",
       "      <td>Bernstein - TBA</td>\n",
       "    </tr>\n",
       "    <tr>\n",
       "      <th>125</th>\n",
       "      <td>University of Michigan</td>\n",
       "      <td>Betsey Stevenson</td>\n",
       "      <td>STEVENSON--TBA</td>\n",
       "    </tr>\n",
       "    <tr>\n",
       "      <th>126</th>\n",
       "      <td>Northwestern University</td>\n",
       "      <td>Mar Reguant</td>\n",
       "      <td>Reguant-TBA</td>\n",
       "    </tr>\n",
       "    <tr>\n",
       "      <th>127</th>\n",
       "      <td>MIT</td>\n",
       "      <td>David Thesmar</td>\n",
       "      <td>TBA/Thesmar</td>\n",
       "    </tr>\n",
       "    <tr>\n",
       "      <th>128</th>\n",
       "      <td>Brown University</td>\n",
       "      <td>Jesse Shapiro</td>\n",
       "      <td>TBA/Shapiro</td>\n",
       "    </tr>\n",
       "    <tr>\n",
       "      <th>129</th>\n",
       "      <td>University of Toronto</td>\n",
       "      <td>Colin Stewart</td>\n",
       "      <td>STEWARD--TBA</td>\n",
       "    </tr>\n",
       "    <tr>\n",
       "      <th>130</th>\n",
       "      <td>Yale University</td>\n",
       "      <td>Aleh Tsyvinski</td>\n",
       "      <td>TBA/Tsyvinski</td>\n",
       "    </tr>\n",
       "    <tr>\n",
       "      <th>131</th>\n",
       "      <td>UCLA</td>\n",
       "      <td>Randy Bucklin</td>\n",
       "      <td>Bucklin-TBA</td>\n",
       "    </tr>\n",
       "    <tr>\n",
       "      <th>132</th>\n",
       "      <td>Paris School of Economics</td>\n",
       "      <td>Francis Bloch</td>\n",
       "      <td>TBA/Bloch</td>\n",
       "    </tr>\n",
       "    <tr>\n",
       "      <th>133</th>\n",
       "      <td>University of Arizona</td>\n",
       "      <td>Martin Dufwenberg</td>\n",
       "      <td>TBA/Dufwenberg</td>\n",
       "    </tr>\n",
       "    <tr>\n",
       "      <th>134</th>\n",
       "      <td>MIT</td>\n",
       "      <td>Xavier Giroud</td>\n",
       "      <td>TBA-Giroud</td>\n",
       "    </tr>\n",
       "    <tr>\n",
       "      <th>135</th>\n",
       "      <td>Columbia University</td>\n",
       "      <td>Peter Bergman</td>\n",
       "      <td>BERGMAN--TBA</td>\n",
       "    </tr>\n",
       "    <tr>\n",
       "      <th>136</th>\n",
       "      <td>University of Wisconsin</td>\n",
       "      <td>Oliver Levine</td>\n",
       "      <td>TBA/Levine</td>\n",
       "    </tr>\n",
       "    <tr>\n",
       "      <th>137</th>\n",
       "      <td>University of Hawaii</td>\n",
       "      <td>Ruben Juarez</td>\n",
       "      <td>TBA/Juarez</td>\n",
       "    </tr>\n",
       "    <tr>\n",
       "      <th>138</th>\n",
       "      <td>University of Minnesota</td>\n",
       "      <td>Jeremy Lise</td>\n",
       "      <td>LISE--TBA</td>\n",
       "    </tr>\n",
       "    <tr>\n",
       "      <th>139</th>\n",
       "      <td>Northwestern University</td>\n",
       "      <td>Nour Sami Kteily</td>\n",
       "      <td>TBA/Kteily</td>\n",
       "    </tr>\n",
       "    <tr>\n",
       "      <th>140</th>\n",
       "      <td>MIT</td>\n",
       "      <td>Duncan Simester</td>\n",
       "      <td>Simester-TBA</td>\n",
       "    </tr>\n",
       "    <tr>\n",
       "      <th>141</th>\n",
       "      <td>Carnegie Mellon University</td>\n",
       "      <td>Burton Hollifield</td>\n",
       "      <td>TBA/Burton Hollifield</td>\n",
       "    </tr>\n",
       "    <tr>\n",
       "      <th>142</th>\n",
       "      <td>Boston University</td>\n",
       "      <td>Robert Metcalfe</td>\n",
       "      <td>TBA/Metcalfe</td>\n",
       "    </tr>\n",
       "    <tr>\n",
       "      <th>143</th>\n",
       "      <td>University of California</td>\n",
       "      <td>Peter Rupert</td>\n",
       "      <td>TBA/Rupert</td>\n",
       "    </tr>\n",
       "    <tr>\n",
       "      <th>144</th>\n",
       "      <td>University of Notre Dame</td>\n",
       "      <td>Abigail Wozniak</td>\n",
       "      <td>Wozniak-TBA</td>\n",
       "    </tr>\n",
       "    <tr>\n",
       "      <th>145</th>\n",
       "      <td>University of Pittsburgh</td>\n",
       "      <td>Jeff Inman</td>\n",
       "      <td>Inman-TBA</td>\n",
       "    </tr>\n",
       "  </tbody>\n",
       "</table>\n",
       "<p>146 rows × 3 columns</p>\n",
       "</div>"
      ],
      "text/plain": [
       "                                   institution  \\\n",
       "0                          Stanford University   \n",
       "1                                                \n",
       "2                       London Business School   \n",
       "3                          Disney Research/CMU   \n",
       "4                                    NYU Stern   \n",
       "5                          Stanford University   \n",
       "6                   Carnegie Mellon University   \n",
       "7                   Visiting the Tepper School   \n",
       "8           Washington University in St. Louis   \n",
       "9                            Boston University   \n",
       "10                    University of Pittsburgh   \n",
       "11                  Carnegie Mellon University   \n",
       "12                       University of Toronto   \n",
       "13                  Carnegie Mellon University   \n",
       "14                             Rice University   \n",
       "15                         Stanford University   \n",
       "16                                   NYU Stern   \n",
       "17                         Stanford University   \n",
       "18                     University of Minnesota   \n",
       "19                               PhD Candidate   \n",
       "20                  Carnegie Mellon University   \n",
       "21                                  Penn State   \n",
       "22                    University of Pittsburgh   \n",
       "23                  Carnegie Mellon University   \n",
       "24                     Northwestern University   \n",
       "25                                         USC   \n",
       "26                          Harvard University   \n",
       "27           IBM Chief Environmental Executive   \n",
       "28                        Princeton University   \n",
       "29   Johns Hopkins Univ. Carey Business School   \n",
       "..                                         ...   \n",
       "116                         Indiana University   \n",
       "117                 Carnegie Mellon University   \n",
       "118                                        MIT   \n",
       "119         Washington University at St. Louis   \n",
       "120                                         UC   \n",
       "121                 University of Pennsylvania   \n",
       "122                     University of Michigan   \n",
       "123                        Stanford University   \n",
       "124                    Harvard Business School   \n",
       "125                     University of Michigan   \n",
       "126                    Northwestern University   \n",
       "127                                        MIT   \n",
       "128                           Brown University   \n",
       "129                      University of Toronto   \n",
       "130                            Yale University   \n",
       "131                                       UCLA   \n",
       "132                  Paris School of Economics   \n",
       "133                      University of Arizona   \n",
       "134                                        MIT   \n",
       "135                        Columbia University   \n",
       "136                    University of Wisconsin   \n",
       "137                       University of Hawaii   \n",
       "138                    University of Minnesota   \n",
       "139                    Northwestern University   \n",
       "140                                        MIT   \n",
       "141                 Carnegie Mellon University   \n",
       "142                          Boston University   \n",
       "143                   University of California   \n",
       "144                   University of Notre Dame   \n",
       "145                   University of Pittsburgh   \n",
       "\n",
       "                                                  name  \\\n",
       "0                                       Ran Abramitzky   \n",
       "1    Mila Sanina, Ex Dir & Editor of Public Source ...   \n",
       "2                                          Alex Edmans   \n",
       "3                                          Maarten Bos   \n",
       "4                               Gal Oestreicher-Singer   \n",
       "5                                          Dana Foarta   \n",
       "6                                          John Hooker   \n",
       "7                                      Stefan Lewellen   \n",
       "8                                     Stuart Bunderson   \n",
       "9                                           Adam Guren   \n",
       "10                                      Osea Giuntella   \n",
       "11                                       Yeonjeong Kim   \n",
       "12                                     Heski Bar-Isaac   \n",
       "13                                          Atanu Paul   \n",
       "14                                          Cyrus Mody   \n",
       "15                                  Mohammad Akbarpout   \n",
       "16                                      Daria Dzyabura   \n",
       "17                                   Margaret Brandeau   \n",
       "18                                     Kyle Herkenhoff   \n",
       "19                                        Jordan Bable   \n",
       "20                                         Brandy Aven   \n",
       "21                                        Ross Doppelt   \n",
       "22                                         Willie Choi   \n",
       "23                                       Erica VanSant   \n",
       "24                                  Karen R. Smilowitz   \n",
       "25                                       Antonio Bento   \n",
       "26                                     Heather Sarsons   \n",
       "27                                      Wayne S. Balta   \n",
       "28                                      Stephen Morris   \n",
       "29                                        Tinglong Dai   \n",
       "..                                                 ...   \n",
       "116                                         Mike Jones   \n",
       "117                                    Alan Montgomery   \n",
       "118                                     Drew Fudenberg   \n",
       "119                                     Rachael Ruttan   \n",
       "120                                   Clayton Critcher   \n",
       "121                                     George Mailath   \n",
       "122                                       Gautam Ahuja   \n",
       "123                                   Luigi Pistaferri   \n",
       "124                                   Ethan  Bernstein   \n",
       "125                                   Betsey Stevenson   \n",
       "126                                        Mar Reguant   \n",
       "127                                      David Thesmar   \n",
       "128                                      Jesse Shapiro   \n",
       "129                                      Colin Stewart   \n",
       "130                                     Aleh Tsyvinski   \n",
       "131                                      Randy Bucklin   \n",
       "132                                      Francis Bloch   \n",
       "133                                  Martin Dufwenberg   \n",
       "134                                      Xavier Giroud   \n",
       "135                                      Peter Bergman   \n",
       "136                                      Oliver Levine   \n",
       "137                                       Ruben Juarez   \n",
       "138                                        Jeremy Lise   \n",
       "139                                   Nour Sami Kteily   \n",
       "140                                    Duncan Simester   \n",
       "141                                  Burton Hollifield   \n",
       "142                                    Robert Metcalfe   \n",
       "143                                       Peter Rupert   \n",
       "144                                    Abigail Wozniak   \n",
       "145                                         Jeff Inman   \n",
       "\n",
       "                                                 title  \n",
       "0    Cultural Assimilation During The Two Ages Of M...  \n",
       "1      Displacement in the Global Business Environment  \n",
       "2    The Effect of Diversification on Price Informa...  \n",
       "3                Behavioral Science at Disney Research  \n",
       "4                                              Gal-TBA  \n",
       "5    Avoiding The Cost Of A Bad Hire: On The Optima...  \n",
       "6                   Finding Alternative Musical Scales  \n",
       "7                                         TBA/Lewellen  \n",
       "8    Diversity and inequality in management teams: ...  \n",
       "9    Mortgage Design In An Equilibrium Model Of The...  \n",
       "10   Immigrant Legalization, Health, & Demand For Care  \n",
       "11   Dissertation Defense--Text-Based Unethical Beh...  \n",
       "12   Adverse Selection, Efficiency and the Structur...  \n",
       "13                                            TBA/Paul  \n",
       "14                                            Mody-TBA  \n",
       "15                                       TBA/Akbarpour  \n",
       "16   Capturing Heterogeneity Among Consumers with M...  \n",
       "17   What Should We Do About the Opioid Epidemic? M...  \n",
       "18                                      TBA/Herkenhoff  \n",
       "19   How Do Investors React to Corporate Political ...  \n",
       "20   The Valley of Trust: The Effect of Relational ...  \n",
       "21                                         TBA/Doppelt  \n",
       "22   BRING THE NOISE, BUT NOT THE FUNK: DOES THE EF...  \n",
       "23   Health, Health Insurance and Employment: A Dyn...  \n",
       "24   Robust bus route design: linking support servi...  \n",
       "25                                           Bento-TBA  \n",
       "26   Interpreting Signals: Evidence from Doctor Ref...  \n",
       "27   Environmental Leadership: From Control, Preven...  \n",
       "28                                         MORRIS--TBA  \n",
       "29                                             Dai-TBA  \n",
       "..                                                 ...  \n",
       "116                                          TBA/Jones  \n",
       "117                                     Montgomery-TBA  \n",
       "118                                     FUDENBERG--TBA  \n",
       "119                                        TBA/Ruttman  \n",
       "120                                       TBA/Critcher  \n",
       "121                                        TBA/Mailath  \n",
       "122                                          TBA/Ahuja  \n",
       "123                                    Pistaferri--TBA  \n",
       "124                                    Bernstein - TBA  \n",
       "125                                     STEVENSON--TBA  \n",
       "126                                        Reguant-TBA  \n",
       "127                                        TBA/Thesmar  \n",
       "128                                        TBA/Shapiro  \n",
       "129                                       STEWARD--TBA  \n",
       "130                                      TBA/Tsyvinski  \n",
       "131                                        Bucklin-TBA  \n",
       "132                                          TBA/Bloch  \n",
       "133                                     TBA/Dufwenberg  \n",
       "134                                         TBA-Giroud  \n",
       "135                                       BERGMAN--TBA  \n",
       "136                                         TBA/Levine  \n",
       "137                                         TBA/Juarez  \n",
       "138                                          LISE--TBA  \n",
       "139                                         TBA/Kteily  \n",
       "140                                       Simester-TBA  \n",
       "141                              TBA/Burton Hollifield  \n",
       "142                                       TBA/Metcalfe  \n",
       "143                                         TBA/Rupert  \n",
       "144                                        Wozniak-TBA  \n",
       "145                                          Inman-TBA  \n",
       "\n",
       "[146 rows x 3 columns]"
      ]
     },
     "execution_count": 15,
     "metadata": {},
     "output_type": "execute_result"
    }
   ],
   "source": [
    "# pandas preview!\n",
    "df = pd.DataFrame.from_dict(tsums)\n",
    "df"
   ]
  },
  {
   "cell_type": "code",
   "execution_count": 16,
   "metadata": {},
   "outputs": [
    {
     "data": {
      "text/plain": [
       "institution\n",
       "Carnegie Mellon University            18\n",
       "Stanford University                    7\n",
       "Columbia University                    5\n",
       "MIT                                    5\n",
       "University of Pittsburgh               5\n",
       "University of Chicago                  5\n",
       "Yale University                        4\n",
       "Duke University                        4\n",
       "University of Michigan                 3\n",
       "Boston University                      3\n",
       "Cornell University                     3\n",
       "Harvard Business School                3\n",
       "Harvard University                     3\n",
       "New York University                    3\n",
       "Northwestern University                3\n",
       "Princeton University                   3\n",
       "University of Toronto                  3\n",
       "UCLA                                   2\n",
       "NYU Stern                              2\n",
       "Indiana University                     2\n",
       "Ohio State University                  2\n",
       "Penn State                             2\n",
       "University of Washington               2\n",
       "UC                                     2\n",
       "University of Minnesota                2\n",
       "University of Pennsylvania             2\n",
       "University of Wisconsin                1\n",
       "Baruch College                         1\n",
       "Bocconi University                     1\n",
       "IMF                                    1\n",
       "                                      ..\n",
       "Washington University in St. Louis     1\n",
       "CERGI-ei                               1\n",
       "CMU/Computer Science                   1\n",
       "Disney Research/CMU                    1\n",
       "University of Rochester                1\n",
       "London Business School                 1\n",
       "The University of British Columbia     1\n",
       "University of Kansas                   1\n",
       "University of Hawaii                   1\n",
       "University of Notre Dame               1\n",
       "University of California--Irvine       1\n",
       "University of California               1\n",
       "University of Bocconi                  1\n",
       "University of Arizona                  1\n",
       "USC                                    1\n",
       "UCSB                                   1\n",
       "The University of Chicago              1\n",
       "Tel Aviv University                    1\n",
       "University of Montreal                 1\n",
       "Stanford                               1\n",
       "Rutgars University                     1\n",
       "Rice University                        1\n",
       "Purdue                                 1\n",
       "Yale                                   1\n",
       "Pomona College                         1\n",
       "PhD Candidate                          1\n",
       "Penn State University                  1\n",
       "Paris School of Economics              1\n",
       "University of Pennsylvania-Wharton     1\n",
       "                                       1\n",
       "Length: 74, dtype: int64"
      ]
     },
     "execution_count": 16,
     "metadata": {},
     "output_type": "execute_result"
    }
   ],
   "source": [
    "# institution stats\n",
    "df.groupby('institution').size().sort_values(ascending=False)"
   ]
  },
  {
   "cell_type": "markdown",
   "metadata": {},
   "source": [
    "## Exercise 3"
   ]
  },
  {
   "cell_type": "markdown",
   "metadata": {},
   "source": [
    "Add in dates to the above!"
   ]
  },
  {
   "cell_type": "markdown",
   "metadata": {},
   "source": [
    "# Jupyter Tricks"
   ]
  },
  {
   "cell_type": "code",
   "execution_count": 93,
   "metadata": {},
   "outputs": [],
   "source": [
    "from IPython.core.display import display, HTML\n",
    "import ipywidgets as widgets\n",
    "from ipywidgets import interactive"
   ]
  },
  {
   "cell_type": "code",
   "execution_count": 94,
   "metadata": {},
   "outputs": [
    {
     "data": {
      "text/html": [
       "<b>Hello, world!</b>"
      ],
      "text/plain": [
       "<IPython.core.display.HTML object>"
      ]
     },
     "metadata": {},
     "output_type": "display_data"
    }
   ],
   "source": [
    "display(HTML('<b>Hello, world!</b>'))"
   ]
  },
  {
   "cell_type": "code",
   "execution_count": 95,
   "metadata": {},
   "outputs": [
    {
     "data": {
      "text/html": [
       "\n",
       "<table>\n",
       "<tr><th>a</th><th>b</th></tr>\n",
       "<tr><td>1</td><td>2</td></tr>\n",
       "<tr><td>3</td><td>4</td></tr>\n",
       "</table>\n"
      ],
      "text/plain": [
       "<IPython.core.display.HTML object>"
      ]
     },
     "metadata": {},
     "output_type": "display_data"
    }
   ],
   "source": [
    "display(HTML(\"\"\"\n",
    "<table>\n",
    "<tr><th>a</th><th>b</th></tr>\n",
    "<tr><td>1</td><td>2</td></tr>\n",
    "<tr><td>3</td><td>4</td></tr>\n",
    "</table>\n",
    "\"\"\"))"
   ]
  },
  {
   "cell_type": "code",
   "execution_count": 96,
   "metadata": {},
   "outputs": [],
   "source": [
    "dat = np.cumsum(np.random.randn(1000))"
   ]
  },
  {
   "cell_type": "code",
   "execution_count": 97,
   "metadata": {},
   "outputs": [
    {
     "data": {
      "application/vnd.jupyter.widget-view+json": {
       "model_id": "ee7c00333c4244cf8c845c9ed1cf864d",
       "version_major": 2,
       "version_minor": 0
      },
      "text/html": [
       "<p>Failed to display Jupyter Widget of type <code>interactive</code>.</p>\n",
       "<p>\n",
       "  If you're reading this message in Jupyter Notebook or JupyterLab, it may mean\n",
       "  that the widgets JavaScript is still loading. If this message persists, it\n",
       "  likely means that the widgets JavaScript library is either not installed or\n",
       "  not enabled. See the <a href=\"https://ipywidgets.readthedocs.io/en/stable/user_install.html\">Jupyter\n",
       "  Widgets Documentation</a> for setup instructions.\n",
       "</p>\n",
       "<p>\n",
       "  If you're reading this message in another notebook frontend (for example, a static\n",
       "  rendering on GitHub or <a href=\"https://nbviewer.jupyter.org/\">NBViewer</a>),\n",
       "  it may mean that your frontend doesn't currently support widgets.\n",
       "</p>\n"
      ],
      "text/plain": [
       "interactive(children=(IntSlider(value=250, description='p', max=500, min=1), Output()), _dom_classes=('widget-interact',))"
      ]
     },
     "metadata": {},
     "output_type": "display_data"
    }
   ],
   "source": [
    "def smoothed(p):\n",
    "    plt.plot(pd.Series(dat).rolling(p).mean())\n",
    "    plt.show()\n",
    "interactive(smoothed, p=(1, 500))"
   ]
  },
  {
   "cell_type": "code",
   "execution_count": 13,
   "metadata": {},
   "outputs": [
    {
     "data": {
      "application/vnd.jupyter.widget-view+json": {
       "model_id": "d5d0ee4bb0c1452095696d46a42764c4",
       "version_major": 2,
       "version_minor": 0
      },
      "text/html": [
       "<p>Failed to display Jupyter Widget of type <code>interactive</code>.</p>\n",
       "<p>\n",
       "  If you're reading this message in Jupyter Notebook or JupyterLab, it may mean\n",
       "  that the widgets JavaScript is still loading. If this message persists, it\n",
       "  likely means that the widgets JavaScript library is either not installed or\n",
       "  not enabled. See the <a href=\"https://ipywidgets.readthedocs.io/en/stable/user_install.html\">Jupyter\n",
       "  Widgets Documentation</a> for setup instructions.\n",
       "</p>\n",
       "<p>\n",
       "  If you're reading this message in another notebook frontend (for example, a static\n",
       "  rendering on GitHub or <a href=\"https://nbviewer.jupyter.org/\">NBViewer</a>),\n",
       "  it may mean that your frontend doesn't currently support widgets.\n",
       "</p>\n"
      ],
      "text/plain": [
       "interactive(children=(IntSlider(value=20, description='wind', max=200, step=10), Output()), layout=Layout(height='300px'), _dom_classes=('widget-interact',))"
      ]
     },
     "metadata": {},
     "output_type": "display_data"
    }
   ],
   "source": [
    "# much slicker version\n",
    "ymin, ymax = np.min(dat), np.max(dat)\n",
    "yrange = ymax - ymin\n",
    "ymin -= 0.1*yrange\n",
    "ymax += 0.1*yrange\n",
    "def smoothed(wind):\n",
    "    wind = max(1, wind)\n",
    "    fig, ax = plt.subplots()\n",
    "    pd.Series(dat).rolling(wind, min_periods=0, center=True).mean().plot(ax=ax)\n",
    "    ax.set_ylim(ymin, ymax)\n",
    "    plt.show()\n",
    "slider = widgets.IntSlider(min=0, max=200, step=10, value=20)\n",
    "interactive_plot = interactive(smoothed, wind=slider)\n",
    "interactive_plot.layout.height = '300px'\n",
    "interactive_plot"
   ]
  },
  {
   "cell_type": "markdown",
   "metadata": {},
   "source": [
    "# Other Resources"
   ]
  },
  {
   "cell_type": "markdown",
   "metadata": {},
   "source": [
    "Amazing and fun talk by David Beazley on practical Python usage: https://www.youtube.com/watch?v=lyDLAutA88s"
   ]
  },
  {
   "cell_type": "code",
   "execution_count": 61,
   "metadata": {},
   "outputs": [],
   "source": [
    "import scipy.optimize as opt"
   ]
  },
  {
   "cell_type": "code",
   "execution_count": 62,
   "metadata": {},
   "outputs": [],
   "source": [
    "opt.fsolve?"
   ]
  },
  {
   "cell_type": "code",
   "execution_count": 24,
   "metadata": {},
   "outputs": [],
   "source": []
  }
 ],
 "metadata": {
  "kernelspec": {
   "display_name": "Python 3",
   "language": "python",
   "name": "python3"
  },
  "language_info": {
   "codemirror_mode": {
    "name": "ipython",
    "version": 3
   },
   "file_extension": ".py",
   "mimetype": "text/x-python",
   "name": "python",
   "nbconvert_exporter": "python",
   "pygments_lexer": "ipython3",
   "version": "3.6.6"
  }
 },
 "nbformat": 4,
 "nbformat_minor": 2
}
