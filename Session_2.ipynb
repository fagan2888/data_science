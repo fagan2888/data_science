{
 "cells": [
  {
   "cell_type": "markdown",
   "metadata": {},
   "source": [
    "# Working With Data"
   ]
  },
  {
   "cell_type": "code",
   "execution_count": 1,
   "metadata": {},
   "outputs": [],
   "source": [
    "import numpy as np\n",
    "import pandas as pd\n",
    "import matplotlib.pyplot as plt\n",
    "import seaborn as sns\n",
    "import statsmodels.formula.api as smf"
   ]
  },
  {
   "cell_type": "code",
   "execution_count": 2,
   "metadata": {},
   "outputs": [],
   "source": [
    "import matplotlib as mpl\n",
    "mpl.rc('font', family='Arial')\n",
    "mpl.style.use('clean') # this loads my personal plotting settings\n",
    "# https://raw.githubusercontent.com/iamlemec/dotfiles/master/python/clean.mplstyle\n",
    "%matplotlib inline"
   ]
  },
  {
   "cell_type": "code",
   "execution_count": 3,
   "metadata": {},
   "outputs": [],
   "source": [
    "import warnings\n",
    "warnings.filterwarnings('ignore')"
   ]
  },
  {
   "cell_type": "markdown",
   "metadata": {},
   "source": [
    "# Pandas!"
   ]
  },
  {
   "cell_type": "markdown",
   "metadata": {},
   "source": [
    "## DataFrame"
   ]
  },
  {
   "cell_type": "code",
   "execution_count": 4,
   "metadata": {},
   "outputs": [
    {
     "data": {
      "text/plain": [
       "10    0.010136\n",
       "11    0.435551\n",
       "12    0.669649\n",
       "13    0.636113\n",
       "14    0.538867\n",
       "15    0.454864\n",
       "16    0.773729\n",
       "17    0.041200\n",
       "18    0.602475\n",
       "19    0.388918\n",
       "dtype: float64"
      ]
     },
     "execution_count": 4,
     "metadata": {},
     "output_type": "execute_result"
    }
   ],
   "source": [
    "s = pd.Series(np.random.rand(10), index=np.arange(10, 20))\n",
    "s"
   ]
  },
  {
   "cell_type": "code",
   "execution_count": 5,
   "metadata": {},
   "outputs": [
    {
     "name": "stdout",
     "output_type": "stream",
     "text": [
      "Int64Index([10, 11, 12, 13, 14, 15, 16, 17, 18, 19], dtype='int64')\n",
      "[0.0101362  0.43555142 0.66964858 0.63611318 0.53886684 0.45486372\n",
      " 0.77372917 0.04120049 0.60247484 0.38891788]\n"
     ]
    }
   ],
   "source": [
    "print(s.index)\n",
    "print(s.values)"
   ]
  },
  {
   "cell_type": "code",
   "execution_count": 6,
   "metadata": {},
   "outputs": [
    {
     "data": {
      "text/plain": [
       "count    10.000000\n",
       "mean      0.455150\n",
       "std       0.254542\n",
       "min       0.010136\n",
       "25%       0.400576\n",
       "50%       0.496865\n",
       "75%       0.627704\n",
       "max       0.773729\n",
       "dtype: float64"
      ]
     },
     "execution_count": 6,
     "metadata": {},
     "output_type": "execute_result"
    }
   ],
   "source": [
    "s.describe()"
   ]
  },
  {
   "cell_type": "code",
   "execution_count": 7,
   "metadata": {},
   "outputs": [
    {
     "data": {
      "text/html": [
       "<div>\n",
       "<style scoped>\n",
       "    .dataframe tbody tr th:only-of-type {\n",
       "        vertical-align: middle;\n",
       "    }\n",
       "\n",
       "    .dataframe tbody tr th {\n",
       "        vertical-align: top;\n",
       "    }\n",
       "\n",
       "    .dataframe thead th {\n",
       "        text-align: right;\n",
       "    }\n",
       "</style>\n",
       "<table border=\"1\" class=\"dataframe\">\n",
       "  <thead>\n",
       "    <tr style=\"text-align: right;\">\n",
       "      <th></th>\n",
       "      <th>ser1</th>\n",
       "      <th>ser2</th>\n",
       "    </tr>\n",
       "  </thead>\n",
       "  <tbody>\n",
       "    <tr>\n",
       "      <th>10</th>\n",
       "      <td>0.010136</td>\n",
       "      <td>-1.602765</td>\n",
       "    </tr>\n",
       "    <tr>\n",
       "      <th>11</th>\n",
       "      <td>0.435551</td>\n",
       "      <td>-0.088201</td>\n",
       "    </tr>\n",
       "    <tr>\n",
       "      <th>12</th>\n",
       "      <td>0.669649</td>\n",
       "      <td>0.226451</td>\n",
       "    </tr>\n",
       "    <tr>\n",
       "      <th>13</th>\n",
       "      <td>0.636113</td>\n",
       "      <td>2.675177</td>\n",
       "    </tr>\n",
       "    <tr>\n",
       "      <th>14</th>\n",
       "      <td>0.538867</td>\n",
       "      <td>-0.288310</td>\n",
       "    </tr>\n",
       "  </tbody>\n",
       "</table>\n",
       "</div>"
      ],
      "text/plain": [
       "        ser1      ser2\n",
       "10  0.010136 -1.602765\n",
       "11  0.435551 -0.088201\n",
       "12  0.669649  0.226451\n",
       "13  0.636113  2.675177\n",
       "14  0.538867 -0.288310"
      ]
     },
     "execution_count": 7,
     "metadata": {},
     "output_type": "execute_result"
    }
   ],
   "source": [
    "df = pd.DataFrame({'ser1': s, 'ser2': np.random.randn(10)})\n",
    "df.head()"
   ]
  },
  {
   "cell_type": "code",
   "execution_count": 8,
   "metadata": {},
   "outputs": [
    {
     "data": {
      "text/html": [
       "<div>\n",
       "<style scoped>\n",
       "    .dataframe tbody tr th:only-of-type {\n",
       "        vertical-align: middle;\n",
       "    }\n",
       "\n",
       "    .dataframe tbody tr th {\n",
       "        vertical-align: top;\n",
       "    }\n",
       "\n",
       "    .dataframe thead th {\n",
       "        text-align: right;\n",
       "    }\n",
       "</style>\n",
       "<table border=\"1\" class=\"dataframe\">\n",
       "  <thead>\n",
       "    <tr style=\"text-align: right;\">\n",
       "      <th></th>\n",
       "      <th>ser1</th>\n",
       "      <th>ser2</th>\n",
       "    </tr>\n",
       "  </thead>\n",
       "  <tbody>\n",
       "    <tr>\n",
       "      <th>count</th>\n",
       "      <td>10.000000</td>\n",
       "      <td>10.000000</td>\n",
       "    </tr>\n",
       "    <tr>\n",
       "      <th>mean</th>\n",
       "      <td>0.455150</td>\n",
       "      <td>-0.266624</td>\n",
       "    </tr>\n",
       "    <tr>\n",
       "      <th>std</th>\n",
       "      <td>0.254542</td>\n",
       "      <td>1.277634</td>\n",
       "    </tr>\n",
       "    <tr>\n",
       "      <th>min</th>\n",
       "      <td>0.010136</td>\n",
       "      <td>-1.795708</td>\n",
       "    </tr>\n",
       "    <tr>\n",
       "      <th>25%</th>\n",
       "      <td>0.400576</td>\n",
       "      <td>-1.136357</td>\n",
       "    </tr>\n",
       "    <tr>\n",
       "      <th>50%</th>\n",
       "      <td>0.496865</td>\n",
       "      <td>-0.188256</td>\n",
       "    </tr>\n",
       "    <tr>\n",
       "      <th>75%</th>\n",
       "      <td>0.627704</td>\n",
       "      <td>0.168206</td>\n",
       "    </tr>\n",
       "    <tr>\n",
       "      <th>max</th>\n",
       "      <td>0.773729</td>\n",
       "      <td>2.675177</td>\n",
       "    </tr>\n",
       "  </tbody>\n",
       "</table>\n",
       "</div>"
      ],
      "text/plain": [
       "            ser1       ser2\n",
       "count  10.000000  10.000000\n",
       "mean    0.455150  -0.266624\n",
       "std     0.254542   1.277634\n",
       "min     0.010136  -1.795708\n",
       "25%     0.400576  -1.136357\n",
       "50%     0.496865  -0.188256\n",
       "75%     0.627704   0.168206\n",
       "max     0.773729   2.675177"
      ]
     },
     "execution_count": 8,
     "metadata": {},
     "output_type": "execute_result"
    }
   ],
   "source": [
    "df.describe()"
   ]
  },
  {
   "cell_type": "code",
   "execution_count": 9,
   "metadata": {},
   "outputs": [
    {
     "data": {
      "image/png": "[encoded data removed]",
      "text/plain": [
       "<Figure size 432x288 with 1 Axes>"
      ]
     },
     "metadata": {},
     "output_type": "display_data"
    }
   ],
   "source": [
    "df.plot();"
   ]
  },
  {
   "cell_type": "code",
   "execution_count": 10,
   "metadata": {},
   "outputs": [
    {
     "data": {
      "text/plain": [
       "10    0.010136\n",
       "11    0.435551\n",
       "12    0.669649\n",
       "13    0.636113\n",
       "14    0.538867\n",
       "15    0.454864\n",
       "16    0.773729\n",
       "17    0.041200\n",
       "18    0.602475\n",
       "19    0.388918\n",
       "Name: ser1, dtype: float64"
      ]
     },
     "execution_count": 10,
     "metadata": {},
     "output_type": "execute_result"
    }
   ],
   "source": [
    "df['ser1']"
   ]
  },
  {
   "cell_type": "code",
   "execution_count": 11,
   "metadata": {},
   "outputs": [
    {
     "data": {
      "text/plain": [
       "10    False\n",
       "11    False\n",
       "12     True\n",
       "13     True\n",
       "14     True\n",
       "15    False\n",
       "16     True\n",
       "17    False\n",
       "18     True\n",
       "19    False\n",
       "Name: ser1, dtype: bool"
      ]
     },
     "execution_count": 11,
     "metadata": {},
     "output_type": "execute_result"
    }
   ],
   "source": [
    "df['ser1'] > 0.5"
   ]
  },
  {
   "cell_type": "code",
   "execution_count": 12,
   "metadata": {},
   "outputs": [
    {
     "data": {
      "text/html": [
       "<div>\n",
       "<style scoped>\n",
       "    .dataframe tbody tr th:only-of-type {\n",
       "        vertical-align: middle;\n",
       "    }\n",
       "\n",
       "    .dataframe tbody tr th {\n",
       "        vertical-align: top;\n",
       "    }\n",
       "\n",
       "    .dataframe thead th {\n",
       "        text-align: right;\n",
       "    }\n",
       "</style>\n",
       "<table border=\"1\" class=\"dataframe\">\n",
       "  <thead>\n",
       "    <tr style=\"text-align: right;\">\n",
       "      <th></th>\n",
       "      <th>ser1</th>\n",
       "      <th>ser2</th>\n",
       "    </tr>\n",
       "  </thead>\n",
       "  <tbody>\n",
       "    <tr>\n",
       "      <th>12</th>\n",
       "      <td>0.669649</td>\n",
       "      <td>0.226451</td>\n",
       "    </tr>\n",
       "    <tr>\n",
       "      <th>13</th>\n",
       "      <td>0.636113</td>\n",
       "      <td>2.675177</td>\n",
       "    </tr>\n",
       "    <tr>\n",
       "      <th>14</th>\n",
       "      <td>0.538867</td>\n",
       "      <td>-0.288310</td>\n",
       "    </tr>\n",
       "    <tr>\n",
       "      <th>16</th>\n",
       "      <td>0.773729</td>\n",
       "      <td>-0.006532</td>\n",
       "    </tr>\n",
       "    <tr>\n",
       "      <th>18</th>\n",
       "      <td>0.602475</td>\n",
       "      <td>0.286207</td>\n",
       "    </tr>\n",
       "  </tbody>\n",
       "</table>\n",
       "</div>"
      ],
      "text/plain": [
       "        ser1      ser2\n",
       "12  0.669649  0.226451\n",
       "13  0.636113  2.675177\n",
       "14  0.538867 -0.288310\n",
       "16  0.773729 -0.006532\n",
       "18  0.602475  0.286207"
      ]
     },
     "execution_count": 12,
     "metadata": {},
     "output_type": "execute_result"
    }
   ],
   "source": [
    "df1 = df[df['ser1']>0.5]\n",
    "df1"
   ]
  },
  {
   "cell_type": "code",
   "execution_count": 13,
   "metadata": {},
   "outputs": [
    {
     "data": {
      "text/html": [
       "<div>\n",
       "<style scoped>\n",
       "    .dataframe tbody tr th:only-of-type {\n",
       "        vertical-align: middle;\n",
       "    }\n",
       "\n",
       "    .dataframe tbody tr th {\n",
       "        vertical-align: top;\n",
       "    }\n",
       "\n",
       "    .dataframe thead th {\n",
       "        text-align: right;\n",
       "    }\n",
       "</style>\n",
       "<table border=\"1\" class=\"dataframe\">\n",
       "  <thead>\n",
       "    <tr style=\"text-align: right;\">\n",
       "      <th></th>\n",
       "      <th>ser1</th>\n",
       "      <th>ser2</th>\n",
       "    </tr>\n",
       "  </thead>\n",
       "  <tbody>\n",
       "    <tr>\n",
       "      <th>12</th>\n",
       "      <td>0.669649</td>\n",
       "      <td>0.226451</td>\n",
       "    </tr>\n",
       "    <tr>\n",
       "      <th>13</th>\n",
       "      <td>0.636113</td>\n",
       "      <td>2.675177</td>\n",
       "    </tr>\n",
       "    <tr>\n",
       "      <th>14</th>\n",
       "      <td>0.538867</td>\n",
       "      <td>-0.288310</td>\n",
       "    </tr>\n",
       "    <tr>\n",
       "      <th>16</th>\n",
       "      <td>0.773729</td>\n",
       "      <td>-0.006532</td>\n",
       "    </tr>\n",
       "    <tr>\n",
       "      <th>18</th>\n",
       "      <td>0.602475</td>\n",
       "      <td>0.286207</td>\n",
       "    </tr>\n",
       "  </tbody>\n",
       "</table>\n",
       "</div>"
      ],
      "text/plain": [
       "        ser1      ser2\n",
       "12  0.669649  0.226451\n",
       "13  0.636113  2.675177\n",
       "14  0.538867 -0.288310\n",
       "16  0.773729 -0.006532\n",
       "18  0.602475  0.286207"
      ]
     },
     "execution_count": 13,
     "metadata": {},
     "output_type": "execute_result"
    }
   ],
   "source": [
    "df.query('ser1 > 0.5')"
   ]
  },
  {
   "cell_type": "code",
   "execution_count": 14,
   "metadata": {},
   "outputs": [
    {
     "data": {
      "image/png": "[encoded data removed]",
      "text/plain": [
       "<Figure size 432x288 with 1 Axes>"
      ]
     },
     "metadata": {},
     "output_type": "display_data"
    }
   ],
   "source": [
    "df['ser1'].hist(grid=False);"
   ]
  },
  {
   "cell_type": "markdown",
   "metadata": {},
   "source": [
    "## Grouping Data"
   ]
  },
  {
   "cell_type": "code",
   "execution_count": 16,
   "metadata": {},
   "outputs": [],
   "source": [
    "# make some fake data\n",
    "N = 100\n",
    "block = np.random.randint(4, size=N)\n",
    "cmean = np.array([0.1, 0.2, 0.3, 0.4])\n",
    "cvars = np.array([0.2, 0.1, 0.5, 0.2])\n",
    "value = cmean[block]+np.random.randn(N)*cvars[block]\n",
    "df = pd.DataFrame({\n",
    "    'block': block,\n",
    "    'value': value\n",
    "})"
   ]
  },
  {
   "cell_type": "code",
   "execution_count": 17,
   "metadata": {},
   "outputs": [
    {
     "data": {
      "text/html": [
       "<div>\n",
       "<style scoped>\n",
       "    .dataframe tbody tr th:only-of-type {\n",
       "        vertical-align: middle;\n",
       "    }\n",
       "\n",
       "    .dataframe tbody tr th {\n",
       "        vertical-align: top;\n",
       "    }\n",
       "\n",
       "    .dataframe thead th {\n",
       "        text-align: right;\n",
       "    }\n",
       "</style>\n",
       "<table border=\"1\" class=\"dataframe\">\n",
       "  <thead>\n",
       "    <tr style=\"text-align: right;\">\n",
       "      <th></th>\n",
       "      <th>block</th>\n",
       "      <th>value</th>\n",
       "    </tr>\n",
       "  </thead>\n",
       "  <tbody>\n",
       "    <tr>\n",
       "      <th>0</th>\n",
       "      <td>2</td>\n",
       "      <td>1.390465</td>\n",
       "    </tr>\n",
       "    <tr>\n",
       "      <th>1</th>\n",
       "      <td>3</td>\n",
       "      <td>0.546267</td>\n",
       "    </tr>\n",
       "    <tr>\n",
       "      <th>2</th>\n",
       "      <td>1</td>\n",
       "      <td>0.279584</td>\n",
       "    </tr>\n",
       "    <tr>\n",
       "      <th>3</th>\n",
       "      <td>1</td>\n",
       "      <td>0.239002</td>\n",
       "    </tr>\n",
       "    <tr>\n",
       "      <th>4</th>\n",
       "      <td>2</td>\n",
       "      <td>0.631636</td>\n",
       "    </tr>\n",
       "    <tr>\n",
       "      <th>5</th>\n",
       "      <td>0</td>\n",
       "      <td>-0.075283</td>\n",
       "    </tr>\n",
       "    <tr>\n",
       "      <th>6</th>\n",
       "      <td>2</td>\n",
       "      <td>1.053114</td>\n",
       "    </tr>\n",
       "    <tr>\n",
       "      <th>7</th>\n",
       "      <td>0</td>\n",
       "      <td>-0.107730</td>\n",
       "    </tr>\n",
       "    <tr>\n",
       "      <th>8</th>\n",
       "      <td>3</td>\n",
       "      <td>0.183809</td>\n",
       "    </tr>\n",
       "    <tr>\n",
       "      <th>9</th>\n",
       "      <td>3</td>\n",
       "      <td>0.417762</td>\n",
       "    </tr>\n",
       "  </tbody>\n",
       "</table>\n",
       "</div>"
      ],
      "text/plain": [
       "   block     value\n",
       "0      2  1.390465\n",
       "1      3  0.546267\n",
       "2      1  0.279584\n",
       "3      1  0.239002\n",
       "4      2  0.631636\n",
       "5      0 -0.075283\n",
       "6      2  1.053114\n",
       "7      0 -0.107730\n",
       "8      3  0.183809\n",
       "9      3  0.417762"
      ]
     },
     "execution_count": 17,
     "metadata": {},
     "output_type": "execute_result"
    }
   ],
   "source": [
    "df.head(10)"
   ]
  },
  {
   "cell_type": "code",
   "execution_count": 18,
   "metadata": {},
   "outputs": [
    {
     "data": {
      "text/plain": [
       "block\n",
       "0    27\n",
       "1    26\n",
       "2    24\n",
       "3    23\n",
       "dtype: int64"
      ]
     },
     "execution_count": 18,
     "metadata": {},
     "output_type": "execute_result"
    }
   ],
   "source": [
    "df.groupby('block').size()"
   ]
  },
  {
   "cell_type": "code",
   "execution_count": 19,
   "metadata": {},
   "outputs": [
    {
     "data": {
      "text/plain": [
       "block\n",
       "0    0.118752\n",
       "1    0.219888\n",
       "2    0.338065\n",
       "3    0.381055\n",
       "Name: value, dtype: float64"
      ]
     },
     "execution_count": 19,
     "metadata": {},
     "output_type": "execute_result"
    }
   ],
   "source": [
    "df.groupby('block')['value'].mean()"
   ]
  },
  {
   "cell_type": "code",
   "execution_count": 20,
   "metadata": {},
   "outputs": [
    {
     "data": {
      "text/plain": [
       "block\n",
       "0    0.204609\n",
       "1    0.113031\n",
       "2    0.410726\n",
       "3    0.205994\n",
       "Name: value, dtype: float64"
      ]
     },
     "execution_count": 20,
     "metadata": {},
     "output_type": "execute_result"
    }
   ],
   "source": [
    "df.groupby('block')['value'].std()"
   ]
  },
  {
   "cell_type": "code",
   "execution_count": 21,
   "metadata": {},
   "outputs": [
    {
     "data": {
      "text/plain": [
       "block\n",
       "0    0.164335\n",
       "1    0.094458\n",
       "2    0.308214\n",
       "3    0.162592\n",
       "Name: value, dtype: float64"
      ]
     },
     "execution_count": 21,
     "metadata": {},
     "output_type": "execute_result"
    }
   ],
   "source": [
    "df.groupby('block')['value'].apply(lambda x: np.mean(np.abs(x-np.mean(x))))"
   ]
  },
  {
   "cell_type": "code",
   "execution_count": 22,
   "metadata": {},
   "outputs": [
    {
     "data": {
      "text/html": [
       "<div>\n",
       "<style scoped>\n",
       "    .dataframe tbody tr th:only-of-type {\n",
       "        vertical-align: middle;\n",
       "    }\n",
       "\n",
       "    .dataframe tbody tr th {\n",
       "        vertical-align: top;\n",
       "    }\n",
       "\n",
       "    .dataframe thead th {\n",
       "        text-align: right;\n",
       "    }\n",
       "</style>\n",
       "<table border=\"1\" class=\"dataframe\">\n",
       "  <thead>\n",
       "    <tr style=\"text-align: right;\">\n",
       "      <th></th>\n",
       "      <th>mean</th>\n",
       "      <th>stdv</th>\n",
       "      <th>absd</th>\n",
       "    </tr>\n",
       "    <tr>\n",
       "      <th>block</th>\n",
       "      <th></th>\n",
       "      <th></th>\n",
       "      <th></th>\n",
       "    </tr>\n",
       "  </thead>\n",
       "  <tbody>\n",
       "    <tr>\n",
       "      <th>0</th>\n",
       "      <td>0.118752</td>\n",
       "      <td>0.204609</td>\n",
       "      <td>0.164335</td>\n",
       "    </tr>\n",
       "    <tr>\n",
       "      <th>1</th>\n",
       "      <td>0.219888</td>\n",
       "      <td>0.113031</td>\n",
       "      <td>0.094458</td>\n",
       "    </tr>\n",
       "    <tr>\n",
       "      <th>2</th>\n",
       "      <td>0.338065</td>\n",
       "      <td>0.410726</td>\n",
       "      <td>0.308214</td>\n",
       "    </tr>\n",
       "    <tr>\n",
       "      <th>3</th>\n",
       "      <td>0.381055</td>\n",
       "      <td>0.205994</td>\n",
       "      <td>0.162592</td>\n",
       "    </tr>\n",
       "  </tbody>\n",
       "</table>\n",
       "</div>"
      ],
      "text/plain": [
       "           mean      stdv      absd\n",
       "block                              \n",
       "0      0.118752  0.204609  0.164335\n",
       "1      0.219888  0.113031  0.094458\n",
       "2      0.338065  0.410726  0.308214\n",
       "3      0.381055  0.205994  0.162592"
      ]
     },
     "execution_count": 22,
     "metadata": {},
     "output_type": "execute_result"
    }
   ],
   "source": [
    "grp = df.groupby('block')['value']\n",
    "pd.DataFrame({\n",
    "    'mean': grp.mean(),\n",
    "    'stdv': grp.std(),\n",
    "    'absd': grp.apply(lambda x: np.mean(np.abs(x-np.mean(x))))\n",
    "})"
   ]
  },
  {
   "cell_type": "markdown",
   "metadata": {},
   "source": [
    "## Time Series"
   ]
  },
  {
   "cell_type": "code",
   "execution_count": 23,
   "metadata": {},
   "outputs": [],
   "source": [
    "ret = 0.05 # yearly return\n",
    "vol = 0.1 # yearly volatility"
   ]
  },
  {
   "cell_type": "code",
   "execution_count": 24,
   "metadata": {},
   "outputs": [],
   "source": [
    "days = pd.date_range('2016-01-01', '2016-12-31', freq='D')\n",
    "N = len(days)\n",
    "T = (days.max()-days.min()).days/365.25\n",
    "delt = T/N"
   ]
  },
  {
   "cell_type": "code",
   "execution_count": 25,
   "metadata": {},
   "outputs": [
    {
     "data": {
      "text/html": [
       "<div>\n",
       "<style scoped>\n",
       "    .dataframe tbody tr th:only-of-type {\n",
       "        vertical-align: middle;\n",
       "    }\n",
       "\n",
       "    .dataframe tbody tr th {\n",
       "        vertical-align: top;\n",
       "    }\n",
       "\n",
       "    .dataframe thead th {\n",
       "        text-align: right;\n",
       "    }\n",
       "</style>\n",
       "<table border=\"1\" class=\"dataframe\">\n",
       "  <thead>\n",
       "    <tr style=\"text-align: right;\">\n",
       "      <th></th>\n",
       "      <th>price</th>\n",
       "    </tr>\n",
       "    <tr>\n",
       "      <th>date</th>\n",
       "      <th></th>\n",
       "    </tr>\n",
       "  </thead>\n",
       "  <tbody>\n",
       "    <tr>\n",
       "      <th>2016-01-01</th>\n",
       "      <td>0.006447</td>\n",
       "    </tr>\n",
       "    <tr>\n",
       "      <th>2016-01-02</th>\n",
       "      <td>0.004153</td>\n",
       "    </tr>\n",
       "    <tr>\n",
       "      <th>2016-01-03</th>\n",
       "      <td>0.003122</td>\n",
       "    </tr>\n",
       "    <tr>\n",
       "      <th>2016-01-04</th>\n",
       "      <td>0.007976</td>\n",
       "    </tr>\n",
       "    <tr>\n",
       "      <th>2016-01-05</th>\n",
       "      <td>0.013635</td>\n",
       "    </tr>\n",
       "  </tbody>\n",
       "</table>\n",
       "</div>"
      ],
      "text/plain": [
       "               price\n",
       "date                \n",
       "2016-01-01  0.006447\n",
       "2016-01-02  0.004153\n",
       "2016-01-03  0.003122\n",
       "2016-01-04  0.007976\n",
       "2016-01-05  0.013635"
      ]
     },
     "execution_count": 25,
     "metadata": {},
     "output_type": "execute_result"
    }
   ],
   "source": [
    "vals = vol*np.sqrt(delt)*np.cumsum(np.random.randn(N))\n",
    "df = pd.DataFrame({\n",
    "    'date': days,\n",
    "    'price': vals\n",
    "}).set_index('date')\n",
    "df.head()"
   ]
  },
  {
   "cell_type": "code",
   "execution_count": 26,
   "metadata": {},
   "outputs": [
    {
     "data": {
      "image/png": "[encoded data removed]",
      "text/plain": [
       "<Figure size 432x288 with 1 Axes>"
      ]
     },
     "metadata": {},
     "output_type": "display_data"
    }
   ],
   "source": [
    "df['price'].plot();"
   ]
  },
  {
   "cell_type": "code",
   "execution_count": 27,
   "metadata": {},
   "outputs": [
    {
     "data": {
      "image/png": "[encoded data removed]",
      "text/plain": [
       "<Figure size 432x288 with 1 Axes>"
      ]
     },
     "metadata": {},
     "output_type": "display_data"
    }
   ],
   "source": [
    "df.groupby(pd.TimeGrouper('MS')).std().plot(marker='o');"
   ]
  },
  {
   "cell_type": "code",
   "execution_count": 28,
   "metadata": {},
   "outputs": [
    {
     "data": {
      "image/png": "[encoded data removed]",
      "text/plain": [
       "<Figure size 432x288 with 1 Axes>"
      ]
     },
     "metadata": {},
     "output_type": "display_data"
    }
   ],
   "source": [
    "df.rolling(20, center=True, min_periods=5).mean().plot(legend=False);"
   ]
  },
  {
   "cell_type": "markdown",
   "metadata": {},
   "source": [
    "## Transforming"
   ]
  },
  {
   "cell_type": "code",
   "execution_count": 29,
   "metadata": {},
   "outputs": [],
   "source": [
    "ret = 0.05 # yearly return\n",
    "vol = 0.1 # yearly volatility"
   ]
  },
  {
   "cell_type": "code",
   "execution_count": 30,
   "metadata": {},
   "outputs": [],
   "source": [
    "days = pd.date_range('2006-01-01', '2016-12-31', freq='D')\n",
    "N = len(days)\n",
    "T = (days.max()-days.min()).days/365.25\n",
    "delt = T/N"
   ]
  },
  {
   "cell_type": "code",
   "execution_count": 31,
   "metadata": {},
   "outputs": [],
   "source": [
    "vals = vol*np.sqrt(delt)*np.cumsum(np.random.randn(len(days)))\n",
    "df = pd.DataFrame({\n",
    "    'date': days,\n",
    "    'price': vals\n",
    "}).set_index('date')"
   ]
  },
  {
   "cell_type": "code",
   "execution_count": 32,
   "metadata": {},
   "outputs": [
    {
     "data": {
      "image/png": "[encoded data removed]",
      "text/plain": [
       "<Figure size 432x288 with 1 Axes>"
      ]
     },
     "metadata": {},
     "output_type": "display_data"
    }
   ],
   "source": [
    "roll = df['price'].rolling(52*7, min_periods=1)\n",
    "pd.DataFrame({\n",
    "    'low' : roll.min(),\n",
    "    'high': roll.max(),\n",
    "    'price': df['price']\n",
    "}).plot();"
   ]
  },
  {
   "cell_type": "markdown",
   "metadata": {},
   "source": [
    "## Plotting"
   ]
  },
  {
   "cell_type": "code",
   "execution_count": 33,
   "metadata": {},
   "outputs": [
    {
     "data": {
      "image/png": "[encoded data removed]",
      "text/plain": [
       "<Figure size 432x288 with 1 Axes>"
      ]
     },
     "metadata": {},
     "output_type": "display_data"
    }
   ],
   "source": [
    "# good way to arrange plots\n",
    "pd.DataFrame({\n",
    "    'one': np.cumsum(np.random.randn(1000)),\n",
    "    'two': np.cumsum(np.random.randn(1000)),\n",
    "    'three': np.cumsum(np.random.randn(1000))\n",
    "}).plot();"
   ]
  },
  {
   "cell_type": "code",
   "execution_count": 34,
   "metadata": {},
   "outputs": [
    {
     "data": {
      "image/png": "[encoded data removed]",
      "text/plain": [
       "<Figure size 432x288 with 1 Axes>"
      ]
     },
     "metadata": {},
     "output_type": "display_data"
    }
   ],
   "source": [
    "x = 10*np.random.randn(1000)\n",
    "y = x + 10*np.random.randn(1000)\n",
    "df = pd.DataFrame({\n",
    "    'x': x,\n",
    "    'y': y\n",
    "})\n",
    "df.plot.scatter(x='x', y='y');"
   ]
  },
  {
   "cell_type": "code",
   "execution_count": 35,
   "metadata": {},
   "outputs": [
    {
     "data": {
      "image/png": "[encoded data removed]",
      "text/plain": [
       "<Figure size 432x432 with 3 Axes>"
      ]
     },
     "metadata": {},
     "output_type": "display_data"
    }
   ],
   "source": [
    "sns.jointplot('x', 'y', data=df);"
   ]
  },
  {
   "cell_type": "code",
   "execution_count": 36,
   "metadata": {},
   "outputs": [
    {
     "data": {
      "image/png": "[encoded data removed]",
      "text/plain": [
       "<Figure size 432x432 with 3 Axes>"
      ]
     },
     "metadata": {},
     "output_type": "display_data"
    }
   ],
   "source": [
    "# kind in ['scatter', 'reg', 'resid', 'kde', 'hex']\n",
    "sns.jointplot('x', 'y', kind='hex', data=df);"
   ]
  },
  {
   "cell_type": "markdown",
   "metadata": {},
   "source": [
    "## Indexing"
   ]
  },
  {
   "cell_type": "code",
   "execution_count": 275,
   "metadata": {},
   "outputs": [
    {
     "data": {
      "text/html": [
       "<div>\n",
       "<style scoped>\n",
       "    .dataframe tbody tr th:only-of-type {\n",
       "        vertical-align: middle;\n",
       "    }\n",
       "\n",
       "    .dataframe tbody tr th {\n",
       "        vertical-align: top;\n",
       "    }\n",
       "\n",
       "    .dataframe thead th {\n",
       "        text-align: right;\n",
       "    }\n",
       "</style>\n",
       "<table border=\"1\" class=\"dataframe\">\n",
       "  <thead>\n",
       "    <tr style=\"text-align: right;\">\n",
       "      <th></th>\n",
       "      <th>a</th>\n",
       "      <th>b</th>\n",
       "    </tr>\n",
       "  </thead>\n",
       "  <tbody>\n",
       "    <tr>\n",
       "      <th>10</th>\n",
       "      <td>0</td>\n",
       "      <td>0.488563</td>\n",
       "    </tr>\n",
       "    <tr>\n",
       "      <th>11</th>\n",
       "      <td>1</td>\n",
       "      <td>0.871672</td>\n",
       "    </tr>\n",
       "    <tr>\n",
       "      <th>12</th>\n",
       "      <td>2</td>\n",
       "      <td>0.608276</td>\n",
       "    </tr>\n",
       "    <tr>\n",
       "      <th>13</th>\n",
       "      <td>3</td>\n",
       "      <td>0.450260</td>\n",
       "    </tr>\n",
       "    <tr>\n",
       "      <th>14</th>\n",
       "      <td>4</td>\n",
       "      <td>0.243059</td>\n",
       "    </tr>\n",
       "    <tr>\n",
       "      <th>15</th>\n",
       "      <td>5</td>\n",
       "      <td>0.417754</td>\n",
       "    </tr>\n",
       "    <tr>\n",
       "      <th>16</th>\n",
       "      <td>6</td>\n",
       "      <td>0.922033</td>\n",
       "    </tr>\n",
       "    <tr>\n",
       "      <th>17</th>\n",
       "      <td>7</td>\n",
       "      <td>0.723503</td>\n",
       "    </tr>\n",
       "    <tr>\n",
       "      <th>18</th>\n",
       "      <td>8</td>\n",
       "      <td>0.101899</td>\n",
       "    </tr>\n",
       "    <tr>\n",
       "      <th>19</th>\n",
       "      <td>9</td>\n",
       "      <td>0.857485</td>\n",
       "    </tr>\n",
       "  </tbody>\n",
       "</table>\n",
       "</div>"
      ],
      "text/plain": [
       "    a         b\n",
       "10  0  0.488563\n",
       "11  1  0.871672\n",
       "12  2  0.608276\n",
       "13  3  0.450260\n",
       "14  4  0.243059\n",
       "15  5  0.417754\n",
       "16  6  0.922033\n",
       "17  7  0.723503\n",
       "18  8  0.101899\n",
       "19  9  0.857485"
      ]
     },
     "execution_count": 275,
     "metadata": {},
     "output_type": "execute_result"
    }
   ],
   "source": [
    "df = pd.DataFrame({\n",
    "    'a': np.arange(10),\n",
    "    'b': np.random.rand(10)\n",
    "}, index=np.arange(10, 20))\n",
    "df"
   ]
  },
  {
   "cell_type": "code",
   "execution_count": 276,
   "metadata": {},
   "outputs": [
    {
     "data": {
      "text/plain": [
       "a    4.000000\n",
       "b    0.243059\n",
       "Name: 14, dtype: float64"
      ]
     },
     "execution_count": 276,
     "metadata": {},
     "output_type": "execute_result"
    }
   ],
   "source": [
    "# slicing on index\n",
    "df.loc[14]"
   ]
  },
  {
   "cell_type": "code",
   "execution_count": 277,
   "metadata": {},
   "outputs": [
    {
     "data": {
      "text/plain": [
       "a    4.000000\n",
       "b    0.243059\n",
       "Name: 14, dtype: float64"
      ]
     },
     "execution_count": 277,
     "metadata": {},
     "output_type": "execute_result"
    }
   ],
   "source": [
    "# slicing on location\n",
    "df.iloc[4]"
   ]
  },
  {
   "cell_type": "code",
   "execution_count": 278,
   "metadata": {},
   "outputs": [
    {
     "data": {
      "text/plain": [
       "10    0\n",
       "11    1\n",
       "12    2\n",
       "13    3\n",
       "14    4\n",
       "15    5\n",
       "16    6\n",
       "17    7\n",
       "18    8\n",
       "19    9\n",
       "Name: a, dtype: int64"
      ]
     },
     "execution_count": 278,
     "metadata": {},
     "output_type": "execute_result"
    }
   ],
   "source": [
    "# slicing on column\n",
    "df['a']"
   ]
  },
  {
   "cell_type": "code",
   "execution_count": 279,
   "metadata": {},
   "outputs": [
    {
     "data": {
      "text/html": [
       "<div>\n",
       "<style scoped>\n",
       "    .dataframe tbody tr th:only-of-type {\n",
       "        vertical-align: middle;\n",
       "    }\n",
       "\n",
       "    .dataframe tbody tr th {\n",
       "        vertical-align: top;\n",
       "    }\n",
       "\n",
       "    .dataframe thead th {\n",
       "        text-align: right;\n",
       "    }\n",
       "</style>\n",
       "<table border=\"1\" class=\"dataframe\">\n",
       "  <thead>\n",
       "    <tr style=\"text-align: right;\">\n",
       "      <th></th>\n",
       "      <th>a</th>\n",
       "      <th>b</th>\n",
       "    </tr>\n",
       "  </thead>\n",
       "  <tbody>\n",
       "    <tr>\n",
       "      <th>16</th>\n",
       "      <td>6</td>\n",
       "      <td>0.922033</td>\n",
       "    </tr>\n",
       "    <tr>\n",
       "      <th>17</th>\n",
       "      <td>7</td>\n",
       "      <td>0.723503</td>\n",
       "    </tr>\n",
       "    <tr>\n",
       "      <th>18</th>\n",
       "      <td>8</td>\n",
       "      <td>0.101899</td>\n",
       "    </tr>\n",
       "    <tr>\n",
       "      <th>19</th>\n",
       "      <td>9</td>\n",
       "      <td>0.857485</td>\n",
       "    </tr>\n",
       "  </tbody>\n",
       "</table>\n",
       "</div>"
      ],
      "text/plain": [
       "    a         b\n",
       "16  6  0.922033\n",
       "17  7  0.723503\n",
       "18  8  0.101899\n",
       "19  9  0.857485"
      ]
     },
     "execution_count": 279,
     "metadata": {},
     "output_type": "execute_result"
    }
   ],
   "source": [
    "# selecting\n",
    "df[df['a']>5]"
   ]
  },
  {
   "cell_type": "code",
   "execution_count": 280,
   "metadata": {},
   "outputs": [
    {
     "data": {
      "text/html": [
       "<div>\n",
       "<style scoped>\n",
       "    .dataframe tbody tr th:only-of-type {\n",
       "        vertical-align: middle;\n",
       "    }\n",
       "\n",
       "    .dataframe tbody tr th {\n",
       "        vertical-align: top;\n",
       "    }\n",
       "\n",
       "    .dataframe thead th {\n",
       "        text-align: right;\n",
       "    }\n",
       "</style>\n",
       "<table border=\"1\" class=\"dataframe\">\n",
       "  <thead>\n",
       "    <tr style=\"text-align: right;\">\n",
       "      <th></th>\n",
       "      <th>a</th>\n",
       "      <th>b</th>\n",
       "    </tr>\n",
       "  </thead>\n",
       "  <tbody>\n",
       "    <tr>\n",
       "      <th>14</th>\n",
       "      <td>4</td>\n",
       "      <td>0.243059</td>\n",
       "    </tr>\n",
       "    <tr>\n",
       "      <th>15</th>\n",
       "      <td>5</td>\n",
       "      <td>0.417754</td>\n",
       "    </tr>\n",
       "    <tr>\n",
       "      <th>16</th>\n",
       "      <td>6</td>\n",
       "      <td>0.922033</td>\n",
       "    </tr>\n",
       "    <tr>\n",
       "      <th>17</th>\n",
       "      <td>7</td>\n",
       "      <td>0.723503</td>\n",
       "    </tr>\n",
       "  </tbody>\n",
       "</table>\n",
       "</div>"
      ],
      "text/plain": [
       "    a         b\n",
       "14  4  0.243059\n",
       "15  5  0.417754\n",
       "16  6  0.922033\n",
       "17  7  0.723503"
      ]
     },
     "execution_count": 280,
     "metadata": {},
     "output_type": "execute_result"
    }
   ],
   "source": [
    "# advanced selecting\n",
    "df[(df['a']>3)&(df['a']<8)]"
   ]
  },
  {
   "cell_type": "code",
   "execution_count": 281,
   "metadata": {},
   "outputs": [
    {
     "data": {
      "text/plain": [
       "10    False\n",
       "11    False\n",
       "12    False\n",
       "13    False\n",
       "14     True\n",
       "15     True\n",
       "16     True\n",
       "17     True\n",
       "18     True\n",
       "19     True\n",
       "Name: a, dtype: bool"
      ]
     },
     "execution_count": 281,
     "metadata": {},
     "output_type": "execute_result"
    }
   ],
   "source": [
    "# selection mechanism\n",
    "df['a'] > 3"
   ]
  },
  {
   "cell_type": "code",
   "execution_count": 282,
   "metadata": {},
   "outputs": [
    {
     "data": {
      "text/html": [
       "<div>\n",
       "<style scoped>\n",
       "    .dataframe tbody tr th:only-of-type {\n",
       "        vertical-align: middle;\n",
       "    }\n",
       "\n",
       "    .dataframe tbody tr th {\n",
       "        vertical-align: top;\n",
       "    }\n",
       "\n",
       "    .dataframe thead th {\n",
       "        text-align: right;\n",
       "    }\n",
       "</style>\n",
       "<table border=\"1\" class=\"dataframe\">\n",
       "  <thead>\n",
       "    <tr style=\"text-align: right;\">\n",
       "      <th></th>\n",
       "      <th>a</th>\n",
       "      <th>b</th>\n",
       "    </tr>\n",
       "  </thead>\n",
       "  <tbody>\n",
       "    <tr>\n",
       "      <th>14</th>\n",
       "      <td>4</td>\n",
       "      <td>0.243059</td>\n",
       "    </tr>\n",
       "    <tr>\n",
       "      <th>15</th>\n",
       "      <td>5</td>\n",
       "      <td>0.417754</td>\n",
       "    </tr>\n",
       "    <tr>\n",
       "      <th>16</th>\n",
       "      <td>6</td>\n",
       "      <td>0.922033</td>\n",
       "    </tr>\n",
       "    <tr>\n",
       "      <th>17</th>\n",
       "      <td>7</td>\n",
       "      <td>0.723503</td>\n",
       "    </tr>\n",
       "  </tbody>\n",
       "</table>\n",
       "</div>"
      ],
      "text/plain": [
       "    a         b\n",
       "14  4  0.243059\n",
       "15  5  0.417754\n",
       "16  6  0.922033\n",
       "17  7  0.723503"
      ]
     },
     "execution_count": 282,
     "metadata": {},
     "output_type": "execute_result"
    }
   ],
   "source": [
    "# querying\n",
    "df.query('a > 3 and a < 8')"
   ]
  },
  {
   "cell_type": "markdown",
   "metadata": {},
   "source": [
    "## Joining"
   ]
  },
  {
   "cell_type": "code",
   "execution_count": 5,
   "metadata": {},
   "outputs": [
    {
     "data": {
      "text/plain": [
       "0     0\n",
       "1     2\n",
       "2     4\n",
       "3     6\n",
       "4     8\n",
       "5    10\n",
       "6    12\n",
       "7    14\n",
       "8    16\n",
       "9    18\n",
       "Name: twox, dtype: int64"
      ]
     },
     "execution_count": 5,
     "metadata": {},
     "output_type": "execute_result"
    }
   ],
   "source": [
    "mapp = pd.Series({x: 2*x for x in range(10)}, name='twox')\n",
    "mapp"
   ]
  },
  {
   "cell_type": "code",
   "execution_count": 6,
   "metadata": {},
   "outputs": [
    {
     "data": {
      "text/html": [
       "<div>\n",
       "<style scoped>\n",
       "    .dataframe tbody tr th:only-of-type {\n",
       "        vertical-align: middle;\n",
       "    }\n",
       "\n",
       "    .dataframe tbody tr th {\n",
       "        vertical-align: top;\n",
       "    }\n",
       "\n",
       "    .dataframe thead th {\n",
       "        text-align: right;\n",
       "    }\n",
       "</style>\n",
       "<table border=\"1\" class=\"dataframe\">\n",
       "  <thead>\n",
       "    <tr style=\"text-align: right;\">\n",
       "      <th></th>\n",
       "      <th>ser</th>\n",
       "      <th>val</th>\n",
       "    </tr>\n",
       "  </thead>\n",
       "  <tbody>\n",
       "    <tr>\n",
       "      <th>0</th>\n",
       "      <td>2</td>\n",
       "      <td>0.621572</td>\n",
       "    </tr>\n",
       "    <tr>\n",
       "      <th>1</th>\n",
       "      <td>2</td>\n",
       "      <td>0.213838</td>\n",
       "    </tr>\n",
       "    <tr>\n",
       "      <th>2</th>\n",
       "      <td>9</td>\n",
       "      <td>0.773477</td>\n",
       "    </tr>\n",
       "    <tr>\n",
       "      <th>3</th>\n",
       "      <td>8</td>\n",
       "      <td>0.976865</td>\n",
       "    </tr>\n",
       "    <tr>\n",
       "      <th>4</th>\n",
       "      <td>7</td>\n",
       "      <td>0.108932</td>\n",
       "    </tr>\n",
       "  </tbody>\n",
       "</table>\n",
       "</div>"
      ],
      "text/plain": [
       "   ser       val\n",
       "0    2  0.621572\n",
       "1    2  0.213838\n",
       "2    9  0.773477\n",
       "3    8  0.976865\n",
       "4    7  0.108932"
      ]
     },
     "execution_count": 6,
     "metadata": {},
     "output_type": "execute_result"
    }
   ],
   "source": [
    "init = pd.DataFrame({\n",
    "    'ser': np.random.randint(10, size=100),\n",
    "    'val': np.random.rand(100)\n",
    "})\n",
    "init.head()"
   ]
  },
  {
   "cell_type": "code",
   "execution_count": 7,
   "metadata": {},
   "outputs": [
    {
     "data": {
      "text/html": [
       "<div>\n",
       "<style scoped>\n",
       "    .dataframe tbody tr th:only-of-type {\n",
       "        vertical-align: middle;\n",
       "    }\n",
       "\n",
       "    .dataframe tbody tr th {\n",
       "        vertical-align: top;\n",
       "    }\n",
       "\n",
       "    .dataframe thead th {\n",
       "        text-align: right;\n",
       "    }\n",
       "</style>\n",
       "<table border=\"1\" class=\"dataframe\">\n",
       "  <thead>\n",
       "    <tr style=\"text-align: right;\">\n",
       "      <th></th>\n",
       "      <th>ser</th>\n",
       "      <th>val</th>\n",
       "      <th>twox</th>\n",
       "    </tr>\n",
       "  </thead>\n",
       "  <tbody>\n",
       "    <tr>\n",
       "      <th>0</th>\n",
       "      <td>2</td>\n",
       "      <td>0.621572</td>\n",
       "      <td>4</td>\n",
       "    </tr>\n",
       "    <tr>\n",
       "      <th>1</th>\n",
       "      <td>2</td>\n",
       "      <td>0.213838</td>\n",
       "      <td>4</td>\n",
       "    </tr>\n",
       "    <tr>\n",
       "      <th>2</th>\n",
       "      <td>9</td>\n",
       "      <td>0.773477</td>\n",
       "      <td>18</td>\n",
       "    </tr>\n",
       "    <tr>\n",
       "      <th>3</th>\n",
       "      <td>8</td>\n",
       "      <td>0.976865</td>\n",
       "      <td>16</td>\n",
       "    </tr>\n",
       "    <tr>\n",
       "      <th>4</th>\n",
       "      <td>7</td>\n",
       "      <td>0.108932</td>\n",
       "      <td>14</td>\n",
       "    </tr>\n",
       "  </tbody>\n",
       "</table>\n",
       "</div>"
      ],
      "text/plain": [
       "   ser       val  twox\n",
       "0    2  0.621572     4\n",
       "1    2  0.213838     4\n",
       "2    9  0.773477    18\n",
       "3    8  0.976865    16\n",
       "4    7  0.108932    14"
      ]
     },
     "execution_count": 7,
     "metadata": {},
     "output_type": "execute_result"
    }
   ],
   "source": [
    "final = init.join(mapp, on='ser')\n",
    "final.head()"
   ]
  },
  {
   "cell_type": "code",
   "execution_count": 8,
   "metadata": {},
   "outputs": [
    {
     "data": {
      "text/html": [
       "<div>\n",
       "<style scoped>\n",
       "    .dataframe tbody tr th:only-of-type {\n",
       "        vertical-align: middle;\n",
       "    }\n",
       "\n",
       "    .dataframe tbody tr th {\n",
       "        vertical-align: top;\n",
       "    }\n",
       "\n",
       "    .dataframe thead th {\n",
       "        text-align: right;\n",
       "    }\n",
       "</style>\n",
       "<table border=\"1\" class=\"dataframe\">\n",
       "  <thead>\n",
       "    <tr style=\"text-align: right;\">\n",
       "      <th></th>\n",
       "      <th>ser</th>\n",
       "      <th>val</th>\n",
       "      <th>twox</th>\n",
       "      <th>check</th>\n",
       "    </tr>\n",
       "  </thead>\n",
       "  <tbody>\n",
       "    <tr>\n",
       "      <th>0</th>\n",
       "      <td>2</td>\n",
       "      <td>0.621572</td>\n",
       "      <td>4</td>\n",
       "      <td>True</td>\n",
       "    </tr>\n",
       "    <tr>\n",
       "      <th>1</th>\n",
       "      <td>2</td>\n",
       "      <td>0.213838</td>\n",
       "      <td>4</td>\n",
       "      <td>True</td>\n",
       "    </tr>\n",
       "    <tr>\n",
       "      <th>2</th>\n",
       "      <td>9</td>\n",
       "      <td>0.773477</td>\n",
       "      <td>18</td>\n",
       "      <td>True</td>\n",
       "    </tr>\n",
       "    <tr>\n",
       "      <th>3</th>\n",
       "      <td>8</td>\n",
       "      <td>0.976865</td>\n",
       "      <td>16</td>\n",
       "      <td>True</td>\n",
       "    </tr>\n",
       "    <tr>\n",
       "      <th>4</th>\n",
       "      <td>7</td>\n",
       "      <td>0.108932</td>\n",
       "      <td>14</td>\n",
       "      <td>True</td>\n",
       "    </tr>\n",
       "  </tbody>\n",
       "</table>\n",
       "</div>"
      ],
      "text/plain": [
       "   ser       val  twox  check\n",
       "0    2  0.621572     4   True\n",
       "1    2  0.213838     4   True\n",
       "2    9  0.773477    18   True\n",
       "3    8  0.976865    16   True\n",
       "4    7  0.108932    14   True"
      ]
     },
     "execution_count": 8,
     "metadata": {},
     "output_type": "execute_result"
    }
   ],
   "source": [
    "final['check'] = final['twox'] == 2*final['ser']\n",
    "final.head()"
   ]
  },
  {
   "cell_type": "code",
   "execution_count": 9,
   "metadata": {},
   "outputs": [
    {
     "name": "stdout",
     "output_type": "stream",
     "text": [
      "True\n"
     ]
    }
   ],
   "source": [
    "print(final['check'].all())"
   ]
  },
  {
   "cell_type": "markdown",
   "metadata": {},
   "source": [
    "### Stack and unstack (and some pivot)"
   ]
  },
  {
   "cell_type": "code",
   "execution_count": 11,
   "metadata": {},
   "outputs": [
    {
     "data": {
      "text/plain": [
       "[(0, 1), (1, 2), (2, 3)]"
      ]
     },
     "execution_count": 11,
     "metadata": {},
     "output_type": "execute_result"
    }
   ],
   "source": [
    "a = [0, 1, 2]\n",
    "b = [1, 2, 3]\n",
    "list(zip(a, b))"
   ]
  },
  {
   "cell_type": "code",
   "execution_count": 20,
   "metadata": {},
   "outputs": [
    {
     "data": {
      "text/html": [
       "<div>\n",
       "<style scoped>\n",
       "    .dataframe tbody tr th:only-of-type {\n",
       "        vertical-align: middle;\n",
       "    }\n",
       "\n",
       "    .dataframe tbody tr th {\n",
       "        vertical-align: top;\n",
       "    }\n",
       "\n",
       "    .dataframe thead th {\n",
       "        text-align: right;\n",
       "    }\n",
       "</style>\n",
       "<table border=\"1\" class=\"dataframe\">\n",
       "  <thead>\n",
       "    <tr style=\"text-align: right;\">\n",
       "      <th></th>\n",
       "      <th>pid</th>\n",
       "      <th>cid</th>\n",
       "      <th>income</th>\n",
       "    </tr>\n",
       "  </thead>\n",
       "  <tbody>\n",
       "    <tr>\n",
       "      <th>0</th>\n",
       "      <td>0</td>\n",
       "      <td>100</td>\n",
       "      <td>0.399383</td>\n",
       "    </tr>\n",
       "    <tr>\n",
       "      <th>1</th>\n",
       "      <td>0</td>\n",
       "      <td>105</td>\n",
       "      <td>0.226980</td>\n",
       "    </tr>\n",
       "    <tr>\n",
       "      <th>2</th>\n",
       "      <td>0</td>\n",
       "      <td>110</td>\n",
       "      <td>0.405280</td>\n",
       "    </tr>\n",
       "    <tr>\n",
       "      <th>3</th>\n",
       "      <td>1</td>\n",
       "      <td>101</td>\n",
       "      <td>0.807070</td>\n",
       "    </tr>\n",
       "    <tr>\n",
       "      <th>4</th>\n",
       "      <td>1</td>\n",
       "      <td>106</td>\n",
       "      <td>0.434924</td>\n",
       "    </tr>\n",
       "    <tr>\n",
       "      <th>5</th>\n",
       "      <td>1</td>\n",
       "      <td>111</td>\n",
       "      <td>0.839942</td>\n",
       "    </tr>\n",
       "    <tr>\n",
       "      <th>6</th>\n",
       "      <td>2</td>\n",
       "      <td>102</td>\n",
       "      <td>0.301537</td>\n",
       "    </tr>\n",
       "    <tr>\n",
       "      <th>7</th>\n",
       "      <td>2</td>\n",
       "      <td>107</td>\n",
       "      <td>0.783998</td>\n",
       "    </tr>\n",
       "    <tr>\n",
       "      <th>8</th>\n",
       "      <td>3</td>\n",
       "      <td>103</td>\n",
       "      <td>0.489635</td>\n",
       "    </tr>\n",
       "    <tr>\n",
       "      <th>9</th>\n",
       "      <td>3</td>\n",
       "      <td>108</td>\n",
       "      <td>0.120868</td>\n",
       "    </tr>\n",
       "    <tr>\n",
       "      <th>10</th>\n",
       "      <td>4</td>\n",
       "      <td>104</td>\n",
       "      <td>0.809601</td>\n",
       "    </tr>\n",
       "    <tr>\n",
       "      <th>11</th>\n",
       "      <td>4</td>\n",
       "      <td>109</td>\n",
       "      <td>0.848681</td>\n",
       "    </tr>\n",
       "  </tbody>\n",
       "</table>\n",
       "</div>"
      ],
      "text/plain": [
       "    pid  cid    income\n",
       "0     0  100  0.399383\n",
       "1     0  105  0.226980\n",
       "2     0  110  0.405280\n",
       "3     1  101  0.807070\n",
       "4     1  106  0.434924\n",
       "5     1  111  0.839942\n",
       "6     2  102  0.301537\n",
       "7     2  107  0.783998\n",
       "8     3  103  0.489635\n",
       "9     3  108  0.120868\n",
       "10    4  104  0.809601\n",
       "11    4  109  0.848681"
      ]
     },
     "execution_count": 20,
     "metadata": {},
     "output_type": "execute_result"
    }
   ],
   "source": [
    "# this constructs a family structure table\n",
    "M, N = 5, 12\n",
    "from itertools import cycle\n",
    "cmap = list(zip(cycle(range(M)), range(100, 100+N), np.random.rand(N)))\n",
    "pmap = pd.DataFrame(cmap, columns=['pid', 'cid', 'income'])\n",
    "pmap = pmap.sort_values('pid').reset_index(drop=True)\n",
    "pmap"
   ]
  },
  {
   "cell_type": "code",
   "execution_count": 21,
   "metadata": {},
   "outputs": [
    {
     "data": {
      "text/html": [
       "<div>\n",
       "<style scoped>\n",
       "    .dataframe tbody tr th:only-of-type {\n",
       "        vertical-align: middle;\n",
       "    }\n",
       "\n",
       "    .dataframe tbody tr th {\n",
       "        vertical-align: top;\n",
       "    }\n",
       "\n",
       "    .dataframe thead th {\n",
       "        text-align: right;\n",
       "    }\n",
       "</style>\n",
       "<table border=\"1\" class=\"dataframe\">\n",
       "  <thead>\n",
       "    <tr style=\"text-align: right;\">\n",
       "      <th></th>\n",
       "      <th></th>\n",
       "      <th>cid</th>\n",
       "      <th>income</th>\n",
       "    </tr>\n",
       "    <tr>\n",
       "      <th>pid</th>\n",
       "      <th>order</th>\n",
       "      <th></th>\n",
       "      <th></th>\n",
       "    </tr>\n",
       "  </thead>\n",
       "  <tbody>\n",
       "    <tr>\n",
       "      <th rowspan=\"3\" valign=\"top\">0</th>\n",
       "      <th>child0</th>\n",
       "      <td>100</td>\n",
       "      <td>0.399383</td>\n",
       "    </tr>\n",
       "    <tr>\n",
       "      <th>child1</th>\n",
       "      <td>105</td>\n",
       "      <td>0.226980</td>\n",
       "    </tr>\n",
       "    <tr>\n",
       "      <th>child2</th>\n",
       "      <td>110</td>\n",
       "      <td>0.405280</td>\n",
       "    </tr>\n",
       "    <tr>\n",
       "      <th rowspan=\"3\" valign=\"top\">1</th>\n",
       "      <th>child0</th>\n",
       "      <td>101</td>\n",
       "      <td>0.807070</td>\n",
       "    </tr>\n",
       "    <tr>\n",
       "      <th>child1</th>\n",
       "      <td>106</td>\n",
       "      <td>0.434924</td>\n",
       "    </tr>\n",
       "    <tr>\n",
       "      <th>child2</th>\n",
       "      <td>111</td>\n",
       "      <td>0.839942</td>\n",
       "    </tr>\n",
       "    <tr>\n",
       "      <th rowspan=\"2\" valign=\"top\">2</th>\n",
       "      <th>child0</th>\n",
       "      <td>102</td>\n",
       "      <td>0.301537</td>\n",
       "    </tr>\n",
       "    <tr>\n",
       "      <th>child1</th>\n",
       "      <td>107</td>\n",
       "      <td>0.783998</td>\n",
       "    </tr>\n",
       "    <tr>\n",
       "      <th rowspan=\"2\" valign=\"top\">3</th>\n",
       "      <th>child0</th>\n",
       "      <td>103</td>\n",
       "      <td>0.489635</td>\n",
       "    </tr>\n",
       "    <tr>\n",
       "      <th>child1</th>\n",
       "      <td>108</td>\n",
       "      <td>0.120868</td>\n",
       "    </tr>\n",
       "    <tr>\n",
       "      <th rowspan=\"2\" valign=\"top\">4</th>\n",
       "      <th>child0</th>\n",
       "      <td>104</td>\n",
       "      <td>0.809601</td>\n",
       "    </tr>\n",
       "    <tr>\n",
       "      <th>child1</th>\n",
       "      <td>109</td>\n",
       "      <td>0.848681</td>\n",
       "    </tr>\n",
       "  </tbody>\n",
       "</table>\n",
       "</div>"
      ],
      "text/plain": [
       "            cid    income\n",
       "pid order                \n",
       "0   child0  100  0.399383\n",
       "    child1  105  0.226980\n",
       "    child2  110  0.405280\n",
       "1   child0  101  0.807070\n",
       "    child1  106  0.434924\n",
       "    child2  111  0.839942\n",
       "2   child0  102  0.301537\n",
       "    child1  107  0.783998\n",
       "3   child0  103  0.489635\n",
       "    child1  108  0.120868\n",
       "4   child0  104  0.809601\n",
       "    child1  109  0.848681"
      ]
     },
     "execution_count": 21,
     "metadata": {},
     "output_type": "execute_result"
    }
   ],
   "source": [
    "# tabulate the order of each child\n",
    "pmap['order'] = pmap.groupby('pid').cumcount().apply(lambda x: f'child{x}')\n",
    "ptab = pmap.set_index(['pid', 'order'])\n",
    "ptab"
   ]
  },
  {
   "cell_type": "code",
   "execution_count": 27,
   "metadata": {},
   "outputs": [
    {
     "data": {
      "text/html": [
       "<div>\n",
       "<style scoped>\n",
       "    .dataframe tbody tr th:only-of-type {\n",
       "        vertical-align: middle;\n",
       "    }\n",
       "\n",
       "    .dataframe tbody tr th {\n",
       "        vertical-align: top;\n",
       "    }\n",
       "\n",
       "    .dataframe thead tr th {\n",
       "        text-align: left;\n",
       "    }\n",
       "\n",
       "    .dataframe thead tr:last-of-type th {\n",
       "        text-align: right;\n",
       "    }\n",
       "</style>\n",
       "<table border=\"1\" class=\"dataframe\">\n",
       "  <thead>\n",
       "    <tr>\n",
       "      <th></th>\n",
       "      <th colspan=\"3\" halign=\"left\">cid</th>\n",
       "      <th colspan=\"3\" halign=\"left\">income</th>\n",
       "    </tr>\n",
       "    <tr>\n",
       "      <th>order</th>\n",
       "      <th>child0</th>\n",
       "      <th>child1</th>\n",
       "      <th>child2</th>\n",
       "      <th>child0</th>\n",
       "      <th>child1</th>\n",
       "      <th>child2</th>\n",
       "    </tr>\n",
       "    <tr>\n",
       "      <th>pid</th>\n",
       "      <th></th>\n",
       "      <th></th>\n",
       "      <th></th>\n",
       "      <th></th>\n",
       "      <th></th>\n",
       "      <th></th>\n",
       "    </tr>\n",
       "  </thead>\n",
       "  <tbody>\n",
       "    <tr>\n",
       "      <th>0</th>\n",
       "      <td>100.0</td>\n",
       "      <td>105.0</td>\n",
       "      <td>110.0</td>\n",
       "      <td>0.399383</td>\n",
       "      <td>0.226980</td>\n",
       "      <td>0.405280</td>\n",
       "    </tr>\n",
       "    <tr>\n",
       "      <th>1</th>\n",
       "      <td>101.0</td>\n",
       "      <td>106.0</td>\n",
       "      <td>111.0</td>\n",
       "      <td>0.807070</td>\n",
       "      <td>0.434924</td>\n",
       "      <td>0.839942</td>\n",
       "    </tr>\n",
       "    <tr>\n",
       "      <th>2</th>\n",
       "      <td>102.0</td>\n",
       "      <td>107.0</td>\n",
       "      <td>NaN</td>\n",
       "      <td>0.301537</td>\n",
       "      <td>0.783998</td>\n",
       "      <td>NaN</td>\n",
       "    </tr>\n",
       "    <tr>\n",
       "      <th>3</th>\n",
       "      <td>103.0</td>\n",
       "      <td>108.0</td>\n",
       "      <td>NaN</td>\n",
       "      <td>0.489635</td>\n",
       "      <td>0.120868</td>\n",
       "      <td>NaN</td>\n",
       "    </tr>\n",
       "    <tr>\n",
       "      <th>4</th>\n",
       "      <td>104.0</td>\n",
       "      <td>109.0</td>\n",
       "      <td>NaN</td>\n",
       "      <td>0.809601</td>\n",
       "      <td>0.848681</td>\n",
       "      <td>NaN</td>\n",
       "    </tr>\n",
       "  </tbody>\n",
       "</table>\n",
       "</div>"
      ],
      "text/plain": [
       "         cid                  income                    \n",
       "order child0 child1 child2    child0    child1    child2\n",
       "pid                                                     \n",
       "0      100.0  105.0  110.0  0.399383  0.226980  0.405280\n",
       "1      101.0  106.0  111.0  0.807070  0.434924  0.839942\n",
       "2      102.0  107.0    NaN  0.301537  0.783998       NaN\n",
       "3      103.0  108.0    NaN  0.489635  0.120868       NaN\n",
       "4      104.0  109.0    NaN  0.809601  0.848681       NaN"
      ]
     },
     "execution_count": 27,
     "metadata": {},
     "output_type": "execute_result"
    }
   ],
   "source": [
    "fam = ptab.unstack(level=1)\n",
    "fam"
   ]
  },
  {
   "cell_type": "code",
   "execution_count": 19,
   "metadata": {},
   "outputs": [
    {
     "data": {
      "text/html": [
       "<div>\n",
       "<style scoped>\n",
       "    .dataframe tbody tr th:only-of-type {\n",
       "        vertical-align: middle;\n",
       "    }\n",
       "\n",
       "    .dataframe tbody tr th {\n",
       "        vertical-align: top;\n",
       "    }\n",
       "\n",
       "    .dataframe thead th {\n",
       "        text-align: right;\n",
       "    }\n",
       "</style>\n",
       "<table border=\"1\" class=\"dataframe\">\n",
       "  <thead>\n",
       "    <tr style=\"text-align: right;\">\n",
       "      <th></th>\n",
       "      <th></th>\n",
       "      <th>cid</th>\n",
       "      <th>income</th>\n",
       "    </tr>\n",
       "    <tr>\n",
       "      <th>pid</th>\n",
       "      <th>order</th>\n",
       "      <th></th>\n",
       "      <th></th>\n",
       "    </tr>\n",
       "  </thead>\n",
       "  <tbody>\n",
       "    <tr>\n",
       "      <th rowspan=\"3\" valign=\"top\">0</th>\n",
       "      <th>child0</th>\n",
       "      <td>100.0</td>\n",
       "      <td>0.380862</td>\n",
       "    </tr>\n",
       "    <tr>\n",
       "      <th>child1</th>\n",
       "      <td>105.0</td>\n",
       "      <td>0.751449</td>\n",
       "    </tr>\n",
       "    <tr>\n",
       "      <th>child2</th>\n",
       "      <td>110.0</td>\n",
       "      <td>0.564537</td>\n",
       "    </tr>\n",
       "    <tr>\n",
       "      <th rowspan=\"3\" valign=\"top\">1</th>\n",
       "      <th>child0</th>\n",
       "      <td>101.0</td>\n",
       "      <td>0.619776</td>\n",
       "    </tr>\n",
       "    <tr>\n",
       "      <th>child1</th>\n",
       "      <td>106.0</td>\n",
       "      <td>0.481614</td>\n",
       "    </tr>\n",
       "    <tr>\n",
       "      <th>child2</th>\n",
       "      <td>111.0</td>\n",
       "      <td>0.367543</td>\n",
       "    </tr>\n",
       "    <tr>\n",
       "      <th rowspan=\"2\" valign=\"top\">2</th>\n",
       "      <th>child0</th>\n",
       "      <td>102.0</td>\n",
       "      <td>0.454683</td>\n",
       "    </tr>\n",
       "    <tr>\n",
       "      <th>child1</th>\n",
       "      <td>107.0</td>\n",
       "      <td>0.647542</td>\n",
       "    </tr>\n",
       "    <tr>\n",
       "      <th rowspan=\"2\" valign=\"top\">3</th>\n",
       "      <th>child0</th>\n",
       "      <td>103.0</td>\n",
       "      <td>0.691210</td>\n",
       "    </tr>\n",
       "    <tr>\n",
       "      <th>child1</th>\n",
       "      <td>108.0</td>\n",
       "      <td>0.307746</td>\n",
       "    </tr>\n",
       "    <tr>\n",
       "      <th rowspan=\"2\" valign=\"top\">4</th>\n",
       "      <th>child0</th>\n",
       "      <td>104.0</td>\n",
       "      <td>0.195707</td>\n",
       "    </tr>\n",
       "    <tr>\n",
       "      <th>child1</th>\n",
       "      <td>109.0</td>\n",
       "      <td>0.398245</td>\n",
       "    </tr>\n",
       "  </tbody>\n",
       "</table>\n",
       "</div>"
      ],
      "text/plain": [
       "              cid    income\n",
       "pid order                  \n",
       "0   child0  100.0  0.380862\n",
       "    child1  105.0  0.751449\n",
       "    child2  110.0  0.564537\n",
       "1   child0  101.0  0.619776\n",
       "    child1  106.0  0.481614\n",
       "    child2  111.0  0.367543\n",
       "2   child0  102.0  0.454683\n",
       "    child1  107.0  0.647542\n",
       "3   child0  103.0  0.691210\n",
       "    child1  108.0  0.307746\n",
       "4   child0  104.0  0.195707\n",
       "    child1  109.0  0.398245"
      ]
     },
     "execution_count": 19,
     "metadata": {},
     "output_type": "execute_result"
    }
   ],
   "source": [
    "# the reverse operation gives us (almost) what we started with\n",
    "fam.stack(level='order')"
   ]
  },
  {
   "cell_type": "code",
   "execution_count": 28,
   "metadata": {},
   "outputs": [
    {
     "data": {
      "text/html": [
       "<div>\n",
       "<style scoped>\n",
       "    .dataframe tbody tr th:only-of-type {\n",
       "        vertical-align: middle;\n",
       "    }\n",
       "\n",
       "    .dataframe tbody tr th {\n",
       "        vertical-align: top;\n",
       "    }\n",
       "\n",
       "    .dataframe thead tr th {\n",
       "        text-align: left;\n",
       "    }\n",
       "\n",
       "    .dataframe thead tr:last-of-type th {\n",
       "        text-align: right;\n",
       "    }\n",
       "</style>\n",
       "<table border=\"1\" class=\"dataframe\">\n",
       "  <thead>\n",
       "    <tr>\n",
       "      <th></th>\n",
       "      <th colspan=\"3\" halign=\"left\">cid</th>\n",
       "      <th colspan=\"3\" halign=\"left\">income</th>\n",
       "    </tr>\n",
       "    <tr>\n",
       "      <th>order</th>\n",
       "      <th>child0</th>\n",
       "      <th>child1</th>\n",
       "      <th>child2</th>\n",
       "      <th>child0</th>\n",
       "      <th>child1</th>\n",
       "      <th>child2</th>\n",
       "    </tr>\n",
       "    <tr>\n",
       "      <th>pid</th>\n",
       "      <th></th>\n",
       "      <th></th>\n",
       "      <th></th>\n",
       "      <th></th>\n",
       "      <th></th>\n",
       "      <th></th>\n",
       "    </tr>\n",
       "  </thead>\n",
       "  <tbody>\n",
       "    <tr>\n",
       "      <th>0</th>\n",
       "      <td>100.0</td>\n",
       "      <td>105.0</td>\n",
       "      <td>110.0</td>\n",
       "      <td>0.399383</td>\n",
       "      <td>0.226980</td>\n",
       "      <td>0.405280</td>\n",
       "    </tr>\n",
       "    <tr>\n",
       "      <th>1</th>\n",
       "      <td>101.0</td>\n",
       "      <td>106.0</td>\n",
       "      <td>111.0</td>\n",
       "      <td>0.807070</td>\n",
       "      <td>0.434924</td>\n",
       "      <td>0.839942</td>\n",
       "    </tr>\n",
       "    <tr>\n",
       "      <th>2</th>\n",
       "      <td>102.0</td>\n",
       "      <td>107.0</td>\n",
       "      <td>NaN</td>\n",
       "      <td>0.301537</td>\n",
       "      <td>0.783998</td>\n",
       "      <td>NaN</td>\n",
       "    </tr>\n",
       "    <tr>\n",
       "      <th>3</th>\n",
       "      <td>103.0</td>\n",
       "      <td>108.0</td>\n",
       "      <td>NaN</td>\n",
       "      <td>0.489635</td>\n",
       "      <td>0.120868</td>\n",
       "      <td>NaN</td>\n",
       "    </tr>\n",
       "    <tr>\n",
       "      <th>4</th>\n",
       "      <td>104.0</td>\n",
       "      <td>109.0</td>\n",
       "      <td>NaN</td>\n",
       "      <td>0.809601</td>\n",
       "      <td>0.848681</td>\n",
       "      <td>NaN</td>\n",
       "    </tr>\n",
       "  </tbody>\n",
       "</table>\n",
       "</div>"
      ],
      "text/plain": [
       "         cid                  income                    \n",
       "order child0 child1 child2    child0    child1    child2\n",
       "pid                                                     \n",
       "0      100.0  105.0  110.0  0.399383  0.226980  0.405280\n",
       "1      101.0  106.0  111.0  0.807070  0.434924  0.839942\n",
       "2      102.0  107.0    NaN  0.301537  0.783998       NaN\n",
       "3      103.0  108.0    NaN  0.489635  0.120868       NaN\n",
       "4      104.0  109.0    NaN  0.809601  0.848681       NaN"
      ]
     },
     "execution_count": 28,
     "metadata": {},
     "output_type": "execute_result"
    }
   ],
   "source": [
    "# we can do this pivot too\n",
    "ptab.reset_index().pivot('pid', 'order', ['cid', 'income'])"
   ]
  },
  {
   "cell_type": "markdown",
   "metadata": {},
   "source": [
    "## Networks"
   ]
  },
  {
   "cell_type": "code",
   "execution_count": 322,
   "metadata": {},
   "outputs": [],
   "source": [
    "import networkx as nx"
   ]
  },
  {
   "cell_type": "code",
   "execution_count": 323,
   "metadata": {},
   "outputs": [
    {
     "data": {
      "text/html": [
       "<div>\n",
       "<style scoped>\n",
       "    .dataframe tbody tr th:only-of-type {\n",
       "        vertical-align: middle;\n",
       "    }\n",
       "\n",
       "    .dataframe tbody tr th {\n",
       "        vertical-align: top;\n",
       "    }\n",
       "\n",
       "    .dataframe thead th {\n",
       "        text-align: right;\n",
       "    }\n",
       "</style>\n",
       "<table border=\"1\" class=\"dataframe\">\n",
       "  <thead>\n",
       "    <tr style=\"text-align: right;\">\n",
       "      <th></th>\n",
       "      <th>src</th>\n",
       "      <th>dst</th>\n",
       "      <th>wgt</th>\n",
       "    </tr>\n",
       "  </thead>\n",
       "  <tbody>\n",
       "    <tr>\n",
       "      <th>0</th>\n",
       "      <td>2</td>\n",
       "      <td>1</td>\n",
       "      <td>0.814146</td>\n",
       "    </tr>\n",
       "    <tr>\n",
       "      <th>1</th>\n",
       "      <td>9</td>\n",
       "      <td>2</td>\n",
       "      <td>0.285914</td>\n",
       "    </tr>\n",
       "    <tr>\n",
       "      <th>3</th>\n",
       "      <td>4</td>\n",
       "      <td>6</td>\n",
       "      <td>0.678754</td>\n",
       "    </tr>\n",
       "    <tr>\n",
       "      <th>4</th>\n",
       "      <td>2</td>\n",
       "      <td>7</td>\n",
       "      <td>0.130463</td>\n",
       "    </tr>\n",
       "    <tr>\n",
       "      <th>5</th>\n",
       "      <td>2</td>\n",
       "      <td>5</td>\n",
       "      <td>0.319321</td>\n",
       "    </tr>\n",
       "  </tbody>\n",
       "</table>\n",
       "</div>"
      ],
      "text/plain": [
       "   src  dst       wgt\n",
       "0    2    1  0.814146\n",
       "1    9    2  0.285914\n",
       "3    4    6  0.678754\n",
       "4    2    7  0.130463\n",
       "5    2    5  0.319321"
      ]
     },
     "execution_count": 323,
     "metadata": {},
     "output_type": "execute_result"
    }
   ],
   "source": [
    "df = pd.DataFrame({\n",
    "    'src': np.random.randint(10, size=20),\n",
    "    'dst': np.random.randint(10, size=20),\n",
    "    'wgt': np.random.exponential(size=20)\n",
    "})\n",
    "df = df.drop_duplicates(subset=['src', 'dst'])\n",
    "df = df.query('src != dst')\n",
    "df.head()"
   ]
  },
  {
   "cell_type": "code",
   "execution_count": 324,
   "metadata": {},
   "outputs": [
    {
     "data": {
      "text/plain": [
       "<networkx.classes.graph.Graph at 0x7f30ff9d1f60>"
      ]
     },
     "execution_count": 324,
     "metadata": {},
     "output_type": "execute_result"
    }
   ],
   "source": [
    "G = nx.Graph()\n",
    "G.add_nodes_from(np.arange(10))\n",
    "G.add_weighted_edges_from([(x['src'], x['dst'], x['wgt']) for i, x in df.iterrows()])\n",
    "# G.add_weighted_edges_from(df[['src', 'dst', 'wgt']].values) # equivalent\n",
    "G"
   ]
  },
  {
   "cell_type": "code",
   "execution_count": 325,
   "metadata": {},
   "outputs": [
    {
     "data": {
      "image/png": "[encoded data removed]",
      "text/plain": [
       "<Figure size 432x288 with 1 Axes>"
      ]
     },
     "metadata": {},
     "output_type": "display_data"
    }
   ],
   "source": [
    "edgewidth = [5*d['weight'] for (u,v,d) in G.edges(data=True)]\n",
    "pos = nx.spring_layout(G, iterations=50)\n",
    "nx.draw_networkx(G, pos);\n",
    "nx.draw_networkx_edges(G, pos, width=edgewidth);"
   ]
  },
  {
   "cell_type": "code",
   "execution_count": 326,
   "metadata": {},
   "outputs": [
    {
     "data": {
      "text/plain": [
       "{0: 0.014984664628016488,\n",
       " 1: 0.25187011722483515,\n",
       " 2: 0.41342404251907744,\n",
       " 3: 0.4957342799865927,\n",
       " 4: 0.08565301767573853,\n",
       " 5: 0.40394644405039504,\n",
       " 6: 0.5856505923266612,\n",
       " 7: 0.011080427040346091,\n",
       " 8: 0.06634358195553779,\n",
       " 9: 0.04055806292115489}"
      ]
     },
     "execution_count": 326,
     "metadata": {},
     "output_type": "execute_result"
    }
   ],
   "source": [
    "nx.centrality.eigenvector.eigenvector_centrality(G, weight='weight')"
   ]
  },
  {
   "cell_type": "markdown",
   "metadata": {},
   "source": [
    "## Input/Output"
   ]
  },
  {
   "cell_type": "code",
   "execution_count": 327,
   "metadata": {},
   "outputs": [],
   "source": [
    "df = pd.DataFrame({\n",
    "    'one': np.cumsum(np.random.randn(1000)),\n",
    "    'two': np.cumsum(np.random.randn(1000)),\n",
    "    'three': np.cumsum(np.random.randn(1000))\n",
    "})\n",
    "df.to_csv('test.csv', index=False)"
   ]
  },
  {
   "cell_type": "code",
   "execution_count": 328,
   "metadata": {},
   "outputs": [
    {
     "name": "stdout",
     "output_type": "stream",
     "text": [
      "one,two,three\n",
      "-0.1285709281358981,0.3176125551074668,-0.2585060471555192\n",
      "-1.7741568477290834,0.16659566855322125,0.22210933024400203\n",
      "-3.810213559329566,-0.09773890588254999,0.3422721531311517\n",
      "-4.37376793620038,-1.6163588553623158,1.5383410177927561\n",
      "-4.451852742619451,-3.099750903224469,1.080724177796487\n",
      "-5.090891069970774,-3.2930124774664193,-0.51083324112867\n",
      "-4.795508132265199,-4.104892316330931,0.12842439609901457\n",
      "-4.280690500376044,-4.490414359516868,0.8423501732116149\n",
      "-3.974617847405019,-3.8938394114836363,1.8988281489591108\n"
     ]
    }
   ],
   "source": [
    "!head test.csv"
   ]
  },
  {
   "cell_type": "code",
   "execution_count": 329,
   "metadata": {},
   "outputs": [
    {
     "data": {
      "text/html": [
       "<div>\n",
       "<style scoped>\n",
       "    .dataframe tbody tr th:only-of-type {\n",
       "        vertical-align: middle;\n",
       "    }\n",
       "\n",
       "    .dataframe tbody tr th {\n",
       "        vertical-align: top;\n",
       "    }\n",
       "\n",
       "    .dataframe thead th {\n",
       "        text-align: right;\n",
       "    }\n",
       "</style>\n",
       "<table border=\"1\" class=\"dataframe\">\n",
       "  <thead>\n",
       "    <tr style=\"text-align: right;\">\n",
       "      <th></th>\n",
       "      <th>one</th>\n",
       "      <th>two</th>\n",
       "      <th>three</th>\n",
       "    </tr>\n",
       "  </thead>\n",
       "  <tbody>\n",
       "    <tr>\n",
       "      <th>0</th>\n",
       "      <td>-0.128571</td>\n",
       "      <td>0.317613</td>\n",
       "      <td>-0.258506</td>\n",
       "    </tr>\n",
       "    <tr>\n",
       "      <th>1</th>\n",
       "      <td>-1.774157</td>\n",
       "      <td>0.166596</td>\n",
       "      <td>0.222109</td>\n",
       "    </tr>\n",
       "    <tr>\n",
       "      <th>2</th>\n",
       "      <td>-3.810214</td>\n",
       "      <td>-0.097739</td>\n",
       "      <td>0.342272</td>\n",
       "    </tr>\n",
       "    <tr>\n",
       "      <th>3</th>\n",
       "      <td>-4.373768</td>\n",
       "      <td>-1.616359</td>\n",
       "      <td>1.538341</td>\n",
       "    </tr>\n",
       "    <tr>\n",
       "      <th>4</th>\n",
       "      <td>-4.451853</td>\n",
       "      <td>-3.099751</td>\n",
       "      <td>1.080724</td>\n",
       "    </tr>\n",
       "  </tbody>\n",
       "</table>\n",
       "</div>"
      ],
      "text/plain": [
       "        one       two     three\n",
       "0 -0.128571  0.317613 -0.258506\n",
       "1 -1.774157  0.166596  0.222109\n",
       "2 -3.810214 -0.097739  0.342272\n",
       "3 -4.373768 -1.616359  1.538341\n",
       "4 -4.451853 -3.099751  1.080724"
      ]
     },
     "execution_count": 329,
     "metadata": {},
     "output_type": "execute_result"
    }
   ],
   "source": [
    "df = pd.read_csv('test.csv')\n",
    "df.head()"
   ]
  },
  {
   "cell_type": "markdown",
   "metadata": {},
   "source": [
    "Can also use the many `pd.DataFrame.to_*` and `pd.read_*` function where `*` is one of:\n",
    "- csv\n",
    "- excel\n",
    "- json\n",
    "- html\n",
    "- latex\n",
    "- stata\n",
    "- sql"
   ]
  },
  {
   "cell_type": "markdown",
   "metadata": {},
   "source": [
    "## External Data"
   ]
  },
  {
   "cell_type": "code",
   "execution_count": 330,
   "metadata": {},
   "outputs": [],
   "source": [
    "import pandas_datareader as pdr"
   ]
  },
  {
   "cell_type": "code",
   "execution_count": 331,
   "metadata": {},
   "outputs": [
    {
     "data": {
      "text/html": [
       "<div>\n",
       "<style scoped>\n",
       "    .dataframe tbody tr th:only-of-type {\n",
       "        vertical-align: middle;\n",
       "    }\n",
       "\n",
       "    .dataframe tbody tr th {\n",
       "        vertical-align: top;\n",
       "    }\n",
       "\n",
       "    .dataframe thead th {\n",
       "        text-align: right;\n",
       "    }\n",
       "</style>\n",
       "<table border=\"1\" class=\"dataframe\">\n",
       "  <thead>\n",
       "    <tr style=\"text-align: right;\">\n",
       "      <th></th>\n",
       "      <th>unemp</th>\n",
       "      <th>empop</th>\n",
       "    </tr>\n",
       "    <tr>\n",
       "      <th>date</th>\n",
       "      <th></th>\n",
       "      <th></th>\n",
       "    </tr>\n",
       "  </thead>\n",
       "  <tbody>\n",
       "    <tr>\n",
       "      <th>1948-01-01</th>\n",
       "      <td>3.4</td>\n",
       "      <td>62.6</td>\n",
       "    </tr>\n",
       "    <tr>\n",
       "      <th>1948-02-01</th>\n",
       "      <td>3.8</td>\n",
       "      <td>62.7</td>\n",
       "    </tr>\n",
       "    <tr>\n",
       "      <th>1948-03-01</th>\n",
       "      <td>4.0</td>\n",
       "      <td>62.6</td>\n",
       "    </tr>\n",
       "    <tr>\n",
       "      <th>1948-04-01</th>\n",
       "      <td>3.9</td>\n",
       "      <td>62.9</td>\n",
       "    </tr>\n",
       "    <tr>\n",
       "      <th>1948-05-01</th>\n",
       "      <td>3.5</td>\n",
       "      <td>62.5</td>\n",
       "    </tr>\n",
       "  </tbody>\n",
       "</table>\n",
       "</div>"
      ],
      "text/plain": [
       "            unemp  empop\n",
       "date                    \n",
       "1948-01-01    3.4   62.6\n",
       "1948-02-01    3.8   62.7\n",
       "1948-03-01    4.0   62.6\n",
       "1948-04-01    3.9   62.9\n",
       "1948-05-01    3.5   62.5"
      ]
     },
     "execution_count": 331,
     "metadata": {},
     "output_type": "execute_result"
    }
   ],
   "source": [
    "emp = pdr.fred.FredReader(['UNRATE', 'LNS12300060'], start='1948-01-01').read()\n",
    "emp = emp.rename(columns={'UNRATE': 'unemp', 'LNS12300060': 'empop'}).rename_axis('date')\n",
    "emp.head()"
   ]
  },
  {
   "cell_type": "code",
   "execution_count": 333,
   "metadata": {},
   "outputs": [
    {
     "data": {
      "image/png": "[encoded data removed]",
      "text/plain": [
       "<Figure size 432x288 with 1 Axes>"
      ]
     },
     "metadata": {},
     "output_type": "display_data"
    }
   ],
   "source": [
    "emp.plot();"
   ]
  },
  {
   "cell_type": "code",
   "execution_count": 64,
   "metadata": {},
   "outputs": [],
   "source": [
    "# detrender\n",
    "def detrend(s):\n",
    "    name = s.name\n",
    "    df = s.reset_index()\n",
    "    df['year'] = df['date'].dt.year\n",
    "    ret = smf.ols(f'{name} ~ 1 + year', data=df).fit()\n",
    "    pred = pd.Series(ret.predict(), index=s.index)\n",
    "    return s - pred"
   ]
  },
  {
   "cell_type": "code",
   "execution_count": 269,
   "metadata": {},
   "outputs": [
    {
     "data": {
      "image/png": "[encoded data removed]",
      "text/plain": [
       "<Figure size 720x288 with 1 Axes>"
      ]
     },
     "metadata": {},
     "output_type": "display_data"
    }
   ],
   "source": [
    "emp.apply(detrend).plot(figsize=(10, 4));\n",
    "plt.legend(bbox_to_anchor=(1.0, 1.0));"
   ]
  },
  {
   "cell_type": "code",
   "execution_count": 65,
   "metadata": {},
   "outputs": [],
   "source": [
    "# detrend poly!\n",
    "def detrendn(s, deg=1):\n",
    "    name = s.name\n",
    "    df = s.reset_index()\n",
    "    df['year'] = df['date'].dt.year\n",
    "    df['zyear'] = df['year'] - df['year'].min()\n",
    "    reg = []\n",
    "    for n in range(deg+1):\n",
    "        ds = f'year{n}'\n",
    "        df[ds] = df['zyear']**n\n",
    "        reg.append(ds)\n",
    "    reg = f'{name} ~ ' + ' + '.join(reg)\n",
    "    ret = smf.ols(reg, data=df).fit()\n",
    "    pred = pd.Series(ret.predict(), index=s.index)\n",
    "    return s - pred"
   ]
  },
  {
   "cell_type": "code",
   "execution_count": 270,
   "metadata": {},
   "outputs": [
    {
     "data": {
      "image/png": "[encoded data removed]",
      "text/plain": [
       "<Figure size 720x288 with 1 Axes>"
      ]
     },
     "metadata": {},
     "output_type": "display_data"
    }
   ],
   "source": [
    "emp.apply(lambda s: detrendn(s, deg=3)).plot(figsize=(10, 4));\n",
    "plt.legend(bbox_to_anchor=(1.0, 1.0));"
   ]
  },
  {
   "cell_type": "code",
   "execution_count": 68,
   "metadata": {},
   "outputs": [],
   "source": [
    "# let's not reinvent the wheel\n",
    "def detrendn1(s, deg=1):\n",
    "    year = s.index.year\n",
    "    zyear = year - year.min()\n",
    "    coef = np.polyfit(zyear, s, deg)\n",
    "    vals = np.polyval(coef, zyear)\n",
    "    pred = pd.Series(vals, index=s.index, name=s.name)\n",
    "    return s - pred"
   ]
  },
  {
   "cell_type": "code",
   "execution_count": 271,
   "metadata": {},
   "outputs": [
    {
     "data": {
      "image/png": "[encoded data removed]",
      "text/plain": [
       "<Figure size 720x288 with 1 Axes>"
      ]
     },
     "metadata": {},
     "output_type": "display_data"
    }
   ],
   "source": [
    "emp.apply(lambda s: detrendn1(s, deg=3)).plot(figsize=(10, 4));\n",
    "plt.legend(bbox_to_anchor=(1.0, 1.0));"
   ]
  },
  {
   "cell_type": "code",
   "execution_count": 70,
   "metadata": {},
   "outputs": [
    {
     "data": {
      "image/png": "[encoded data removed]",
      "text/plain": [
       "<Figure size 432x288 with 1 Axes>"
      ]
     },
     "metadata": {},
     "output_type": "display_data"
    }
   ],
   "source": [
    "dvec = np.arange(1, 15+1)\n",
    "plt.bar(dvec, [np.std(detrendn1(emp['empop'], deg=d)) for d in dvec]);\n",
    "plt.xticks(dvec);"
   ]
  },
  {
   "cell_type": "markdown",
   "metadata": {},
   "source": [
    "# Regressions"
   ]
  },
  {
   "cell_type": "code",
   "execution_count": 335,
   "metadata": {},
   "outputs": [],
   "source": [
    "import statsmodels.formula.api as smf"
   ]
  },
  {
   "cell_type": "markdown",
   "metadata": {},
   "source": [
    "## Basic"
   ]
  },
  {
   "cell_type": "code",
   "execution_count": 334,
   "metadata": {},
   "outputs": [],
   "source": [
    "N = 100\n",
    "x = np.random.randn(N)\n",
    "y = 3*np.random.randn(N)\n",
    "z = 1 + 2*x + 3*y + 4*x*y + np.random.randn(N)\n",
    "df = pd.DataFrame({\n",
    "    'x': x,\n",
    "    'y': y,\n",
    "    'z': z\n",
    "})"
   ]
  },
  {
   "cell_type": "code",
   "execution_count": 336,
   "metadata": {},
   "outputs": [
    {
     "data": {
      "text/html": [
       "<table class=\"simpletable\">\n",
       "<caption>OLS Regression Results</caption>\n",
       "<tr>\n",
       "  <th>Dep. Variable:</th>            <td>z</td>        <th>  R-squared:         </th> <td>   0.385</td>\n",
       "</tr>\n",
       "<tr>\n",
       "  <th>Model:</th>                   <td>OLS</td>       <th>  Adj. R-squared:    </th> <td>   0.372</td>\n",
       "</tr>\n",
       "<tr>\n",
       "  <th>Method:</th>             <td>Least Squares</td>  <th>  F-statistic:       </th> <td>   30.38</td>\n",
       "</tr>\n",
       "<tr>\n",
       "  <th>Date:</th>             <td>Wed, 26 Sep 2018</td> <th>  Prob (F-statistic):</th> <td>5.71e-11</td>\n",
       "</tr>\n",
       "<tr>\n",
       "  <th>Time:</th>                 <td>11:29:44</td>     <th>  Log-Likelihood:    </th> <td> -370.58</td>\n",
       "</tr>\n",
       "<tr>\n",
       "  <th>No. Observations:</th>      <td>   100</td>      <th>  AIC:               </th> <td>   747.2</td>\n",
       "</tr>\n",
       "<tr>\n",
       "  <th>Df Residuals:</th>          <td>    97</td>      <th>  BIC:               </th> <td>   755.0</td>\n",
       "</tr>\n",
       "<tr>\n",
       "  <th>Df Model:</th>              <td>     2</td>      <th>                     </th>     <td> </td>   \n",
       "</tr>\n",
       "<tr>\n",
       "  <th>Covariance Type:</th>      <td>nonrobust</td>    <th>                     </th>     <td> </td>   \n",
       "</tr>\n",
       "</table>\n",
       "<table class=\"simpletable\">\n",
       "<tr>\n",
       "      <td></td>         <th>coef</th>     <th>std err</th>      <th>t</th>      <th>P>|t|</th>  <th>[0.025</th>    <th>0.975]</th>  \n",
       "</tr>\n",
       "<tr>\n",
       "  <th>Intercept</th> <td>    0.2666</td> <td>    1.007</td> <td>    0.265</td> <td> 0.792</td> <td>   -1.733</td> <td>    2.266</td>\n",
       "</tr>\n",
       "<tr>\n",
       "  <th>x</th>         <td>    0.0526</td> <td>    1.160</td> <td>    0.045</td> <td> 0.964</td> <td>   -2.249</td> <td>    2.354</td>\n",
       "</tr>\n",
       "<tr>\n",
       "  <th>y</th>         <td>    2.7259</td> <td>    0.350</td> <td>    7.778</td> <td> 0.000</td> <td>    2.030</td> <td>    3.421</td>\n",
       "</tr>\n",
       "</table>\n",
       "<table class=\"simpletable\">\n",
       "<tr>\n",
       "  <th>Omnibus:</th>       <td>67.658</td> <th>  Durbin-Watson:     </th> <td>   2.096</td> \n",
       "</tr>\n",
       "<tr>\n",
       "  <th>Prob(Omnibus):</th> <td> 0.000</td> <th>  Jarque-Bera (JB):  </th> <td> 589.405</td> \n",
       "</tr>\n",
       "<tr>\n",
       "  <th>Skew:</th>          <td>-1.962</td> <th>  Prob(JB):          </th> <td>1.03e-128</td>\n",
       "</tr>\n",
       "<tr>\n",
       "  <th>Kurtosis:</th>      <td>14.227</td> <th>  Cond. No.          </th> <td>    3.35</td> \n",
       "</tr>\n",
       "</table><br/><br/>Warnings:<br/>[1] Standard Errors assume that the covariance matrix of the errors is correctly specified."
      ],
      "text/plain": [
       "<class 'statsmodels.iolib.summary.Summary'>\n",
       "\"\"\"\n",
       "                            OLS Regression Results                            \n",
       "==============================================================================\n",
       "Dep. Variable:                      z   R-squared:                       0.385\n",
       "Model:                            OLS   Adj. R-squared:                  0.372\n",
       "Method:                 Least Squares   F-statistic:                     30.38\n",
       "Date:                Wed, 26 Sep 2018   Prob (F-statistic):           5.71e-11\n",
       "Time:                        11:29:44   Log-Likelihood:                -370.58\n",
       "No. Observations:                 100   AIC:                             747.2\n",
       "Df Residuals:                      97   BIC:                             755.0\n",
       "Df Model:                           2                                         \n",
       "Covariance Type:            nonrobust                                         \n",
       "==============================================================================\n",
       "                 coef    std err          t      P>|t|      [0.025      0.975]\n",
       "------------------------------------------------------------------------------\n",
       "Intercept      0.2666      1.007      0.265      0.792      -1.733       2.266\n",
       "x              0.0526      1.160      0.045      0.964      -2.249       2.354\n",
       "y              2.7259      0.350      7.778      0.000       2.030       3.421\n",
       "==============================================================================\n",
       "Omnibus:                       67.658   Durbin-Watson:                   2.096\n",
       "Prob(Omnibus):                  0.000   Jarque-Bera (JB):              589.405\n",
       "Skew:                          -1.962   Prob(JB):                    1.03e-128\n",
       "Kurtosis:                      14.227   Cond. No.                         3.35\n",
       "==============================================================================\n",
       "\n",
       "Warnings:\n",
       "[1] Standard Errors assume that the covariance matrix of the errors is correctly specified.\n",
       "\"\"\""
      ]
     },
     "execution_count": 336,
     "metadata": {},
     "output_type": "execute_result"
    }
   ],
   "source": [
    "ret = smf.ols('z ~ 1 + x + y', data=df).fit()\n",
    "ret.summary()"
   ]
  },
  {
   "cell_type": "code",
   "execution_count": 339,
   "metadata": {},
   "outputs": [
    {
     "data": {
      "text/plain": [
       "Intercept    0.266600\n",
       "x            0.052608\n",
       "y            2.725896\n",
       "dtype: float64"
      ]
     },
     "execution_count": 339,
     "metadata": {},
     "output_type": "execute_result"
    }
   ],
   "source": [
    "ret.params"
   ]
  },
  {
   "cell_type": "code",
   "execution_count": 342,
   "metadata": {},
   "outputs": [
    {
     "data": {
      "text/html": [
       "<table class=\"simpletable\">\n",
       "<caption>OLS Regression Results</caption>\n",
       "<tr>\n",
       "  <th>Dep. Variable:</th>            <td>z</td>        <th>  R-squared:         </th> <td>   0.994</td> \n",
       "</tr>\n",
       "<tr>\n",
       "  <th>Model:</th>                   <td>OLS</td>       <th>  Adj. R-squared:    </th> <td>   0.994</td> \n",
       "</tr>\n",
       "<tr>\n",
       "  <th>Method:</th>             <td>Least Squares</td>  <th>  F-statistic:       </th> <td>   5427.</td> \n",
       "</tr>\n",
       "<tr>\n",
       "  <th>Date:</th>             <td>Wed, 26 Sep 2018</td> <th>  Prob (F-statistic):</th> <td>5.74e-107</td>\n",
       "</tr>\n",
       "<tr>\n",
       "  <th>Time:</th>                 <td>11:32:52</td>     <th>  Log-Likelihood:    </th> <td> -137.93</td> \n",
       "</tr>\n",
       "<tr>\n",
       "  <th>No. Observations:</th>      <td>   100</td>      <th>  AIC:               </th> <td>   283.9</td> \n",
       "</tr>\n",
       "<tr>\n",
       "  <th>Df Residuals:</th>          <td>    96</td>      <th>  BIC:               </th> <td>   294.3</td> \n",
       "</tr>\n",
       "<tr>\n",
       "  <th>Df Model:</th>              <td>     3</td>      <th>                     </th>     <td> </td>    \n",
       "</tr>\n",
       "<tr>\n",
       "  <th>Covariance Type:</th>      <td>nonrobust</td>    <th>                     </th>     <td> </td>    \n",
       "</tr>\n",
       "</table>\n",
       "<table class=\"simpletable\">\n",
       "<tr>\n",
       "      <td></td>         <th>coef</th>     <th>std err</th>      <th>t</th>      <th>P>|t|</th>  <th>[0.025</th>    <th>0.975]</th>  \n",
       "</tr>\n",
       "<tr>\n",
       "  <th>Intercept</th> <td>    1.0532</td> <td>    0.099</td> <td>   10.621</td> <td> 0.000</td> <td>    0.856</td> <td>    1.250</td>\n",
       "</tr>\n",
       "<tr>\n",
       "  <th>x</th>         <td>    1.9658</td> <td>    0.115</td> <td>   17.031</td> <td> 0.000</td> <td>    1.737</td> <td>    2.195</td>\n",
       "</tr>\n",
       "<tr>\n",
       "  <th>y</th>         <td>    2.9763</td> <td>    0.034</td> <td>   86.307</td> <td> 0.000</td> <td>    2.908</td> <td>    3.045</td>\n",
       "</tr>\n",
       "<tr>\n",
       "  <th>x:y</th>       <td>    4.0321</td> <td>    0.040</td> <td>   99.874</td> <td> 0.000</td> <td>    3.952</td> <td>    4.112</td>\n",
       "</tr>\n",
       "</table>\n",
       "<table class=\"simpletable\">\n",
       "<tr>\n",
       "  <th>Omnibus:</th>       <td> 3.976</td> <th>  Durbin-Watson:     </th> <td>   2.031</td>\n",
       "</tr>\n",
       "<tr>\n",
       "  <th>Prob(Omnibus):</th> <td> 0.137</td> <th>  Jarque-Bera (JB):  </th> <td>   3.488</td>\n",
       "</tr>\n",
       "<tr>\n",
       "  <th>Skew:</th>          <td> 0.309</td> <th>  Prob(JB):          </th> <td>   0.175</td>\n",
       "</tr>\n",
       "<tr>\n",
       "  <th>Kurtosis:</th>      <td> 3.674</td> <th>  Cond. No.          </th> <td>    3.42</td>\n",
       "</tr>\n",
       "</table><br/><br/>Warnings:<br/>[1] Standard Errors assume that the covariance matrix of the errors is correctly specified."
      ],
      "text/plain": [
       "<class 'statsmodels.iolib.summary.Summary'>\n",
       "\"\"\"\n",
       "                            OLS Regression Results                            \n",
       "==============================================================================\n",
       "Dep. Variable:                      z   R-squared:                       0.994\n",
       "Model:                            OLS   Adj. R-squared:                  0.994\n",
       "Method:                 Least Squares   F-statistic:                     5427.\n",
       "Date:                Wed, 26 Sep 2018   Prob (F-statistic):          5.74e-107\n",
       "Time:                        11:32:52   Log-Likelihood:                -137.93\n",
       "No. Observations:                 100   AIC:                             283.9\n",
       "Df Residuals:                      96   BIC:                             294.3\n",
       "Df Model:                           3                                         \n",
       "Covariance Type:            nonrobust                                         \n",
       "==============================================================================\n",
       "                 coef    std err          t      P>|t|      [0.025      0.975]\n",
       "------------------------------------------------------------------------------\n",
       "Intercept      1.0532      0.099     10.621      0.000       0.856       1.250\n",
       "x              1.9658      0.115     17.031      0.000       1.737       2.195\n",
       "y              2.9763      0.034     86.307      0.000       2.908       3.045\n",
       "x:y            4.0321      0.040     99.874      0.000       3.952       4.112\n",
       "==============================================================================\n",
       "Omnibus:                        3.976   Durbin-Watson:                   2.031\n",
       "Prob(Omnibus):                  0.137   Jarque-Bera (JB):                3.488\n",
       "Skew:                           0.309   Prob(JB):                        0.175\n",
       "Kurtosis:                       3.674   Cond. No.                         3.42\n",
       "==============================================================================\n",
       "\n",
       "Warnings:\n",
       "[1] Standard Errors assume that the covariance matrix of the errors is correctly specified.\n",
       "\"\"\""
      ]
     },
     "execution_count": 342,
     "metadata": {},
     "output_type": "execute_result"
    }
   ],
   "source": [
    "ret = smf.ols('z ~ 1 + x*y', data=df).fit()\n",
    "ret.summary()"
   ]
  },
  {
   "cell_type": "code",
   "execution_count": 75,
   "metadata": {},
   "outputs": [
    {
     "data": {
      "image/png": "[encoded data removed]",
      "text/plain": [
       "<Figure size 432x288 with 1 Axes>"
      ]
     },
     "metadata": {},
     "output_type": "display_data"
    }
   ],
   "source": [
    "sns.regplot('z', 'y', data=df);"
   ]
  },
  {
   "cell_type": "markdown",
   "metadata": {},
   "source": [
    "## Categorical"
   ]
  },
  {
   "cell_type": "code",
   "execution_count": 343,
   "metadata": {},
   "outputs": [],
   "source": [
    "# make some fake data\n",
    "N = 100\n",
    "block = np.random.randint(4, size=N)\n",
    "cmean = np.array([0.1, 0.2, 0.3, 0.4])\n",
    "cvars = np.array([0.2, 0.1, 0.5, 0.2])\n",
    "value = cmean[block] + np.random.randn(N)*cvars[block]\n",
    "df = pd.DataFrame({\n",
    "    'block': block,\n",
    "    'value': value\n",
    "})"
   ]
  },
  {
   "cell_type": "code",
   "execution_count": 346,
   "metadata": {},
   "outputs": [
    {
     "data": {
      "text/html": [
       "<table class=\"simpletable\">\n",
       "<caption>OLS Regression Results</caption>\n",
       "<tr>\n",
       "  <th>Dep. Variable:</th>          <td>value</td>      <th>  R-squared:         </th> <td>   0.140</td>\n",
       "</tr>\n",
       "<tr>\n",
       "  <th>Model:</th>                   <td>OLS</td>       <th>  Adj. R-squared:    </th> <td>   0.113</td>\n",
       "</tr>\n",
       "<tr>\n",
       "  <th>Method:</th>             <td>Least Squares</td>  <th>  F-statistic:       </th> <td>   5.218</td>\n",
       "</tr>\n",
       "<tr>\n",
       "  <th>Date:</th>             <td>Wed, 26 Sep 2018</td> <th>  Prob (F-statistic):</th>  <td>0.00222</td>\n",
       "</tr>\n",
       "<tr>\n",
       "  <th>Time:</th>                 <td>11:35:34</td>     <th>  Log-Likelihood:    </th> <td> -25.131</td>\n",
       "</tr>\n",
       "<tr>\n",
       "  <th>No. Observations:</th>      <td>   100</td>      <th>  AIC:               </th> <td>   58.26</td>\n",
       "</tr>\n",
       "<tr>\n",
       "  <th>Df Residuals:</th>          <td>    96</td>      <th>  BIC:               </th> <td>   68.68</td>\n",
       "</tr>\n",
       "<tr>\n",
       "  <th>Df Model:</th>              <td>     3</td>      <th>                     </th>     <td> </td>   \n",
       "</tr>\n",
       "<tr>\n",
       "  <th>Covariance Type:</th>      <td>nonrobust</td>    <th>                     </th>     <td> </td>   \n",
       "</tr>\n",
       "</table>\n",
       "<table class=\"simpletable\">\n",
       "<tr>\n",
       "       <td></td>          <th>coef</th>     <th>std err</th>      <th>t</th>      <th>P>|t|</th>  <th>[0.025</th>    <th>0.975]</th>  \n",
       "</tr>\n",
       "<tr>\n",
       "  <th>C(block)[0]</th> <td>    0.0620</td> <td>    0.062</td> <td>    0.996</td> <td> 0.322</td> <td>   -0.062</td> <td>    0.186</td>\n",
       "</tr>\n",
       "<tr>\n",
       "  <th>C(block)[1]</th> <td>    0.1982</td> <td>    0.073</td> <td>    2.721</td> <td> 0.008</td> <td>    0.054</td> <td>    0.343</td>\n",
       "</tr>\n",
       "<tr>\n",
       "  <th>C(block)[2]</th> <td>    0.1810</td> <td>    0.058</td> <td>    3.122</td> <td> 0.002</td> <td>    0.066</td> <td>    0.296</td>\n",
       "</tr>\n",
       "<tr>\n",
       "  <th>C(block)[3]</th> <td>    0.4081</td> <td>    0.064</td> <td>    6.427</td> <td> 0.000</td> <td>    0.282</td> <td>    0.534</td>\n",
       "</tr>\n",
       "</table>\n",
       "<table class=\"simpletable\">\n",
       "<tr>\n",
       "  <th>Omnibus:</th>       <td>11.487</td> <th>  Durbin-Watson:     </th> <td>   2.004</td>\n",
       "</tr>\n",
       "<tr>\n",
       "  <th>Prob(Omnibus):</th> <td> 0.003</td> <th>  Jarque-Bera (JB):  </th> <td>  27.499</td>\n",
       "</tr>\n",
       "<tr>\n",
       "  <th>Skew:</th>          <td>-0.263</td> <th>  Prob(JB):          </th> <td>1.07e-06</td>\n",
       "</tr>\n",
       "<tr>\n",
       "  <th>Kurtosis:</th>      <td> 5.514</td> <th>  Cond. No.          </th> <td>    1.26</td>\n",
       "</tr>\n",
       "</table><br/><br/>Warnings:<br/>[1] Standard Errors assume that the covariance matrix of the errors is correctly specified."
      ],
      "text/plain": [
       "<class 'statsmodels.iolib.summary.Summary'>\n",
       "\"\"\"\n",
       "                            OLS Regression Results                            \n",
       "==============================================================================\n",
       "Dep. Variable:                  value   R-squared:                       0.140\n",
       "Model:                            OLS   Adj. R-squared:                  0.113\n",
       "Method:                 Least Squares   F-statistic:                     5.218\n",
       "Date:                Wed, 26 Sep 2018   Prob (F-statistic):            0.00222\n",
       "Time:                        11:35:34   Log-Likelihood:                -25.131\n",
       "No. Observations:                 100   AIC:                             58.26\n",
       "Df Residuals:                      96   BIC:                             68.68\n",
       "Df Model:                           3                                         \n",
       "Covariance Type:            nonrobust                                         \n",
       "===============================================================================\n",
       "                  coef    std err          t      P>|t|      [0.025      0.975]\n",
       "-------------------------------------------------------------------------------\n",
       "C(block)[0]     0.0620      0.062      0.996      0.322      -0.062       0.186\n",
       "C(block)[1]     0.1982      0.073      2.721      0.008       0.054       0.343\n",
       "C(block)[2]     0.1810      0.058      3.122      0.002       0.066       0.296\n",
       "C(block)[3]     0.4081      0.064      6.427      0.000       0.282       0.534\n",
       "==============================================================================\n",
       "Omnibus:                       11.487   Durbin-Watson:                   2.004\n",
       "Prob(Omnibus):                  0.003   Jarque-Bera (JB):               27.499\n",
       "Skew:                          -0.263   Prob(JB):                     1.07e-06\n",
       "Kurtosis:                       5.514   Cond. No.                         1.26\n",
       "==============================================================================\n",
       "\n",
       "Warnings:\n",
       "[1] Standard Errors assume that the covariance matrix of the errors is correctly specified.\n",
       "\"\"\""
      ]
     },
     "execution_count": 346,
     "metadata": {},
     "output_type": "execute_result"
    }
   ],
   "source": [
    "ret = smf.ols('value ~ 0 + C(block)', data=df).fit()\n",
    "ret.summary()"
   ]
  },
  {
   "cell_type": "code",
   "execution_count": 347,
   "metadata": {},
   "outputs": [
    {
     "data": {
      "text/plain": [
       "C(block)[0]   -0.037959\n",
       "C(block)[1]   -0.001813\n",
       "C(block)[2]   -0.119017\n",
       "C(block)[3]    0.008109\n",
       "dtype: float64"
      ]
     },
     "execution_count": 347,
     "metadata": {},
     "output_type": "execute_result"
    }
   ],
   "source": [
    "ret.params - cmean"
   ]
  },
  {
   "cell_type": "code",
   "execution_count": 349,
   "metadata": {},
   "outputs": [],
   "source": [
    "stderr_reg = np.sqrt(ret.cov_params().values.diagonal())\n",
    "stderr_rob = np.sqrt(ret.cov_HC0.diagonal())"
   ]
  },
  {
   "cell_type": "markdown",
   "metadata": {},
   "source": [
    "## Bootstrapping"
   ]
  },
  {
   "cell_type": "code",
   "execution_count": 350,
   "metadata": {},
   "outputs": [],
   "source": [
    "from sklearn.utils import resample"
   ]
  },
  {
   "cell_type": "code",
   "execution_count": 351,
   "metadata": {},
   "outputs": [],
   "source": [
    "def gen_block_data(N, cmean, cvars):\n",
    "    cmean = np.array(cmean)\n",
    "    cvars = np.array(cvars)\n",
    "    block = np.random.randint(len(cmean), size=N)\n",
    "    value = cmean[block] + np.random.randn(N)*cvars[block]\n",
    "    return pd.DataFrame({\n",
    "        'block': block,\n",
    "        'value': value\n",
    "    })"
   ]
  },
  {
   "cell_type": "code",
   "execution_count": 352,
   "metadata": {},
   "outputs": [],
   "source": [
    "N = 100\n",
    "K = 1000\n",
    "cmean = [0.1, 0.2, 0.3, 0.4]\n",
    "cvars = [0.2, 0.1, 0.5, 0.2]\n",
    "mygen = lambda: gen_block_data(N, cmean, cvars)\n",
    "myeqn = 'value ~ 0 + C(block)'\n",
    "data0 = mygen()\n",
    "mysamp = lambda: resample(data0)"
   ]
  },
  {
   "cell_type": "code",
   "execution_count": 355,
   "metadata": {},
   "outputs": [],
   "source": [
    "res = pd.DataFrame({i: smf.ols(myeqn, data=mygen()).fit().params for i in range(K)}).T\n",
    "res.columns = ['b0', 'b1', 'b2', 'b3']\n",
    "stderr_bsp0 = res.std().values"
   ]
  },
  {
   "cell_type": "code",
   "execution_count": 353,
   "metadata": {},
   "outputs": [],
   "source": [
    "res = pd.DataFrame({i: smf.ols(myeqn, data=mysamp()).fit().params for i in range(K)}).T\n",
    "res.columns = ['b0', 'b1', 'b2', 'b3']\n",
    "stderr_bsp = res.std().values"
   ]
  },
  {
   "cell_type": "code",
   "execution_count": 356,
   "metadata": {},
   "outputs": [
    {
     "data": {
      "text/html": [
       "<div>\n",
       "<style scoped>\n",
       "    .dataframe tbody tr th:only-of-type {\n",
       "        vertical-align: middle;\n",
       "    }\n",
       "\n",
       "    .dataframe tbody tr th {\n",
       "        vertical-align: top;\n",
       "    }\n",
       "\n",
       "    .dataframe thead th {\n",
       "        text-align: right;\n",
       "    }\n",
       "</style>\n",
       "<table border=\"1\" class=\"dataframe\">\n",
       "  <thead>\n",
       "    <tr style=\"text-align: right;\">\n",
       "      <th></th>\n",
       "      <th>0</th>\n",
       "      <th>1</th>\n",
       "      <th>2</th>\n",
       "      <th>3</th>\n",
       "    </tr>\n",
       "  </thead>\n",
       "  <tbody>\n",
       "    <tr>\n",
       "      <th>stderr_reg</th>\n",
       "      <td>0.062271</td>\n",
       "      <td>0.072844</td>\n",
       "      <td>0.057971</td>\n",
       "      <td>0.063504</td>\n",
       "    </tr>\n",
       "    <tr>\n",
       "      <th>stderr_rob</th>\n",
       "      <td>0.042682</td>\n",
       "      <td>0.018810</td>\n",
       "      <td>0.089238</td>\n",
       "      <td>0.042940</td>\n",
       "    </tr>\n",
       "    <tr>\n",
       "      <th>stderr_bsp0</th>\n",
       "      <td>0.040457</td>\n",
       "      <td>0.019721</td>\n",
       "      <td>0.102378</td>\n",
       "      <td>0.041105</td>\n",
       "    </tr>\n",
       "    <tr>\n",
       "      <th>stderr_bsp</th>\n",
       "      <td>0.034028</td>\n",
       "      <td>0.023954</td>\n",
       "      <td>0.091076</td>\n",
       "      <td>0.040653</td>\n",
       "    </tr>\n",
       "  </tbody>\n",
       "</table>\n",
       "</div>"
      ],
      "text/plain": [
       "                    0         1         2         3\n",
       "stderr_reg   0.062271  0.072844  0.057971  0.063504\n",
       "stderr_rob   0.042682  0.018810  0.089238  0.042940\n",
       "stderr_bsp0  0.040457  0.019721  0.102378  0.041105\n",
       "stderr_bsp   0.034028  0.023954  0.091076  0.040653"
      ]
     },
     "execution_count": 356,
     "metadata": {},
     "output_type": "execute_result"
    }
   ],
   "source": [
    "pd.DataFrame({\n",
    "    'stderr_reg': stderr_reg,\n",
    "    'stderr_rob': stderr_rob,\n",
    "    'stderr_bsp0': stderr_bsp0,\n",
    "    'stderr_bsp': stderr_bsp\n",
    "}).T"
   ]
  },
  {
   "cell_type": "code",
   "execution_count": 86,
   "metadata": {},
   "outputs": [
    {
     "data": {
      "text/plain": [
       "array([0.99007563, 0.9698687 , 0.91714689, 0.96716595])"
      ]
     },
     "execution_count": 86,
     "metadata": {},
     "output_type": "execute_result"
    }
   ],
   "source": [
    "(2*(1/(stderr_bsp0/cvars)))**2/N"
   ]
  },
  {
   "cell_type": "markdown",
   "metadata": {},
   "source": [
    "## MAPS"
   ]
  },
  {
   "cell_type": "code",
   "execution_count": 4,
   "metadata": {},
   "outputs": [],
   "source": [
    "import geopandas as gpd\n",
    "from ipywidgets import interact, IntSlider"
   ]
  },
  {
   "cell_type": "code",
   "execution_count": 6,
   "metadata": {},
   "outputs": [
    {
     "name": "stdout",
     "output_type": "stream",
     "text": [
      "3830\n"
     ]
    },
    {
     "data": {
      "text/html": [
       "<div>\n",
       "<style scoped>\n",
       "    .dataframe tbody tr th:only-of-type {\n",
       "        vertical-align: middle;\n",
       "    }\n",
       "\n",
       "    .dataframe tbody tr th {\n",
       "        vertical-align: top;\n",
       "    }\n",
       "\n",
       "    .dataframe thead th {\n",
       "        text-align: right;\n",
       "    }\n",
       "</style>\n",
       "<table border=\"1\" class=\"dataframe\">\n",
       "  <thead>\n",
       "    <tr style=\"text-align: right;\">\n",
       "      <th></th>\n",
       "      <th>name_zh</th>\n",
       "      <th>name_en</th>\n",
       "      <th>beg_yr</th>\n",
       "      <th>end_yr</th>\n",
       "      <th>geometry</th>\n",
       "    </tr>\n",
       "  </thead>\n",
       "  <tbody>\n",
       "    <tr>\n",
       "      <th>0</th>\n",
       "      <td>辽州</td>\n",
       "      <td>Liao Zhou</td>\n",
       "      <td>1151</td>\n",
       "      <td>1217</td>\n",
       "      <td>POLYGON ((113.5494117121449 36.75454348982893,...</td>\n",
       "    </tr>\n",
       "    <tr>\n",
       "      <th>1</th>\n",
       "      <td>沁州</td>\n",
       "      <td>Qin Zhou</td>\n",
       "      <td>1129</td>\n",
       "      <td>1217</td>\n",
       "      <td>(POLYGON ((112.0031955306821 36.84233514703692...</td>\n",
       "    </tr>\n",
       "    <tr>\n",
       "      <th>2</th>\n",
       "      <td>霍州</td>\n",
       "      <td>Huo Zhou</td>\n",
       "      <td>1772</td>\n",
       "      <td>1911</td>\n",
       "      <td>(POLYGON ((111.859101043598 36.44625789061279,...</td>\n",
       "    </tr>\n",
       "    <tr>\n",
       "      <th>3</th>\n",
       "      <td>南泽州</td>\n",
       "      <td>Nanzhe Zhou</td>\n",
       "      <td>1128</td>\n",
       "      <td>1150</td>\n",
       "      <td>POLYGON ((113.2364541423517 35.44530150464939,...</td>\n",
       "    </tr>\n",
       "    <tr>\n",
       "      <th>4</th>\n",
       "      <td>泽州</td>\n",
       "      <td>Zezhou Fu</td>\n",
       "      <td>1151</td>\n",
       "      <td>1217</td>\n",
       "      <td>POLYGON ((113.2364541423517 35.44530150464939,...</td>\n",
       "    </tr>\n",
       "  </tbody>\n",
       "</table>\n",
       "</div>"
      ],
      "text/plain": [
       "  name_zh      name_en  beg_yr  end_yr  \\\n",
       "0      辽州    Liao Zhou    1151    1217   \n",
       "1      沁州     Qin Zhou    1129    1217   \n",
       "2      霍州     Huo Zhou    1772    1911   \n",
       "3     南泽州  Nanzhe Zhou    1128    1150   \n",
       "4      泽州    Zezhou Fu    1151    1217   \n",
       "\n",
       "                                            geometry  \n",
       "0  POLYGON ((113.5494117121449 36.75454348982893,...  \n",
       "1  (POLYGON ((112.0031955306821 36.84233514703692...  \n",
       "2  (POLYGON ((111.859101043598 36.44625789061279,...  \n",
       "3  POLYGON ((113.2364541423517 35.44530150464939,...  \n",
       "4  POLYGON ((113.2364541423517 35.44530150464939,...  "
      ]
     },
     "execution_count": 6,
     "metadata": {},
     "output_type": "execute_result"
    }
   ],
   "source": [
    "pref_hist = gpd.read_file('/media/Solid/data/china_firms_plus/prefect/polys/v6_time_pref_pgn_utf_wgs84.shp')\n",
    "pref_hist = pref_hist.rename(columns={\n",
    "    'NAME_CH': 'name_zh',\n",
    "    'NAME_PY': 'name_en',\n",
    "    'BEG_YR': 'beg_yr',\n",
    "    'END_YR': 'end_yr'\n",
    "})[['name_zh', 'name_en', 'beg_yr', 'end_yr', 'geometry']]\n",
    "print(len(pref_hist))\n",
    "pref_hist.head()"
   ]
  },
  {
   "cell_type": "code",
   "execution_count": 6,
   "metadata": {},
   "outputs": [
    {
     "data": {
      "image/png": "[encoded data removed]",
      "text/plain": [
       "<Figure size 504x504 with 1 Axes>"
      ]
     },
     "metadata": {},
     "output_type": "display_data"
    }
   ],
   "source": [
    "pref_hist.query('end_yr == 1911').plot(column='beg_yr', cmap='Blues_r', vmax=2200, figsize=(7, 7));"
   ]
  },
  {
   "cell_type": "code",
   "execution_count": 7,
   "metadata": {},
   "outputs": [
    {
     "data": {
      "application/vnd.jupyter.widget-view+json": {
       "model_id": "512500ecc60b4164ad0cee5fcc04af9d",
       "version_major": 2,
       "version_minor": 0
      },
      "text/plain": [
       "interactive(children=(IntSlider(value=1900, description='yr', max=1911, min=-224), Output()), _dom_classes=('w…"
      ]
     },
     "metadata": {},
     "output_type": "display_data"
    }
   ],
   "source": [
    "def plot_year(yr):\n",
    "    df = pref_hist.query(f'beg_yr <= {yr} and end_yr >= {yr}')\n",
    "    df['age'] = yr - df['beg_yr']\n",
    "    yrmax = df['age'].max()\n",
    "    fig, ax = plt.subplots(figsize=(7, 7))\n",
    "    df.plot(column='age', cmap='Blues', ax=ax, vmin=-100, vmax=600);\n",
    "    ax.set_xlim(85, 135)\n",
    "    ax.set_ylim(15, 50)\n",
    "    ax.set_aspect('equal')\n",
    "interact(plot_year, yr=IntSlider(min=-224, max=1911, value=1900));"
   ]
  },
  {
   "cell_type": "code",
   "execution_count": 8,
   "metadata": {},
   "outputs": [
    {
     "data": {
      "image/png": "[encoded data removed]",
      "text/plain": [
       "<Figure size 432x432 with 1 Axes>"
      ]
     },
     "metadata": {},
     "output_type": "display_data"
    }
   ],
   "source": [
    "fig, ax = plt.subplots(figsize=(6, 6))\n",
    "pref_range = pref_hist.sort_values('beg_yr')[['beg_yr', 'end_yr']].set_index(np.arange(len(pref_hist)))\n",
    "for (i, (b, e)) in pref_range.iterrows():\n",
    "    ax.hlines(i, b, e, linewidth=0.5)\n",
    "ax.yaxis.set_visible(False);\n",
    "ax.set_xlabel('year');\n",
    "ax.set_title('historical prectures of china');"
   ]
  },
  {
   "cell_type": "code",
   "execution_count": 9,
   "metadata": {},
   "outputs": [
    {
     "data": {
      "image/png": "[encoded data removed]",
      "text/plain": [
       "<Figure size 432x288 with 1 Axes>"
      ]
     },
     "metadata": {},
     "output_type": "display_data"
    }
   ],
   "source": [
    "pref_hist.query('end_yr == 1911').area.hist(log=True, bins=30, grid=False);"
   ]
  },
  {
   "cell_type": "markdown",
   "metadata": {},
   "source": [
    "### Advanced"
   ]
  },
  {
   "cell_type": "code",
   "execution_count": 9,
   "metadata": {},
   "outputs": [
    {
     "data": {
      "text/html": [
       "<div>\n",
       "<style scoped>\n",
       "    .dataframe tbody tr th:only-of-type {\n",
       "        vertical-align: middle;\n",
       "    }\n",
       "\n",
       "    .dataframe tbody tr th {\n",
       "        vertical-align: top;\n",
       "    }\n",
       "\n",
       "    .dataframe thead th {\n",
       "        text-align: right;\n",
       "    }\n",
       "</style>\n",
       "<table border=\"1\" class=\"dataframe\">\n",
       "  <thead>\n",
       "    <tr style=\"text-align: right;\">\n",
       "      <th></th>\n",
       "      <th>name_zh</th>\n",
       "      <th>name_en</th>\n",
       "      <th>beg_yr</th>\n",
       "      <th>end_yr</th>\n",
       "      <th>geometry</th>\n",
       "    </tr>\n",
       "  </thead>\n",
       "  <tbody>\n",
       "    <tr>\n",
       "      <th>2</th>\n",
       "      <td>霍州</td>\n",
       "      <td>Huo Zhou</td>\n",
       "      <td>1772</td>\n",
       "      <td>1911</td>\n",
       "      <td>(POLYGON ((111.859101043598 36.44625789061279,...</td>\n",
       "    </tr>\n",
       "    <tr>\n",
       "      <th>184</th>\n",
       "      <td>郧阳府</td>\n",
       "      <td>Yunyang Fu</td>\n",
       "      <td>1476</td>\n",
       "      <td>1911</td>\n",
       "      <td>POLYGON ((110.9188105395923 31.66655190992471,...</td>\n",
       "    </tr>\n",
       "    <tr>\n",
       "      <th>185</th>\n",
       "      <td>襄阳府</td>\n",
       "      <td>Xiangyang Fu</td>\n",
       "      <td>1476</td>\n",
       "      <td>1911</td>\n",
       "      <td>POLYGON ((112.6511344115614 31.66700855914823,...</td>\n",
       "    </tr>\n",
       "    <tr>\n",
       "      <th>186</th>\n",
       "      <td>德安府</td>\n",
       "      <td>De'an Fu</td>\n",
       "      <td>1729</td>\n",
       "      <td>1911</td>\n",
       "      <td>POLYGON ((113.9180143673158 31.39151155379741,...</td>\n",
       "    </tr>\n",
       "    <tr>\n",
       "      <th>187</th>\n",
       "      <td>汉阳府</td>\n",
       "      <td>Hanyang Fu</td>\n",
       "      <td>1763</td>\n",
       "      <td>1911</td>\n",
       "      <td>POLYGON ((114.3508516422754 30.68762580236229,...</td>\n",
       "    </tr>\n",
       "  </tbody>\n",
       "</table>\n",
       "</div>"
      ],
      "text/plain": [
       "    name_zh       name_en  beg_yr  end_yr  \\\n",
       "2        霍州      Huo Zhou    1772    1911   \n",
       "184     郧阳府    Yunyang Fu    1476    1911   \n",
       "185     襄阳府  Xiangyang Fu    1476    1911   \n",
       "186     德安府      De'an Fu    1729    1911   \n",
       "187     汉阳府    Hanyang Fu    1763    1911   \n",
       "\n",
       "                                              geometry  \n",
       "2    (POLYGON ((111.859101043598 36.44625789061279,...  \n",
       "184  POLYGON ((110.9188105395923 31.66655190992471,...  \n",
       "185  POLYGON ((112.6511344115614 31.66700855914823,...  \n",
       "186  POLYGON ((113.9180143673158 31.39151155379741,...  \n",
       "187  POLYGON ((114.3508516422754 30.68762580236229,...  "
      ]
     },
     "execution_count": 9,
     "metadata": {},
     "output_type": "execute_result"
    }
   ],
   "source": [
    "year = 1776\n",
    "pref_old = pref_hist.query(f'beg_yr <= {year} and end_yr >= {year}')\n",
    "pref_old = pref_old[pref_old.is_valid]\n",
    "pref_old.head()"
   ]
  },
  {
   "cell_type": "code",
   "execution_count": 10,
   "metadata": {},
   "outputs": [
    {
     "data": {
      "text/html": [
       "<div>\n",
       "<style scoped>\n",
       "    .dataframe tbody tr th:only-of-type {\n",
       "        vertical-align: middle;\n",
       "    }\n",
       "\n",
       "    .dataframe tbody tr th {\n",
       "        vertical-align: top;\n",
       "    }\n",
       "\n",
       "    .dataframe thead th {\n",
       "        text-align: right;\n",
       "    }\n",
       "</style>\n",
       "<table border=\"1\" class=\"dataframe\">\n",
       "  <thead>\n",
       "    <tr style=\"text-align: right;\">\n",
       "      <th></th>\n",
       "      <th>name_zh</th>\n",
       "      <th>name_en</th>\n",
       "      <th>geometry</th>\n",
       "    </tr>\n",
       "  </thead>\n",
       "  <tbody>\n",
       "    <tr>\n",
       "      <th>0</th>\n",
       "      <td>安庆市</td>\n",
       "      <td>Ānqìng</td>\n",
       "      <td>POLYGON ((117.1155700683596 31.16616439819359,...</td>\n",
       "    </tr>\n",
       "    <tr>\n",
       "      <th>1</th>\n",
       "      <td>蚌埠市</td>\n",
       "      <td>Bèngbù</td>\n",
       "      <td>POLYGON ((117.2620468139648 33.49958801269543,...</td>\n",
       "    </tr>\n",
       "    <tr>\n",
       "      <th>2</th>\n",
       "      <td>亳州市</td>\n",
       "      <td>Bózhōu</td>\n",
       "      <td>POLYGON ((115.739501953125 34.07428359985374, ...</td>\n",
       "    </tr>\n",
       "    <tr>\n",
       "      <th>3</th>\n",
       "      <td>巢湖市</td>\n",
       "      <td>Cháohú</td>\n",
       "      <td>POLYGON ((118.369781494141 31.9289722442627, 1...</td>\n",
       "    </tr>\n",
       "    <tr>\n",
       "      <th>4</th>\n",
       "      <td>池州市</td>\n",
       "      <td>Chízhōu</td>\n",
       "      <td>POLYGON ((117.9780044555667 30.82234191894554,...</td>\n",
       "    </tr>\n",
       "  </tbody>\n",
       "</table>\n",
       "</div>"
      ],
      "text/plain": [
       "  name_zh  name_en                                           geometry\n",
       "0     安庆市   Ānqìng  POLYGON ((117.1155700683596 31.16616439819359,...\n",
       "1     蚌埠市   Bèngbù  POLYGON ((117.2620468139648 33.49958801269543,...\n",
       "2     亳州市   Bózhōu  POLYGON ((115.739501953125 34.07428359985374, ...\n",
       "3     巢湖市   Cháohú  POLYGON ((118.369781494141 31.9289722442627, 1...\n",
       "4     池州市  Chízhōu  POLYGON ((117.9780044555667 30.82234191894554,..."
      ]
     },
     "execution_count": 10,
     "metadata": {},
     "output_type": "execute_result"
    }
   ],
   "source": [
    "pref_new = gpd.read_file('/media/Solid/data/china_firms_plus/prefect/modern/CHN_adm2.shp')\n",
    "pref_new = pref_new.rename(columns={\n",
    "    'NL_NAME_2': 'name_zh',\n",
    "    'VARNAME_2': 'name_en',\n",
    "})[['name_zh', 'name_en', 'geometry']]\n",
    "pref_new.head()"
   ]
  },
  {
   "cell_type": "code",
   "execution_count": 11,
   "metadata": {},
   "outputs": [
    {
     "name": "stdout",
     "output_type": "stream",
     "text": [
      "成都市 Chéngdū\n"
     ]
    }
   ],
   "source": [
    "# choose a random modern prefecture\n",
    "pref_samp = pref_new.query('name_zh == \"成都市\"')\n",
    "name_zh, name_en = pref_samp.iloc[0][['name_zh', 'name_en']]\n",
    "print(name_zh, name_en)"
   ]
  },
  {
   "cell_type": "code",
   "execution_count": 15,
   "metadata": {},
   "outputs": [
    {
     "name": "stdout",
     "output_type": "stream",
     "text": [
      "9\n",
      "         name_en name_zh\n",
      "0        Zi Zhou      资州\n",
      "1       Mei Zhou      眉州\n",
      "3     Qiong Zhou      邛州\n",
      "4      Yazhou Fu     雅州府\n",
      "13      Mao Zhou      茂州\n",
      "14    Chengdu Lu     成都府\n",
      "15  Tongchuan Fu     潼川府\n"
     ]
    }
   ],
   "source": [
    "# efficiently find the intersection with old provinces\n",
    "xmin, ymin, xmax, ymax = pref_samp.iloc[[0]].total_bounds\n",
    "old_subset = pref_old.cx[xmin:xmax, ymin:ymax]\n",
    "print(len(old_subset))\n",
    "inter = gpd.overlay(old_subset[['name_en', 'name_zh', 'geometry']], pref_samp, how='intersection')\n",
    "print(inter[['name_en', 'name_zh']].drop_duplicates())"
   ]
  },
  {
   "cell_type": "code",
   "execution_count": 16,
   "metadata": {},
   "outputs": [
    {
     "data": {
      "image/png": "[encoded data removed]",
      "text/plain": [
       "<Figure size 432x288 with 1 Axes>"
      ]
     },
     "metadata": {},
     "output_type": "display_data"
    }
   ],
   "source": [
    "inter1 = inter[inter.area>0.001]\n",
    "inter1['index'] = np.arange(len(inter1))\n",
    "inter1.plot(column='index', cmap='viridis');\n",
    "plt.title(f'{name_zh} ({name_en})');\n",
    "plt.axis('equal');"
   ]
  },
  {
   "cell_type": "code",
   "execution_count": null,
   "metadata": {},
   "outputs": [],
   "source": []
  }
 ],
 "metadata": {
  "kernelspec": {
   "display_name": "Python 3.6",
   "language": "python",
   "name": "python3.6"
  },
  "language_info": {
   "codemirror_mode": {
    "name": "ipython",
    "version": 3
   },
   "file_extension": ".py",
   "mimetype": "text/x-python",
   "name": "python",
   "nbconvert_exporter": "python",
   "pygments_lexer": "ipython3",
   "version": "3.6.6"
  }
 },
 "nbformat": 4,
 "nbformat_minor": 2
}
