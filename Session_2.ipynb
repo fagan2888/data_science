{
 "cells": [
  {
   "cell_type": "markdown",
   "metadata": {},
   "source": [
    "# Working With Data"
   ]
  },
  {
   "cell_type": "code",
   "execution_count": 5,
   "metadata": {},
   "outputs": [],
   "source": [
    "import numpy as np\n",
    "import pandas as pd\n",
    "import matplotlib.pyplot as plt\n",
    "import seaborn as sns\n",
    "import statsmodels.formula.api as smf\n",
    "import tensorflow as tf\n",
    "%matplotlib inline"
   ]
  },
  {
   "cell_type": "markdown",
   "metadata": {},
   "source": [
    "# Pandas!"
   ]
  },
  {
   "cell_type": "markdown",
   "metadata": {},
   "source": [
    "## DataFrame"
   ]
  },
  {
   "cell_type": "code",
   "execution_count": 3,
   "metadata": {},
   "outputs": [
    {
     "data": {
      "text/plain": [
       "0     0.066781\n",
       "1     0.089532\n",
       "2     0.097219\n",
       "3     0.122249\n",
       "4     0.866712\n",
       "5     0.626791\n",
       "6     0.995432\n",
       "7     0.034903\n",
       "8     0.477670\n",
       "9     0.189810\n",
       "10    0.708188\n",
       "11    0.644359\n",
       "12    0.453811\n",
       "13    0.433096\n",
       "14    0.137108\n",
       "15    0.269870\n",
       "16    0.166495\n",
       "17    0.938237\n",
       "18    0.335023\n",
       "19    0.411882\n",
       "dtype: float64"
      ]
     },
     "execution_count": 3,
     "metadata": {},
     "output_type": "execute_result"
    }
   ],
   "source": [
    "s = pd.Series(np.random.rand(20))\n",
    "s"
   ]
  },
  {
   "cell_type": "code",
   "execution_count": 4,
   "metadata": {},
   "outputs": [
    {
     "name": "stdout",
     "output_type": "stream",
     "text": [
      "RangeIndex(start=0, stop=20, step=1)\n",
      "[ 0.06678081  0.0895322   0.09721861  0.12224896  0.86671249  0.62679144\n",
      "  0.99543196  0.03490297  0.47767     0.18980983  0.70818793  0.64435856\n",
      "  0.45381052  0.43309611  0.13710802  0.26987011  0.16649502  0.93823727\n",
      "  0.33502268  0.41188211]\n"
     ]
    }
   ],
   "source": [
    "print(s.index)\n",
    "print(s.values)"
   ]
  },
  {
   "cell_type": "code",
   "execution_count": 5,
   "metadata": {},
   "outputs": [
    {
     "data": {
      "text/plain": [
       "count    20.000000\n",
       "mean      0.403258\n",
       "std       0.305791\n",
       "min       0.034903\n",
       "25%       0.133393\n",
       "50%       0.373452\n",
       "75%       0.631183\n",
       "max       0.995432\n",
       "dtype: float64"
      ]
     },
     "execution_count": 5,
     "metadata": {},
     "output_type": "execute_result"
    }
   ],
   "source": [
    "s.describe()"
   ]
  },
  {
   "cell_type": "code",
   "execution_count": 10,
   "metadata": {},
   "outputs": [
    {
     "data": {
      "text/html": [
       "<div>\n",
       "<style>\n",
       "    .dataframe thead tr:only-child th {\n",
       "        text-align: right;\n",
       "    }\n",
       "\n",
       "    .dataframe thead th {\n",
       "        text-align: left;\n",
       "    }\n",
       "\n",
       "    .dataframe tbody tr th {\n",
       "        vertical-align: top;\n",
       "    }\n",
       "</style>\n",
       "<table border=\"1\" class=\"dataframe\">\n",
       "  <thead>\n",
       "    <tr style=\"text-align: right;\">\n",
       "      <th></th>\n",
       "      <th>ser1</th>\n",
       "      <th>ser2</th>\n",
       "    </tr>\n",
       "  </thead>\n",
       "  <tbody>\n",
       "    <tr>\n",
       "      <th>0</th>\n",
       "      <td>0.066781</td>\n",
       "      <td>-0.365330</td>\n",
       "    </tr>\n",
       "    <tr>\n",
       "      <th>1</th>\n",
       "      <td>0.089532</td>\n",
       "      <td>0.429195</td>\n",
       "    </tr>\n",
       "    <tr>\n",
       "      <th>2</th>\n",
       "      <td>0.097219</td>\n",
       "      <td>0.742269</td>\n",
       "    </tr>\n",
       "    <tr>\n",
       "      <th>3</th>\n",
       "      <td>0.122249</td>\n",
       "      <td>-0.917074</td>\n",
       "    </tr>\n",
       "    <tr>\n",
       "      <th>4</th>\n",
       "      <td>0.866712</td>\n",
       "      <td>1.274021</td>\n",
       "    </tr>\n",
       "  </tbody>\n",
       "</table>\n",
       "</div>"
      ],
      "text/plain": [
       "       ser1      ser2\n",
       "0  0.066781 -0.365330\n",
       "1  0.089532  0.429195\n",
       "2  0.097219  0.742269\n",
       "3  0.122249 -0.917074\n",
       "4  0.866712  1.274021"
      ]
     },
     "execution_count": 10,
     "metadata": {},
     "output_type": "execute_result"
    }
   ],
   "source": [
    "df = pd.DataFrame({'ser1': s, 'ser2': np.random.randn(20)})\n",
    "df.head()"
   ]
  },
  {
   "cell_type": "code",
   "execution_count": 11,
   "metadata": {},
   "outputs": [
    {
     "data": {
      "text/html": [
       "<div>\n",
       "<style>\n",
       "    .dataframe thead tr:only-child th {\n",
       "        text-align: right;\n",
       "    }\n",
       "\n",
       "    .dataframe thead th {\n",
       "        text-align: left;\n",
       "    }\n",
       "\n",
       "    .dataframe tbody tr th {\n",
       "        vertical-align: top;\n",
       "    }\n",
       "</style>\n",
       "<table border=\"1\" class=\"dataframe\">\n",
       "  <thead>\n",
       "    <tr style=\"text-align: right;\">\n",
       "      <th></th>\n",
       "      <th>ser1</th>\n",
       "      <th>ser2</th>\n",
       "    </tr>\n",
       "  </thead>\n",
       "  <tbody>\n",
       "    <tr>\n",
       "      <th>count</th>\n",
       "      <td>20.000000</td>\n",
       "      <td>20.000000</td>\n",
       "    </tr>\n",
       "    <tr>\n",
       "      <th>mean</th>\n",
       "      <td>0.403258</td>\n",
       "      <td>0.038922</td>\n",
       "    </tr>\n",
       "    <tr>\n",
       "      <th>std</th>\n",
       "      <td>0.305791</td>\n",
       "      <td>0.801281</td>\n",
       "    </tr>\n",
       "    <tr>\n",
       "      <th>min</th>\n",
       "      <td>0.034903</td>\n",
       "      <td>-1.218955</td>\n",
       "    </tr>\n",
       "    <tr>\n",
       "      <th>25%</th>\n",
       "      <td>0.133393</td>\n",
       "      <td>-0.659872</td>\n",
       "    </tr>\n",
       "    <tr>\n",
       "      <th>50%</th>\n",
       "      <td>0.373452</td>\n",
       "      <td>0.071757</td>\n",
       "    </tr>\n",
       "    <tr>\n",
       "      <th>75%</th>\n",
       "      <td>0.631183</td>\n",
       "      <td>0.632522</td>\n",
       "    </tr>\n",
       "    <tr>\n",
       "      <th>max</th>\n",
       "      <td>0.995432</td>\n",
       "      <td>1.557922</td>\n",
       "    </tr>\n",
       "  </tbody>\n",
       "</table>\n",
       "</div>"
      ],
      "text/plain": [
       "            ser1       ser2\n",
       "count  20.000000  20.000000\n",
       "mean    0.403258   0.038922\n",
       "std     0.305791   0.801281\n",
       "min     0.034903  -1.218955\n",
       "25%     0.133393  -0.659872\n",
       "50%     0.373452   0.071757\n",
       "75%     0.631183   0.632522\n",
       "max     0.995432   1.557922"
      ]
     },
     "execution_count": 11,
     "metadata": {},
     "output_type": "execute_result"
    }
   ],
   "source": [
    "df.describe()"
   ]
  },
  {
   "cell_type": "code",
   "execution_count": 12,
   "metadata": {},
   "outputs": [
    {
     "data": {
      "image/png": "[encoded data removed]",
      "text/plain": [
       "<matplotlib.figure.Figure at 0x1195bbdd8>"
      ]
     },
     "metadata": {},
     "output_type": "display_data"
    }
   ],
   "source": [
    "df.plot();"
   ]
  },
  {
   "cell_type": "code",
   "execution_count": 13,
   "metadata": {},
   "outputs": [
    {
     "data": {
      "text/plain": [
       "0     0.066781\n",
       "1     0.089532\n",
       "2     0.097219\n",
       "3     0.122249\n",
       "4     0.866712\n",
       "5     0.626791\n",
       "6     0.995432\n",
       "7     0.034903\n",
       "8     0.477670\n",
       "9     0.189810\n",
       "10    0.708188\n",
       "11    0.644359\n",
       "12    0.453811\n",
       "13    0.433096\n",
       "14    0.137108\n",
       "15    0.269870\n",
       "16    0.166495\n",
       "17    0.938237\n",
       "18    0.335023\n",
       "19    0.411882\n",
       "Name: ser1, dtype: float64"
      ]
     },
     "execution_count": 13,
     "metadata": {},
     "output_type": "execute_result"
    }
   ],
   "source": [
    "df['ser1']"
   ]
  },
  {
   "cell_type": "code",
   "execution_count": 16,
   "metadata": {},
   "outputs": [
    {
     "data": {
      "image/png": "[encoded data removed]",
      "text/plain": [
       "<matplotlib.figure.Figure at 0x1198304e0>"
      ]
     },
     "metadata": {},
     "output_type": "display_data"
    }
   ],
   "source": [
    "df['ser1'].hist(grid=False);"
   ]
  },
  {
   "cell_type": "markdown",
   "metadata": {},
   "source": [
    "## Grouping Data"
   ]
  },
  {
   "cell_type": "code",
   "execution_count": 22,
   "metadata": {},
   "outputs": [],
   "source": [
    "# make some fake data\n",
    "N = 100\n",
    "block = np.random.randint(4, size=N)\n",
    "cmean = np.array([0.1, 0.2, 0.3, 0.4])\n",
    "cvars = np.array([0.2, 0.1, 0.5, 0.2])\n",
    "value = cmean[block]+np.random.randn(N)*cvars[block]\n",
    "df = pd.DataFrame({\n",
    "    'block': block,\n",
    "    'value': value\n",
    "})"
   ]
  },
  {
   "cell_type": "code",
   "execution_count": 23,
   "metadata": {},
   "outputs": [
    {
     "data": {
      "text/html": [
       "<div>\n",
       "<style>\n",
       "    .dataframe thead tr:only-child th {\n",
       "        text-align: right;\n",
       "    }\n",
       "\n",
       "    .dataframe thead th {\n",
       "        text-align: left;\n",
       "    }\n",
       "\n",
       "    .dataframe tbody tr th {\n",
       "        vertical-align: top;\n",
       "    }\n",
       "</style>\n",
       "<table border=\"1\" class=\"dataframe\">\n",
       "  <thead>\n",
       "    <tr style=\"text-align: right;\">\n",
       "      <th></th>\n",
       "      <th>block</th>\n",
       "      <th>value</th>\n",
       "    </tr>\n",
       "  </thead>\n",
       "  <tbody>\n",
       "    <tr>\n",
       "      <th>0</th>\n",
       "      <td>0</td>\n",
       "      <td>-0.452104</td>\n",
       "    </tr>\n",
       "    <tr>\n",
       "      <th>1</th>\n",
       "      <td>3</td>\n",
       "      <td>0.381127</td>\n",
       "    </tr>\n",
       "    <tr>\n",
       "      <th>2</th>\n",
       "      <td>0</td>\n",
       "      <td>0.188803</td>\n",
       "    </tr>\n",
       "    <tr>\n",
       "      <th>3</th>\n",
       "      <td>0</td>\n",
       "      <td>0.188477</td>\n",
       "    </tr>\n",
       "    <tr>\n",
       "      <th>4</th>\n",
       "      <td>2</td>\n",
       "      <td>-0.108950</td>\n",
       "    </tr>\n",
       "    <tr>\n",
       "      <th>5</th>\n",
       "      <td>3</td>\n",
       "      <td>0.633520</td>\n",
       "    </tr>\n",
       "    <tr>\n",
       "      <th>6</th>\n",
       "      <td>2</td>\n",
       "      <td>0.242709</td>\n",
       "    </tr>\n",
       "    <tr>\n",
       "      <th>7</th>\n",
       "      <td>1</td>\n",
       "      <td>0.181865</td>\n",
       "    </tr>\n",
       "    <tr>\n",
       "      <th>8</th>\n",
       "      <td>2</td>\n",
       "      <td>1.571686</td>\n",
       "    </tr>\n",
       "    <tr>\n",
       "      <th>9</th>\n",
       "      <td>1</td>\n",
       "      <td>0.213036</td>\n",
       "    </tr>\n",
       "  </tbody>\n",
       "</table>\n",
       "</div>"
      ],
      "text/plain": [
       "   block     value\n",
       "0      0 -0.452104\n",
       "1      3  0.381127\n",
       "2      0  0.188803\n",
       "3      0  0.188477\n",
       "4      2 -0.108950\n",
       "5      3  0.633520\n",
       "6      2  0.242709\n",
       "7      1  0.181865\n",
       "8      2  1.571686\n",
       "9      1  0.213036"
      ]
     },
     "execution_count": 23,
     "metadata": {},
     "output_type": "execute_result"
    }
   ],
   "source": [
    "df.head(10)"
   ]
  },
  {
   "cell_type": "code",
   "execution_count": 24,
   "metadata": {},
   "outputs": [
    {
     "data": {
      "text/plain": [
       "block\n",
       "0    23\n",
       "1    25\n",
       "2    23\n",
       "3    29\n",
       "dtype: int64"
      ]
     },
     "execution_count": 24,
     "metadata": {},
     "output_type": "execute_result"
    }
   ],
   "source": [
    "df.groupby('block').size()"
   ]
  },
  {
   "cell_type": "code",
   "execution_count": 25,
   "metadata": {},
   "outputs": [
    {
     "data": {
      "text/plain": [
       "block\n",
       "0    0.124214\n",
       "1    0.196903\n",
       "2    0.279562\n",
       "3    0.380746\n",
       "Name: value, dtype: float64"
      ]
     },
     "execution_count": 25,
     "metadata": {},
     "output_type": "execute_result"
    }
   ],
   "source": [
    "df.groupby('block')['value'].mean()"
   ]
  },
  {
   "cell_type": "code",
   "execution_count": 26,
   "metadata": {},
   "outputs": [
    {
     "data": {
      "text/plain": [
       "block\n",
       "0    0.239809\n",
       "1    0.084420\n",
       "2    0.612465\n",
       "3    0.187891\n",
       "Name: value, dtype: float64"
      ]
     },
     "execution_count": 26,
     "metadata": {},
     "output_type": "execute_result"
    }
   ],
   "source": [
    "df.groupby('block')['value'].std()"
   ]
  },
  {
   "cell_type": "code",
   "execution_count": 27,
   "metadata": {},
   "outputs": [
    {
     "data": {
      "text/plain": [
       "block\n",
       "0    0.162476\n",
       "1    0.068577\n",
       "2    0.499240\n",
       "3    0.144102\n",
       "Name: value, dtype: float64"
      ]
     },
     "execution_count": 27,
     "metadata": {},
     "output_type": "execute_result"
    }
   ],
   "source": [
    "df.groupby('block')['value'].apply(lambda x: np.mean(np.abs(x-np.mean(x))))"
   ]
  },
  {
   "cell_type": "code",
   "execution_count": 17,
   "metadata": {},
   "outputs": [
    {
     "data": {
      "text/html": [
       "<div>\n",
       "<style>\n",
       "    .dataframe thead tr:only-child th {\n",
       "        text-align: right;\n",
       "    }\n",
       "\n",
       "    .dataframe thead th {\n",
       "        text-align: left;\n",
       "    }\n",
       "\n",
       "    .dataframe tbody tr th {\n",
       "        vertical-align: top;\n",
       "    }\n",
       "</style>\n",
       "<table border=\"1\" class=\"dataframe\">\n",
       "  <thead>\n",
       "    <tr style=\"text-align: right;\">\n",
       "      <th></th>\n",
       "      <th>absd</th>\n",
       "      <th>mean</th>\n",
       "      <th>stdv</th>\n",
       "    </tr>\n",
       "    <tr>\n",
       "      <th>block</th>\n",
       "      <th></th>\n",
       "      <th></th>\n",
       "      <th></th>\n",
       "    </tr>\n",
       "  </thead>\n",
       "  <tbody>\n",
       "    <tr>\n",
       "      <th>0</th>\n",
       "      <td>0.152598</td>\n",
       "      <td>0.135355</td>\n",
       "      <td>0.203923</td>\n",
       "    </tr>\n",
       "    <tr>\n",
       "      <th>1</th>\n",
       "      <td>0.081698</td>\n",
       "      <td>0.216687</td>\n",
       "      <td>0.109607</td>\n",
       "    </tr>\n",
       "    <tr>\n",
       "      <th>2</th>\n",
       "      <td>0.283312</td>\n",
       "      <td>0.293067</td>\n",
       "      <td>0.362891</td>\n",
       "    </tr>\n",
       "    <tr>\n",
       "      <th>3</th>\n",
       "      <td>0.135016</td>\n",
       "      <td>0.426619</td>\n",
       "      <td>0.175351</td>\n",
       "    </tr>\n",
       "  </tbody>\n",
       "</table>\n",
       "</div>"
      ],
      "text/plain": [
       "           absd      mean      stdv\n",
       "block                              \n",
       "0      0.152598  0.135355  0.203923\n",
       "1      0.081698  0.216687  0.109607\n",
       "2      0.283312  0.293067  0.362891\n",
       "3      0.135016  0.426619  0.175351"
      ]
     },
     "execution_count": 17,
     "metadata": {},
     "output_type": "execute_result"
    }
   ],
   "source": [
    "grp = df.groupby('block')['value']\n",
    "pd.DataFrame({\n",
    "    'mean': grp.mean(),\n",
    "    'stdv': grp.std(),\n",
    "    'absd': grp.apply(lambda x: np.mean(np.abs(x-np.mean(x))))\n",
    "})"
   ]
  },
  {
   "cell_type": "markdown",
   "metadata": {},
   "source": [
    "## Time Series"
   ]
  },
  {
   "cell_type": "code",
   "execution_count": 31,
   "metadata": {},
   "outputs": [
    {
     "data": {
      "text/html": [
       "<div>\n",
       "<style>\n",
       "    .dataframe thead tr:only-child th {\n",
       "        text-align: right;\n",
       "    }\n",
       "\n",
       "    .dataframe thead th {\n",
       "        text-align: left;\n",
       "    }\n",
       "\n",
       "    .dataframe tbody tr th {\n",
       "        vertical-align: top;\n",
       "    }\n",
       "</style>\n",
       "<table border=\"1\" class=\"dataframe\">\n",
       "  <thead>\n",
       "    <tr style=\"text-align: right;\">\n",
       "      <th></th>\n",
       "      <th>price</th>\n",
       "    </tr>\n",
       "    <tr>\n",
       "      <th>date</th>\n",
       "      <th></th>\n",
       "    </tr>\n",
       "  </thead>\n",
       "  <tbody>\n",
       "    <tr>\n",
       "      <th>2016-01-01</th>\n",
       "      <td>-0.040733</td>\n",
       "    </tr>\n",
       "    <tr>\n",
       "      <th>2016-01-02</th>\n",
       "      <td>0.533661</td>\n",
       "    </tr>\n",
       "    <tr>\n",
       "      <th>2016-01-03</th>\n",
       "      <td>1.204063</td>\n",
       "    </tr>\n",
       "    <tr>\n",
       "      <th>2016-01-04</th>\n",
       "      <td>1.539268</td>\n",
       "    </tr>\n",
       "    <tr>\n",
       "      <th>2016-01-05</th>\n",
       "      <td>0.834441</td>\n",
       "    </tr>\n",
       "  </tbody>\n",
       "</table>\n",
       "</div>"
      ],
      "text/plain": [
       "               price\n",
       "date                \n",
       "2016-01-01 -0.040733\n",
       "2016-01-02  0.533661\n",
       "2016-01-03  1.204063\n",
       "2016-01-04  1.539268\n",
       "2016-01-05  0.834441"
      ]
     },
     "execution_count": 31,
     "metadata": {},
     "output_type": "execute_result"
    }
   ],
   "source": [
    "days = pd.date_range('2016-01-01', '2016-12-31', freq='D')\n",
    "vals = np.cumsum(np.random.randn(len(days)))\n",
    "df = pd.DataFrame({\n",
    "    'date': days,\n",
    "    'price': vals\n",
    "}).set_index('date')\n",
    "df.head()"
   ]
  },
  {
   "cell_type": "code",
   "execution_count": 32,
   "metadata": {},
   "outputs": [
    {
     "data": {
      "image/png": "[encoded data removed]",
      "text/plain": [
       "<matplotlib.figure.Figure at 0x11990d438>"
      ]
     },
     "metadata": {},
     "output_type": "display_data"
    }
   ],
   "source": [
    "df['price'].plot();"
   ]
  },
  {
   "cell_type": "code",
   "execution_count": 33,
   "metadata": {},
   "outputs": [
    {
     "data": {
      "text/html": [
       "<div>\n",
       "<style>\n",
       "    .dataframe thead tr:only-child th {\n",
       "        text-align: right;\n",
       "    }\n",
       "\n",
       "    .dataframe thead th {\n",
       "        text-align: left;\n",
       "    }\n",
       "\n",
       "    .dataframe tbody tr th {\n",
       "        vertical-align: top;\n",
       "    }\n",
       "</style>\n",
       "<table border=\"1\" class=\"dataframe\">\n",
       "  <thead>\n",
       "    <tr style=\"text-align: right;\">\n",
       "      <th></th>\n",
       "      <th>price</th>\n",
       "    </tr>\n",
       "    <tr>\n",
       "      <th>date</th>\n",
       "      <th></th>\n",
       "    </tr>\n",
       "  </thead>\n",
       "  <tbody>\n",
       "    <tr>\n",
       "      <th>2016-01-01</th>\n",
       "      <td>1.500186</td>\n",
       "    </tr>\n",
       "    <tr>\n",
       "      <th>2016-02-01</th>\n",
       "      <td>1.877666</td>\n",
       "    </tr>\n",
       "    <tr>\n",
       "      <th>2016-03-01</th>\n",
       "      <td>2.120342</td>\n",
       "    </tr>\n",
       "    <tr>\n",
       "      <th>2016-04-01</th>\n",
       "      <td>2.618449</td>\n",
       "    </tr>\n",
       "    <tr>\n",
       "      <th>2016-05-01</th>\n",
       "      <td>0.957224</td>\n",
       "    </tr>\n",
       "    <tr>\n",
       "      <th>2016-06-01</th>\n",
       "      <td>3.645746</td>\n",
       "    </tr>\n",
       "    <tr>\n",
       "      <th>2016-07-01</th>\n",
       "      <td>1.172864</td>\n",
       "    </tr>\n",
       "    <tr>\n",
       "      <th>2016-08-01</th>\n",
       "      <td>1.627697</td>\n",
       "    </tr>\n",
       "    <tr>\n",
       "      <th>2016-09-01</th>\n",
       "      <td>1.164457</td>\n",
       "    </tr>\n",
       "    <tr>\n",
       "      <th>2016-10-01</th>\n",
       "      <td>2.787702</td>\n",
       "    </tr>\n",
       "    <tr>\n",
       "      <th>2016-11-01</th>\n",
       "      <td>1.797672</td>\n",
       "    </tr>\n",
       "    <tr>\n",
       "      <th>2016-12-01</th>\n",
       "      <td>1.799274</td>\n",
       "    </tr>\n",
       "  </tbody>\n",
       "</table>\n",
       "</div>"
      ],
      "text/plain": [
       "               price\n",
       "date                \n",
       "2016-01-01  1.500186\n",
       "2016-02-01  1.877666\n",
       "2016-03-01  2.120342\n",
       "2016-04-01  2.618449\n",
       "2016-05-01  0.957224\n",
       "2016-06-01  3.645746\n",
       "2016-07-01  1.172864\n",
       "2016-08-01  1.627697\n",
       "2016-09-01  1.164457\n",
       "2016-10-01  2.787702\n",
       "2016-11-01  1.797672\n",
       "2016-12-01  1.799274"
      ]
     },
     "execution_count": 33,
     "metadata": {},
     "output_type": "execute_result"
    }
   ],
   "source": [
    "df.groupby(pd.TimeGrouper('MS')).std()"
   ]
  },
  {
   "cell_type": "code",
   "execution_count": 34,
   "metadata": {},
   "outputs": [
    {
     "data": {
      "image/png": "[encoded data removed]",
      "text/plain": [
       "<matplotlib.figure.Figure at 0x119a90278>"
      ]
     },
     "metadata": {},
     "output_type": "display_data"
    }
   ],
   "source": [
    "df.rolling(20, center=True, min_periods=1).mean().plot(legend=False);"
   ]
  },
  {
   "cell_type": "markdown",
   "metadata": {},
   "source": [
    "## Transforming"
   ]
  },
  {
   "cell_type": "code",
   "execution_count": 6,
   "metadata": {},
   "outputs": [],
   "source": [
    "days = pd.date_range('2006-01-01', '2016-12-31', freq='D')\n",
    "vals = np.cumsum(np.random.randn(len(days)))\n",
    "df = pd.DataFrame({\n",
    "    'date': days,\n",
    "    'price': vals\n",
    "}).set_index('date')"
   ]
  },
  {
   "cell_type": "code",
   "execution_count": 8,
   "metadata": {},
   "outputs": [
    {
     "data": {
      "image/png": "[encoded data removed]",
      "text/plain": [
       "<matplotlib.figure.Figure at 0x116e4ab38>"
      ]
     },
     "metadata": {},
     "output_type": "display_data"
    }
   ],
   "source": [
    "roll = df['price'].rolling(52*7, min_periods=1)\n",
    "pd.DataFrame({\n",
    "    'low' : roll.min(),\n",
    "    'high': roll.max(),\n",
    "    'price': df['price']\n",
    "}).plot();"
   ]
  },
  {
   "cell_type": "markdown",
   "metadata": {},
   "source": [
    "## Joining"
   ]
  },
  {
   "cell_type": "code",
   "execution_count": 1,
   "metadata": {},
   "outputs": [
    {
     "data": {
      "text/plain": [
       "0     0\n",
       "1     2\n",
       "2     4\n",
       "3     6\n",
       "4     8\n",
       "5    10\n",
       "6    12\n",
       "7    14\n",
       "8    16\n",
       "9    18\n",
       "Name: twox, dtype: int64"
      ]
     },
     "execution_count": 1,
     "metadata": {},
     "output_type": "execute_result"
    }
   ],
   "source": [
    "mapp = pd.Series({x: 2*x for x in range(10)}, name='twox')\n",
    "mapp"
   ]
  },
  {
   "cell_type": "code",
   "execution_count": 2,
   "metadata": {},
   "outputs": [
    {
     "data": {
      "text/html": [
       "<div>\n",
       "<style>\n",
       "    .dataframe thead tr:only-child th {\n",
       "        text-align: right;\n",
       "    }\n",
       "\n",
       "    .dataframe thead th {\n",
       "        text-align: left;\n",
       "    }\n",
       "\n",
       "    .dataframe tbody tr th {\n",
       "        vertical-align: top;\n",
       "    }\n",
       "</style>\n",
       "<table border=\"1\" class=\"dataframe\">\n",
       "  <thead>\n",
       "    <tr style=\"text-align: right;\">\n",
       "      <th></th>\n",
       "      <th>ser</th>\n",
       "      <th>val</th>\n",
       "    </tr>\n",
       "  </thead>\n",
       "  <tbody>\n",
       "    <tr>\n",
       "      <th>0</th>\n",
       "      <td>3</td>\n",
       "      <td>0.192299</td>\n",
       "    </tr>\n",
       "    <tr>\n",
       "      <th>1</th>\n",
       "      <td>2</td>\n",
       "      <td>0.850912</td>\n",
       "    </tr>\n",
       "    <tr>\n",
       "      <th>2</th>\n",
       "      <td>0</td>\n",
       "      <td>0.745343</td>\n",
       "    </tr>\n",
       "    <tr>\n",
       "      <th>3</th>\n",
       "      <td>9</td>\n",
       "      <td>0.548636</td>\n",
       "    </tr>\n",
       "    <tr>\n",
       "      <th>4</th>\n",
       "      <td>4</td>\n",
       "      <td>0.425102</td>\n",
       "    </tr>\n",
       "  </tbody>\n",
       "</table>\n",
       "</div>"
      ],
      "text/plain": [
       "   ser       val\n",
       "0    3  0.192299\n",
       "1    2  0.850912\n",
       "2    0  0.745343\n",
       "3    9  0.548636\n",
       "4    4  0.425102"
      ]
     },
     "execution_count": 2,
     "metadata": {},
     "output_type": "execute_result"
    }
   ],
   "source": [
    "init = pd.DataFrame({\n",
    "    'ser': np.random.randint(10, size=100),\n",
    "    'val': np.random.rand(100)\n",
    "})\n",
    "init.head()"
   ]
  },
  {
   "cell_type": "code",
   "execution_count": 3,
   "metadata": {},
   "outputs": [
    {
     "data": {
      "text/html": [
       "<div>\n",
       "<style>\n",
       "    .dataframe thead tr:only-child th {\n",
       "        text-align: right;\n",
       "    }\n",
       "\n",
       "    .dataframe thead th {\n",
       "        text-align: left;\n",
       "    }\n",
       "\n",
       "    .dataframe tbody tr th {\n",
       "        vertical-align: top;\n",
       "    }\n",
       "</style>\n",
       "<table border=\"1\" class=\"dataframe\">\n",
       "  <thead>\n",
       "    <tr style=\"text-align: right;\">\n",
       "      <th></th>\n",
       "      <th>ser</th>\n",
       "      <th>val</th>\n",
       "      <th>twox</th>\n",
       "    </tr>\n",
       "  </thead>\n",
       "  <tbody>\n",
       "    <tr>\n",
       "      <th>0</th>\n",
       "      <td>3</td>\n",
       "      <td>0.192299</td>\n",
       "      <td>6</td>\n",
       "    </tr>\n",
       "    <tr>\n",
       "      <th>1</th>\n",
       "      <td>2</td>\n",
       "      <td>0.850912</td>\n",
       "      <td>4</td>\n",
       "    </tr>\n",
       "    <tr>\n",
       "      <th>2</th>\n",
       "      <td>0</td>\n",
       "      <td>0.745343</td>\n",
       "      <td>0</td>\n",
       "    </tr>\n",
       "    <tr>\n",
       "      <th>3</th>\n",
       "      <td>9</td>\n",
       "      <td>0.548636</td>\n",
       "      <td>18</td>\n",
       "    </tr>\n",
       "    <tr>\n",
       "      <th>4</th>\n",
       "      <td>4</td>\n",
       "      <td>0.425102</td>\n",
       "      <td>8</td>\n",
       "    </tr>\n",
       "  </tbody>\n",
       "</table>\n",
       "</div>"
      ],
      "text/plain": [
       "   ser       val  twox\n",
       "0    3  0.192299     6\n",
       "1    2  0.850912     4\n",
       "2    0  0.745343     0\n",
       "3    9  0.548636    18\n",
       "4    4  0.425102     8"
      ]
     },
     "execution_count": 3,
     "metadata": {},
     "output_type": "execute_result"
    }
   ],
   "source": [
    "final = init.join(mapp, on='ser')\n",
    "final.head()"
   ]
  },
  {
   "cell_type": "code",
   "execution_count": 4,
   "metadata": {},
   "outputs": [
    {
     "data": {
      "text/html": [
       "<div>\n",
       "<style>\n",
       "    .dataframe thead tr:only-child th {\n",
       "        text-align: right;\n",
       "    }\n",
       "\n",
       "    .dataframe thead th {\n",
       "        text-align: left;\n",
       "    }\n",
       "\n",
       "    .dataframe tbody tr th {\n",
       "        vertical-align: top;\n",
       "    }\n",
       "</style>\n",
       "<table border=\"1\" class=\"dataframe\">\n",
       "  <thead>\n",
       "    <tr style=\"text-align: right;\">\n",
       "      <th></th>\n",
       "      <th>ser</th>\n",
       "      <th>val</th>\n",
       "      <th>twox</th>\n",
       "      <th>check</th>\n",
       "    </tr>\n",
       "  </thead>\n",
       "  <tbody>\n",
       "    <tr>\n",
       "      <th>0</th>\n",
       "      <td>3</td>\n",
       "      <td>0.192299</td>\n",
       "      <td>6</td>\n",
       "      <td>True</td>\n",
       "    </tr>\n",
       "    <tr>\n",
       "      <th>1</th>\n",
       "      <td>2</td>\n",
       "      <td>0.850912</td>\n",
       "      <td>4</td>\n",
       "      <td>True</td>\n",
       "    </tr>\n",
       "    <tr>\n",
       "      <th>2</th>\n",
       "      <td>0</td>\n",
       "      <td>0.745343</td>\n",
       "      <td>0</td>\n",
       "      <td>True</td>\n",
       "    </tr>\n",
       "    <tr>\n",
       "      <th>3</th>\n",
       "      <td>9</td>\n",
       "      <td>0.548636</td>\n",
       "      <td>18</td>\n",
       "      <td>True</td>\n",
       "    </tr>\n",
       "    <tr>\n",
       "      <th>4</th>\n",
       "      <td>4</td>\n",
       "      <td>0.425102</td>\n",
       "      <td>8</td>\n",
       "      <td>True</td>\n",
       "    </tr>\n",
       "  </tbody>\n",
       "</table>\n",
       "</div>"
      ],
      "text/plain": [
       "   ser       val  twox  check\n",
       "0    3  0.192299     6   True\n",
       "1    2  0.850912     4   True\n",
       "2    0  0.745343     0   True\n",
       "3    9  0.548636    18   True\n",
       "4    4  0.425102     8   True"
      ]
     },
     "execution_count": 4,
     "metadata": {},
     "output_type": "execute_result"
    }
   ],
   "source": [
    "final['check'] = final['twox'] == 2*final['ser']\n",
    "final.head()"
   ]
  },
  {
   "cell_type": "markdown",
   "metadata": {},
   "source": [
    "## Plotting"
   ]
  },
  {
   "cell_type": "code",
   "execution_count": 10,
   "metadata": {},
   "outputs": [
    {
     "data": {
      "image/png": "[encoded data removed]",
      "text/plain": [
       "<matplotlib.figure.Figure at 0x116dc50f0>"
      ]
     },
     "metadata": {},
     "output_type": "display_data"
    }
   ],
   "source": [
    "# good way to arrange plots\n",
    "pd.DataFrame({\n",
    "    'one': np.cumsum(np.random.randn(1000)),\n",
    "    'two': np.cumsum(np.random.randn(1000)),\n",
    "    'three': np.cumsum(np.random.randn(1000))\n",
    "}).plot();"
   ]
  },
  {
   "cell_type": "code",
   "execution_count": 11,
   "metadata": {},
   "outputs": [
    {
     "data": {
      "image/png": "[encoded data removed]",
      "text/plain": [
       "<matplotlib.figure.Figure at 0x116df0ac8>"
      ]
     },
     "metadata": {},
     "output_type": "display_data"
    }
   ],
   "source": [
    "x = 10*np.random.randn(1000)\n",
    "y = x + 10*np.random.randn(1000)\n",
    "df = pd.DataFrame({\n",
    "    'x': x,\n",
    "    'y': y\n",
    "})\n",
    "df.plot.scatter(x='x', y='y');"
   ]
  },
  {
   "cell_type": "code",
   "execution_count": 12,
   "metadata": {},
   "outputs": [
    {
     "data": {
      "image/png": "[encoded data removed]",
      "text/plain": [
       "<matplotlib.figure.Figure at 0x116dfe438>"
      ]
     },
     "metadata": {},
     "output_type": "display_data"
    }
   ],
   "source": [
    "sns.jointplot('x', 'y', data=df);"
   ]
  },
  {
   "cell_type": "code",
   "execution_count": 13,
   "metadata": {},
   "outputs": [
    {
     "data": {
      "image/png": "[encoded data removed]",
      "text/plain": [
       "<matplotlib.figure.Figure at 0x1171d89b0>"
      ]
     },
     "metadata": {},
     "output_type": "display_data"
    }
   ],
   "source": [
    "# kind in ['scatter', 'reg', 'resid', 'kde', 'hex']\n",
    "sns.jointplot('x', 'y', kind='hex', data=df);"
   ]
  },
  {
   "cell_type": "markdown",
   "metadata": {},
   "source": [
    "## Input/Output"
   ]
  },
  {
   "cell_type": "code",
   "execution_count": 53,
   "metadata": {},
   "outputs": [],
   "source": [
    "df = pd.DataFrame({\n",
    "    'one': np.cumsum(np.random.randn(1000)),\n",
    "    'two': np.cumsum(np.random.randn(1000)),\n",
    "    'three': np.cumsum(np.random.randn(1000))\n",
    "})\n",
    "df.to_csv('test.csv', index=False)"
   ]
  },
  {
   "cell_type": "code",
   "execution_count": 54,
   "metadata": {},
   "outputs": [
    {
     "data": {
      "text/html": [
       "<div>\n",
       "<style>\n",
       "    .dataframe thead tr:only-child th {\n",
       "        text-align: right;\n",
       "    }\n",
       "\n",
       "    .dataframe thead th {\n",
       "        text-align: left;\n",
       "    }\n",
       "\n",
       "    .dataframe tbody tr th {\n",
       "        vertical-align: top;\n",
       "    }\n",
       "</style>\n",
       "<table border=\"1\" class=\"dataframe\">\n",
       "  <thead>\n",
       "    <tr style=\"text-align: right;\">\n",
       "      <th></th>\n",
       "      <th>one</th>\n",
       "      <th>three</th>\n",
       "      <th>two</th>\n",
       "    </tr>\n",
       "  </thead>\n",
       "  <tbody>\n",
       "    <tr>\n",
       "      <th>0</th>\n",
       "      <td>-0.488438</td>\n",
       "      <td>0.114096</td>\n",
       "      <td>1.682526</td>\n",
       "    </tr>\n",
       "    <tr>\n",
       "      <th>1</th>\n",
       "      <td>-0.953142</td>\n",
       "      <td>1.565492</td>\n",
       "      <td>0.816656</td>\n",
       "    </tr>\n",
       "    <tr>\n",
       "      <th>2</th>\n",
       "      <td>1.127781</td>\n",
       "      <td>1.426357</td>\n",
       "      <td>1.186518</td>\n",
       "    </tr>\n",
       "    <tr>\n",
       "      <th>3</th>\n",
       "      <td>0.462729</td>\n",
       "      <td>-1.334617</td>\n",
       "      <td>0.022204</td>\n",
       "    </tr>\n",
       "    <tr>\n",
       "      <th>4</th>\n",
       "      <td>0.633908</td>\n",
       "      <td>-3.176799</td>\n",
       "      <td>0.776852</td>\n",
       "    </tr>\n",
       "  </tbody>\n",
       "</table>\n",
       "</div>"
      ],
      "text/plain": [
       "        one     three       two\n",
       "0 -0.488438  0.114096  1.682526\n",
       "1 -0.953142  1.565492  0.816656\n",
       "2  1.127781  1.426357  1.186518\n",
       "3  0.462729 -1.334617  0.022204\n",
       "4  0.633908 -3.176799  0.776852"
      ]
     },
     "execution_count": 54,
     "metadata": {},
     "output_type": "execute_result"
    }
   ],
   "source": [
    "df = pd.read_csv('test.csv')\n",
    "df.head()"
   ]
  },
  {
   "cell_type": "markdown",
   "metadata": {},
   "source": [
    "Can also use the many `pd.DataFrame.to_*` and `pd.read_*` function where `*` is one of:\n",
    "- csv\n",
    "- excel\n",
    "- json\n",
    "- html\n",
    "- latex\n",
    "- stata\n",
    "- sql"
   ]
  },
  {
   "cell_type": "markdown",
   "metadata": {},
   "source": [
    "# Regressions"
   ]
  },
  {
   "cell_type": "markdown",
   "metadata": {},
   "source": [
    "## Basic"
   ]
  },
  {
   "cell_type": "code",
   "execution_count": 55,
   "metadata": {},
   "outputs": [],
   "source": [
    "N = 100\n",
    "x = np.random.randn(N)\n",
    "y = 3*np.random.randn(N)\n",
    "z = 1 + 2*x + 3*y + 4*x*y + np.random.randn(N)\n",
    "df = pd.DataFrame({\n",
    "    'x': x,\n",
    "    'y': y,\n",
    "    'z': z\n",
    "})"
   ]
  },
  {
   "cell_type": "code",
   "execution_count": 56,
   "metadata": {},
   "outputs": [
    {
     "data": {
      "text/html": [
       "<table class=\"simpletable\">\n",
       "<caption>OLS Regression Results</caption>\n",
       "<tr>\n",
       "  <th>Dep. Variable:</th>            <td>z</td>        <th>  R-squared:         </th> <td>   0.436</td>\n",
       "</tr>\n",
       "<tr>\n",
       "  <th>Model:</th>                   <td>OLS</td>       <th>  Adj. R-squared:    </th> <td>   0.425</td>\n",
       "</tr>\n",
       "<tr>\n",
       "  <th>Method:</th>             <td>Least Squares</td>  <th>  F-statistic:       </th> <td>   37.54</td>\n",
       "</tr>\n",
       "<tr>\n",
       "  <th>Date:</th>             <td>Mon, 16 Oct 2017</td> <th>  Prob (F-statistic):</th> <td>8.41e-13</td>\n",
       "</tr>\n",
       "<tr>\n",
       "  <th>Time:</th>                 <td>19:01:35</td>     <th>  Log-Likelihood:    </th> <td> -379.96</td>\n",
       "</tr>\n",
       "<tr>\n",
       "  <th>No. Observations:</th>      <td>   100</td>      <th>  AIC:               </th> <td>   765.9</td>\n",
       "</tr>\n",
       "<tr>\n",
       "  <th>Df Residuals:</th>          <td>    97</td>      <th>  BIC:               </th> <td>   773.7</td>\n",
       "</tr>\n",
       "<tr>\n",
       "  <th>Df Model:</th>              <td>     2</td>      <th>                     </th>     <td> </td>   \n",
       "</tr>\n",
       "<tr>\n",
       "  <th>Covariance Type:</th>      <td>nonrobust</td>    <th>                     </th>     <td> </td>   \n",
       "</tr>\n",
       "</table>\n",
       "<table class=\"simpletable\">\n",
       "<tr>\n",
       "      <td></td>         <th>coef</th>     <th>std err</th>      <th>t</th>      <th>P>|t|</th>  <th>[0.025</th>    <th>0.975]</th>  \n",
       "</tr>\n",
       "<tr>\n",
       "  <th>Intercept</th> <td>    0.8398</td> <td>    1.107</td> <td>    0.759</td> <td> 0.450</td> <td>   -1.356</td> <td>    3.036</td>\n",
       "</tr>\n",
       "<tr>\n",
       "  <th>x</th>         <td>   -0.5213</td> <td>    1.046</td> <td>   -0.498</td> <td> 0.619</td> <td>   -2.597</td> <td>    1.554</td>\n",
       "</tr>\n",
       "<tr>\n",
       "  <th>y</th>         <td>    3.2102</td> <td>    0.371</td> <td>    8.645</td> <td> 0.000</td> <td>    2.473</td> <td>    3.947</td>\n",
       "</tr>\n",
       "</table>\n",
       "<table class=\"simpletable\">\n",
       "<tr>\n",
       "  <th>Omnibus:</th>       <td>13.726</td> <th>  Durbin-Watson:     </th> <td>   2.294</td>\n",
       "</tr>\n",
       "<tr>\n",
       "  <th>Prob(Omnibus):</th> <td> 0.001</td> <th>  Jarque-Bera (JB):  </th> <td>  48.472</td>\n",
       "</tr>\n",
       "<tr>\n",
       "  <th>Skew:</th>          <td> 0.077</td> <th>  Prob(JB):          </th> <td>2.98e-11</td>\n",
       "</tr>\n",
       "<tr>\n",
       "  <th>Kurtosis:</th>      <td> 6.407</td> <th>  Cond. No.          </th> <td>    3.07</td>\n",
       "</tr>\n",
       "</table>"
      ],
      "text/plain": [
       "<class 'statsmodels.iolib.summary.Summary'>\n",
       "\"\"\"\n",
       "                            OLS Regression Results                            \n",
       "==============================================================================\n",
       "Dep. Variable:                      z   R-squared:                       0.436\n",
       "Model:                            OLS   Adj. R-squared:                  0.425\n",
       "Method:                 Least Squares   F-statistic:                     37.54\n",
       "Date:                Mon, 16 Oct 2017   Prob (F-statistic):           8.41e-13\n",
       "Time:                        19:01:35   Log-Likelihood:                -379.96\n",
       "No. Observations:                 100   AIC:                             765.9\n",
       "Df Residuals:                      97   BIC:                             773.7\n",
       "Df Model:                           2                                         \n",
       "Covariance Type:            nonrobust                                         \n",
       "==============================================================================\n",
       "                 coef    std err          t      P>|t|      [0.025      0.975]\n",
       "------------------------------------------------------------------------------\n",
       "Intercept      0.8398      1.107      0.759      0.450      -1.356       3.036\n",
       "x             -0.5213      1.046     -0.498      0.619      -2.597       1.554\n",
       "y              3.2102      0.371      8.645      0.000       2.473       3.947\n",
       "==============================================================================\n",
       "Omnibus:                       13.726   Durbin-Watson:                   2.294\n",
       "Prob(Omnibus):                  0.001   Jarque-Bera (JB):               48.472\n",
       "Skew:                           0.077   Prob(JB):                     2.98e-11\n",
       "Kurtosis:                       6.407   Cond. No.                         3.07\n",
       "==============================================================================\n",
       "\n",
       "Warnings:\n",
       "[1] Standard Errors assume that the covariance matrix of the errors is correctly specified.\n",
       "\"\"\""
      ]
     },
     "execution_count": 56,
     "metadata": {},
     "output_type": "execute_result"
    }
   ],
   "source": [
    "ret = smf.ols('z ~ 1 + x + y', data=df).fit()\n",
    "ret.summary()"
   ]
  },
  {
   "cell_type": "code",
   "execution_count": 57,
   "metadata": {},
   "outputs": [
    {
     "data": {
      "text/plain": [
       "Intercept    0.839811\n",
       "x           -0.521260\n",
       "y            3.210164\n",
       "dtype: float64"
      ]
     },
     "execution_count": 57,
     "metadata": {},
     "output_type": "execute_result"
    }
   ],
   "source": [
    "ret.params"
   ]
  },
  {
   "cell_type": "code",
   "execution_count": 58,
   "metadata": {},
   "outputs": [
    {
     "data": {
      "text/html": [
       "<table class=\"simpletable\">\n",
       "<caption>OLS Regression Results</caption>\n",
       "<tr>\n",
       "  <th>Dep. Variable:</th>            <td>z</td>        <th>  R-squared:         </th> <td>   0.994</td> \n",
       "</tr>\n",
       "<tr>\n",
       "  <th>Model:</th>                   <td>OLS</td>       <th>  Adj. R-squared:    </th> <td>   0.994</td> \n",
       "</tr>\n",
       "<tr>\n",
       "  <th>Method:</th>             <td>Least Squares</td>  <th>  F-statistic:       </th> <td>   5762.</td> \n",
       "</tr>\n",
       "<tr>\n",
       "  <th>Date:</th>             <td>Mon, 16 Oct 2017</td> <th>  Prob (F-statistic):</th> <td>3.30e-108</td>\n",
       "</tr>\n",
       "<tr>\n",
       "  <th>Time:</th>                 <td>19:03:10</td>     <th>  Log-Likelihood:    </th> <td> -148.68</td> \n",
       "</tr>\n",
       "<tr>\n",
       "  <th>No. Observations:</th>      <td>   100</td>      <th>  AIC:               </th> <td>   305.4</td> \n",
       "</tr>\n",
       "<tr>\n",
       "  <th>Df Residuals:</th>          <td>    96</td>      <th>  BIC:               </th> <td>   315.8</td> \n",
       "</tr>\n",
       "<tr>\n",
       "  <th>Df Model:</th>              <td>     3</td>      <th>                     </th>     <td> </td>    \n",
       "</tr>\n",
       "<tr>\n",
       "  <th>Covariance Type:</th>      <td>nonrobust</td>    <th>                     </th>     <td> </td>    \n",
       "</tr>\n",
       "</table>\n",
       "<table class=\"simpletable\">\n",
       "<tr>\n",
       "      <td></td>         <th>coef</th>     <th>std err</th>      <th>t</th>      <th>P>|t|</th>  <th>[0.025</th>    <th>0.975]</th>  \n",
       "</tr>\n",
       "<tr>\n",
       "  <th>Intercept</th> <td>    0.7436</td> <td>    0.110</td> <td>    6.754</td> <td> 0.000</td> <td>    0.525</td> <td>    0.962</td>\n",
       "</tr>\n",
       "<tr>\n",
       "  <th>x</th>         <td>    2.0432</td> <td>    0.107</td> <td>   19.052</td> <td> 0.000</td> <td>    1.830</td> <td>    2.256</td>\n",
       "</tr>\n",
       "<tr>\n",
       "  <th>y</th>         <td>    2.9848</td> <td>    0.037</td> <td>   80.632</td> <td> 0.000</td> <td>    2.911</td> <td>    3.058</td>\n",
       "</tr>\n",
       "<tr>\n",
       "  <th>x:y</th>       <td>    4.0043</td> <td>    0.041</td> <td>   98.500</td> <td> 0.000</td> <td>    3.924</td> <td>    4.085</td>\n",
       "</tr>\n",
       "</table>\n",
       "<table class=\"simpletable\">\n",
       "<tr>\n",
       "  <th>Omnibus:</th>       <td> 2.331</td> <th>  Durbin-Watson:     </th> <td>   1.987</td>\n",
       "</tr>\n",
       "<tr>\n",
       "  <th>Prob(Omnibus):</th> <td> 0.312</td> <th>  Jarque-Bera (JB):  </th> <td>   1.620</td>\n",
       "</tr>\n",
       "<tr>\n",
       "  <th>Skew:</th>          <td> 0.074</td> <th>  Prob(JB):          </th> <td>   0.445</td>\n",
       "</tr>\n",
       "<tr>\n",
       "  <th>Kurtosis:</th>      <td> 2.394</td> <th>  Cond. No.          </th> <td>    3.15</td>\n",
       "</tr>\n",
       "</table>"
      ],
      "text/plain": [
       "<class 'statsmodels.iolib.summary.Summary'>\n",
       "\"\"\"\n",
       "                            OLS Regression Results                            \n",
       "==============================================================================\n",
       "Dep. Variable:                      z   R-squared:                       0.994\n",
       "Model:                            OLS   Adj. R-squared:                  0.994\n",
       "Method:                 Least Squares   F-statistic:                     5762.\n",
       "Date:                Mon, 16 Oct 2017   Prob (F-statistic):          3.30e-108\n",
       "Time:                        19:03:10   Log-Likelihood:                -148.68\n",
       "No. Observations:                 100   AIC:                             305.4\n",
       "Df Residuals:                      96   BIC:                             315.8\n",
       "Df Model:                           3                                         \n",
       "Covariance Type:            nonrobust                                         \n",
       "==============================================================================\n",
       "                 coef    std err          t      P>|t|      [0.025      0.975]\n",
       "------------------------------------------------------------------------------\n",
       "Intercept      0.7436      0.110      6.754      0.000       0.525       0.962\n",
       "x              2.0432      0.107     19.052      0.000       1.830       2.256\n",
       "y              2.9848      0.037     80.632      0.000       2.911       3.058\n",
       "x:y            4.0043      0.041     98.500      0.000       3.924       4.085\n",
       "==============================================================================\n",
       "Omnibus:                        2.331   Durbin-Watson:                   1.987\n",
       "Prob(Omnibus):                  0.312   Jarque-Bera (JB):                1.620\n",
       "Skew:                           0.074   Prob(JB):                        0.445\n",
       "Kurtosis:                       2.394   Cond. No.                         3.15\n",
       "==============================================================================\n",
       "\n",
       "Warnings:\n",
       "[1] Standard Errors assume that the covariance matrix of the errors is correctly specified.\n",
       "\"\"\""
      ]
     },
     "execution_count": 58,
     "metadata": {},
     "output_type": "execute_result"
    }
   ],
   "source": [
    "ret = smf.ols('z ~ 1 + x*y', data=df).fit()\n",
    "ret.summary()"
   ]
  },
  {
   "cell_type": "markdown",
   "metadata": {},
   "source": [
    "## Categorical"
   ]
  },
  {
   "cell_type": "code",
   "execution_count": 59,
   "metadata": {},
   "outputs": [],
   "source": [
    "# make some fake data\n",
    "N = 100\n",
    "block = np.random.randint(4, size=N)\n",
    "cmean = np.array([0.1, 0.2, 0.3, 0.4])\n",
    "cvars = np.array([0.2, 0.1, 0.5, 0.2])\n",
    "value = cmean[block]+np.random.randn(N)*cvars[block]\n",
    "df = pd.DataFrame({\n",
    "    'block': block,\n",
    "    'value': value\n",
    "})"
   ]
  },
  {
   "cell_type": "code",
   "execution_count": 60,
   "metadata": {},
   "outputs": [
    {
     "data": {
      "text/html": [
       "<table class=\"simpletable\">\n",
       "<caption>OLS Regression Results</caption>\n",
       "<tr>\n",
       "  <th>Dep. Variable:</th>          <td>value</td>      <th>  R-squared:         </th> <td>   0.124</td>\n",
       "</tr>\n",
       "<tr>\n",
       "  <th>Model:</th>                   <td>OLS</td>       <th>  Adj. R-squared:    </th> <td>   0.097</td>\n",
       "</tr>\n",
       "<tr>\n",
       "  <th>Method:</th>             <td>Least Squares</td>  <th>  F-statistic:       </th> <td>   4.538</td>\n",
       "</tr>\n",
       "<tr>\n",
       "  <th>Date:</th>             <td>Mon, 16 Oct 2017</td> <th>  Prob (F-statistic):</th>  <td>0.00510</td>\n",
       "</tr>\n",
       "<tr>\n",
       "  <th>Time:</th>                 <td>19:05:22</td>     <th>  Log-Likelihood:    </th> <td> -22.393</td>\n",
       "</tr>\n",
       "<tr>\n",
       "  <th>No. Observations:</th>      <td>   100</td>      <th>  AIC:               </th> <td>   52.79</td>\n",
       "</tr>\n",
       "<tr>\n",
       "  <th>Df Residuals:</th>          <td>    96</td>      <th>  BIC:               </th> <td>   63.21</td>\n",
       "</tr>\n",
       "<tr>\n",
       "  <th>Df Model:</th>              <td>     3</td>      <th>                     </th>     <td> </td>   \n",
       "</tr>\n",
       "<tr>\n",
       "  <th>Covariance Type:</th>      <td>nonrobust</td>    <th>                     </th>     <td> </td>   \n",
       "</tr>\n",
       "</table>\n",
       "<table class=\"simpletable\">\n",
       "<tr>\n",
       "       <td></td>          <th>coef</th>     <th>std err</th>      <th>t</th>      <th>P>|t|</th>  <th>[0.025</th>    <th>0.975]</th>  \n",
       "</tr>\n",
       "<tr>\n",
       "  <th>C(block)[0]</th> <td>    0.1042</td> <td>    0.075</td> <td>    1.390</td> <td> 0.168</td> <td>   -0.045</td> <td>    0.253</td>\n",
       "</tr>\n",
       "<tr>\n",
       "  <th>C(block)[1]</th> <td>    0.1985</td> <td>    0.066</td> <td>    3.014</td> <td> 0.003</td> <td>    0.068</td> <td>    0.329</td>\n",
       "</tr>\n",
       "<tr>\n",
       "  <th>C(block)[2]</th> <td>    0.2252</td> <td>    0.055</td> <td>    4.123</td> <td> 0.000</td> <td>    0.117</td> <td>    0.334</td>\n",
       "</tr>\n",
       "<tr>\n",
       "  <th>C(block)[3]</th> <td>    0.4226</td> <td>    0.057</td> <td>    7.366</td> <td> 0.000</td> <td>    0.309</td> <td>    0.536</td>\n",
       "</tr>\n",
       "</table>\n",
       "<table class=\"simpletable\">\n",
       "<tr>\n",
       "  <th>Omnibus:</th>       <td>30.342</td> <th>  Durbin-Watson:     </th> <td>   1.899</td>\n",
       "</tr>\n",
       "<tr>\n",
       "  <th>Prob(Omnibus):</th> <td> 0.000</td> <th>  Jarque-Bera (JB):  </th> <td>  91.254</td>\n",
       "</tr>\n",
       "<tr>\n",
       "  <th>Skew:</th>          <td> 0.992</td> <th>  Prob(JB):          </th> <td>1.53e-20</td>\n",
       "</tr>\n",
       "<tr>\n",
       "  <th>Kurtosis:</th>      <td> 7.239</td> <th>  Cond. No.          </th> <td>    1.37</td>\n",
       "</tr>\n",
       "</table>"
      ],
      "text/plain": [
       "<class 'statsmodels.iolib.summary.Summary'>\n",
       "\"\"\"\n",
       "                            OLS Regression Results                            \n",
       "==============================================================================\n",
       "Dep. Variable:                  value   R-squared:                       0.124\n",
       "Model:                            OLS   Adj. R-squared:                  0.097\n",
       "Method:                 Least Squares   F-statistic:                     4.538\n",
       "Date:                Mon, 16 Oct 2017   Prob (F-statistic):            0.00510\n",
       "Time:                        19:05:22   Log-Likelihood:                -22.393\n",
       "No. Observations:                 100   AIC:                             52.79\n",
       "Df Residuals:                      96   BIC:                             63.21\n",
       "Df Model:                           3                                         \n",
       "Covariance Type:            nonrobust                                         \n",
       "===============================================================================\n",
       "                  coef    std err          t      P>|t|      [0.025      0.975]\n",
       "-------------------------------------------------------------------------------\n",
       "C(block)[0]     0.1042      0.075      1.390      0.168      -0.045       0.253\n",
       "C(block)[1]     0.1985      0.066      3.014      0.003       0.068       0.329\n",
       "C(block)[2]     0.2252      0.055      4.123      0.000       0.117       0.334\n",
       "C(block)[3]     0.4226      0.057      7.366      0.000       0.309       0.536\n",
       "==============================================================================\n",
       "Omnibus:                       30.342   Durbin-Watson:                   1.899\n",
       "Prob(Omnibus):                  0.000   Jarque-Bera (JB):               91.254\n",
       "Skew:                           0.992   Prob(JB):                     1.53e-20\n",
       "Kurtosis:                       7.239   Cond. No.                         1.37\n",
       "==============================================================================\n",
       "\n",
       "Warnings:\n",
       "[1] Standard Errors assume that the covariance matrix of the errors is correctly specified.\n",
       "\"\"\""
      ]
     },
     "execution_count": 60,
     "metadata": {},
     "output_type": "execute_result"
    }
   ],
   "source": [
    "ret = smf.ols('value ~ 0 + C(block)', data=df).fit()\n",
    "ret.summary()"
   ]
  },
  {
   "cell_type": "code",
   "execution_count": 61,
   "metadata": {},
   "outputs": [
    {
     "data": {
      "text/plain": [
       "C(block)[0]    0.004178\n",
       "C(block)[1]   -0.001472\n",
       "C(block)[2]   -0.074801\n",
       "C(block)[3]    0.022567\n",
       "dtype: float64"
      ]
     },
     "execution_count": 61,
     "metadata": {},
     "output_type": "execute_result"
    }
   ],
   "source": [
    "ret.params - cmean"
   ]
  },
  {
   "cell_type": "code",
   "execution_count": 68,
   "metadata": {},
   "outputs": [],
   "source": [
    "stderr_reg = np.sqrt(ret.cov_params().values.diagonal())\n",
    "stderr_rob = np.sqrt(ret.cov_HC0.diagonal())"
   ]
  },
  {
   "cell_type": "markdown",
   "metadata": {},
   "source": [
    "## Bootstrapping"
   ]
  },
  {
   "cell_type": "code",
   "execution_count": 64,
   "metadata": {},
   "outputs": [],
   "source": [
    "def gen_block_data(N, cmean, cvars):\n",
    "    cmean = np.array(cmean)\n",
    "    cvars = np.array(cvars)\n",
    "    block = np.random.randint(len(cmean), size=N)\n",
    "    value = cmean[block]+np.random.randn(N)*cvars[block]\n",
    "    return pd.DataFrame({\n",
    "        'block': block,\n",
    "        'value': value\n",
    "    })"
   ]
  },
  {
   "cell_type": "code",
   "execution_count": 67,
   "metadata": {},
   "outputs": [],
   "source": [
    "N = 100\n",
    "K = 1000\n",
    "cmean = [0.1, 0.2, 0.3, 0.4]\n",
    "cvars = [0.2, 0.1, 0.5, 0.2]\n",
    "mygen = lambda: gen_block_data(N, cmean, cvars)\n",
    "myeqn = 'value ~ 0 + C(block)'\n",
    "res = pd.DataFrame({i: smf.ols(myeqn, data=mygen()).fit().params for i in range(K)}).T\n",
    "res.columns = ['b0', 'b1', 'b2', 'b3']\n",
    "stderr_bsp = res.std().values"
   ]
  },
  {
   "cell_type": "code",
   "execution_count": 69,
   "metadata": {},
   "outputs": [
    {
     "data": {
      "text/html": [
       "<div>\n",
       "<style>\n",
       "    .dataframe thead tr:only-child th {\n",
       "        text-align: right;\n",
       "    }\n",
       "\n",
       "    .dataframe thead th {\n",
       "        text-align: left;\n",
       "    }\n",
       "\n",
       "    .dataframe tbody tr th {\n",
       "        vertical-align: top;\n",
       "    }\n",
       "</style>\n",
       "<table border=\"1\" class=\"dataframe\">\n",
       "  <thead>\n",
       "    <tr style=\"text-align: right;\">\n",
       "      <th></th>\n",
       "      <th>0</th>\n",
       "      <th>1</th>\n",
       "      <th>2</th>\n",
       "      <th>3</th>\n",
       "    </tr>\n",
       "  </thead>\n",
       "  <tbody>\n",
       "    <tr>\n",
       "      <th>stderr_bsp</th>\n",
       "      <td>0.041298</td>\n",
       "      <td>0.019855</td>\n",
       "      <td>0.104636</td>\n",
       "      <td>0.040482</td>\n",
       "    </tr>\n",
       "    <tr>\n",
       "      <th>stderr_reg</th>\n",
       "      <td>0.074929</td>\n",
       "      <td>0.065867</td>\n",
       "      <td>0.054614</td>\n",
       "      <td>0.057369</td>\n",
       "    </tr>\n",
       "    <tr>\n",
       "      <th>stderr_rob</th>\n",
       "      <td>0.046212</td>\n",
       "      <td>0.016633</td>\n",
       "      <td>0.083572</td>\n",
       "      <td>0.038704</td>\n",
       "    </tr>\n",
       "  </tbody>\n",
       "</table>\n",
       "</div>"
      ],
      "text/plain": [
       "                   0         1         2         3\n",
       "stderr_bsp  0.041298  0.019855  0.104636  0.040482\n",
       "stderr_reg  0.074929  0.065867  0.054614  0.057369\n",
       "stderr_rob  0.046212  0.016633  0.083572  0.038704"
      ]
     },
     "execution_count": 69,
     "metadata": {},
     "output_type": "execute_result"
    }
   ],
   "source": [
    "pd.DataFrame({\n",
    "    'stderr_reg': stderr_reg,\n",
    "    'stderr_rob': stderr_rob,\n",
    "    'stderr_bsp': stderr_bsp\n",
    "}).T"
   ]
  },
  {
   "cell_type": "markdown",
   "metadata": {},
   "source": [
    "# Machine Learning"
   ]
  },
  {
   "cell_type": "markdown",
   "metadata": {},
   "source": [
    "## Regression"
   ]
  },
  {
   "cell_type": "markdown",
   "metadata": {},
   "source": [
    "$$\\log(\\mathcal{L}) = -\\frac{N}{2}\\log(2\\pi)-N\\log(\\sigma)-\\sum_i \\frac{1}{2}\\left(\\frac{y_i-\\beta x_i}{\\sigma}\\right)^2$$"
   ]
  },
  {
   "cell_type": "code",
   "execution_count": 71,
   "metadata": {},
   "outputs": [],
   "source": [
    "N = 1000\n",
    "dat_x = 10*np.random.randn(N)\n",
    "dat_y = 1 + 2*dat_x + 3*np.random.randn(N)"
   ]
  },
  {
   "cell_type": "code",
   "execution_count": 72,
   "metadata": {},
   "outputs": [],
   "source": [
    "x = tf.placeholder(tf.float64, name='x')\n",
    "y = tf.placeholder(tf.float64, name='y')\n",
    "data = {x: dat_x, y: dat_y}"
   ]
  },
  {
   "cell_type": "code",
   "execution_count": 73,
   "metadata": {},
   "outputs": [],
   "source": [
    "beta0 = tf.Variable(2.0, dtype=tf.float64, name='beta0')\n",
    "beta1 = tf.Variable(1.0, dtype=tf.float64, name='beta1')"
   ]
  },
  {
   "cell_type": "code",
   "execution_count": 74,
   "metadata": {},
   "outputs": [],
   "source": [
    "yhat = beta0 + beta1*x\n",
    "mse = tf.reduce_mean((y-yhat)**2)\n",
    "sigma = (N/(N-1))*tf.sqrt(mse)"
   ]
  },
  {
   "cell_type": "code",
   "execution_count": 75,
   "metadata": {},
   "outputs": [],
   "source": [
    "init = tf.global_variables_initializer()\n",
    "opt = tf.train.GradientDescentOptimizer(learning_rate=0.01)\n",
    "minn = opt.minimize(mse)"
   ]
  },
  {
   "cell_type": "code",
   "execution_count": 76,
   "metadata": {},
   "outputs": [
    {
     "name": "stdout",
     "output_type": "stream",
     "text": [
      "beta0 = 1.054179186150941\n",
      "beta1 = 2.008352125363799\n",
      "sigma = 3.0075219369534008\n"
     ]
    }
   ],
   "source": [
    "with tf.Session().as_default():\n",
    "    init.run()\n",
    "    for i in range(1000):\n",
    "        minn.run(feed_dict=data)\n",
    "    print(f'beta0 = {beta0.eval()}')\n",
    "    print(f'beta1 = {beta1.eval()}')\n",
    "    print(f'sigma = {sigma.eval(feed_dict=data)}')"
   ]
  },
  {
   "cell_type": "code",
   "execution_count": 77,
   "metadata": {},
   "outputs": [
    {
     "name": "stdout",
     "output_type": "stream",
     "text": [
      "beta0 = 1.0541791845589312\n",
      "beta1 = 2.0083521253627317\n",
      "sigma = 3.0075234437275404\n"
     ]
    }
   ],
   "source": [
    "df = pd.DataFrame({\n",
    "    'x': dat_x,\n",
    "    'y': dat_y\n",
    "})\n",
    "ret = smf.ols('y ~ 1 + x', data=df).fit()\n",
    "print(f'beta0 = {ret.params.iloc[0]}')\n",
    "print(f'beta1 = {ret.params.iloc[1]}')\n",
    "print(f'sigma = {np.sqrt(ret.mse_resid)}')"
   ]
  },
  {
   "cell_type": "markdown",
   "metadata": {},
   "source": [
    "## Text Analysis"
   ]
  },
  {
   "cell_type": "code",
   "execution_count": 78,
   "metadata": {},
   "outputs": [
    {
     "name": "stdout",
     "output_type": "stream",
     "text": [
      "hdf5 is not supported on this machine (please install/reinstall h5py for optimal experience)\n"
     ]
    }
   ],
   "source": [
    "import re\n",
    "import json\n",
    "import time\n",
    "import html\n",
    "import sklearn.feature_extraction.text as fe\n",
    "from sklearn.model_selection import train_test_split\n",
    "import tflearn\n",
    "from tflearn.data_utils import to_categorical"
   ]
  },
  {
   "cell_type": "code",
   "execution_count": 79,
   "metadata": {},
   "outputs": [],
   "source": [
    "def clean_tweet(text):\n",
    "    text = text.lower().strip()\n",
    "\n",
    "    # odd subs\n",
    "    text = re.sub(r'’', '\\'', text)\n",
    "    text = re.sub(r'—', '-', text)\n",
    "\n",
    "    # urls\n",
    "    text = re.sub(r'\\bhttps?://[\\S]*\\b', r' ', text)\n",
    "    text = html.unescape(text)\n",
    "\n",
    "    # acronyms\n",
    "    text = re.sub(r'\\.{2,}', r'.', text)\n",
    "    text = re.sub(r'(\\S)\\.(\\S)\\.', r'\\1\\2', text)\n",
    "    text = re.sub(r'(\\S)\\.(\\S)\\.(\\S)\\.', r'\\1\\2\\3', text)\n",
    "\n",
    "    # control chars\n",
    "    text = re.sub(r'([!\\.&,])', r' \\1 ', text)\n",
    "    text = re.sub(r'[^ a-z0-9#@!\\.&,\\']', r' ', text)\n",
    "    text = re.sub(r'[0-9\\']', r'', text)\n",
    "\n",
    "    # clean up\n",
    "    text = re.sub(r' {2,}', r' ', text)\n",
    "    text = text.strip()\n",
    "\n",
    "    # combine\n",
    "    return text"
   ]
  },
  {
   "cell_type": "code",
   "execution_count": 80,
   "metadata": {},
   "outputs": [],
   "source": [
    "tweets16 = pd.read_json('~/data/trump_tweets/condensed_2016.json')\n",
    "tweets17 = pd.read_json('~/data/trump_tweets/condensed_2017.json')\n",
    "tweets = pd.concat([tweets16, tweets17])\n",
    "\n",
    "rt_mark = tweets['text'].apply(lambda s: s.startswith('\"@') or s.startswith('rt'))\n",
    "tweets = tweets[(~tweets['is_retweet'])&(~rt_mark)&tweets['in_reply_to_user_id_str'].isnull()]\n",
    "tweets['isource'] = tweets['source'].map({'Twitter for iPhone': 0, 'Twitter for Android': 1})\n",
    "tweets = tweets.dropna(subset=['isource'])\n",
    "tweets['isource'] = tweets['isource'].astype(np.int)\n",
    "tweets['clean_text'] = tweets['text'].apply(clean_tweet)"
   ]
  },
  {
   "cell_type": "code",
   "execution_count": 83,
   "metadata": {},
   "outputs": [
    {
     "name": "stdout",
     "output_type": "stream",
     "text": [
      "3460\n"
     ]
    }
   ],
   "source": [
    "corpus = list(tweets['clean_text'])\n",
    "categ = to_categorical(tweets['isource'].values, 2)\n",
    "print(len(corpus))"
   ]
  },
  {
   "cell_type": "code",
   "execution_count": 84,
   "metadata": {},
   "outputs": [],
   "source": [
    "tfidf = fe.TfidfVectorizer()\n",
    "counts = tfidf.fit_transform(corpus).todense()\n",
    "n_twt, n_wrd = counts.shape"
   ]
  },
  {
   "cell_type": "code",
   "execution_count": 92,
   "metadata": {},
   "outputs": [],
   "source": [
    "(train_x, valid_x, train_y, valid_y) = train_test_split(counts, categ, test_size=0.1)"
   ]
  },
  {
   "cell_type": "code",
   "execution_count": 93,
   "metadata": {},
   "outputs": [],
   "source": [
    "def generate_nn(n_wrd, nn_size, dropout):\n",
    "    net = tflearn.input_data([None, n_wrd])\n",
    "    net = tflearn.fully_connected(net, nn_size, activation='softmax')\n",
    "    net = tflearn.dropout(net, 1-dropout)\n",
    "    net = tflearn.fully_connected(net, 2, activation='softmax')\n",
    "    net = tflearn.regression(net, optimizer='adam', loss='categorical_crossentropy')\n",
    "    model = tflearn.DNN(net, clip_gradients=0.0, tensorboard_verbose=1,\n",
    "        tensorboard_dir='/tmp/tflearn_logs/neural', checkpoint_path='checkpoints/neural')\n",
    "    return model"
   ]
  },
  {
   "cell_type": "code",
   "execution_count": 94,
   "metadata": {},
   "outputs": [],
   "source": [
    "model = generate_nn(n_wrd, 128, 0.5)"
   ]
  },
  {
   "cell_type": "code",
   "execution_count": 95,
   "metadata": {},
   "outputs": [
    {
     "name": "stdout",
     "output_type": "stream",
     "text": [
      "Training Step: 1224  | total loss: \u001b[1m\u001b[32m0.36626\u001b[0m\u001b[0m | time: 2.180s\n",
      "\u001b[2K\r",
      "| Adam | epoch: 025 | loss: 0.36626 - acc: 0.8953 -- iter: 3072/3114\n",
      "Training Step: 1225  | total loss: \u001b[1m\u001b[32m0.36943\u001b[0m\u001b[0m | time: 3.230s\n",
      "\u001b[2K\r",
      "| Adam | epoch: 025 | loss: 0.36943 - acc: 0.8901 | val_loss: 0.45805 - val_acc: 0.8035 -- iter: 3114/3114\n",
      "--\n",
      "INFO:tensorflow:/Users/doug/work/data_science/checkpoints/neural-1225 is not in all_model_checkpoint_paths. Manually adding it.\n"
     ]
    }
   ],
   "source": [
    "run_id = 'neural_%s' % time.strftime('%Y_%m%d_%H%M')\n",
    "model.fit(train_x, train_y, validation_set=(valid_x, valid_y),\n",
    "          show_metric=True, n_epoch=25, run_id=run_id)"
   ]
  },
  {
   "cell_type": "code",
   "execution_count": 96,
   "metadata": {},
   "outputs": [],
   "source": [
    "valid_prob = model.predict(valid_x)\n",
    "valid_pred = np.array(valid_prob).argmax(axis=1)\n",
    "valid_bin = np.array(valid_y).argmax(axis=1)\n",
    "valid_acc = (valid_bin==valid_pred).mean()"
   ]
  },
  {
   "cell_type": "code",
   "execution_count": 98,
   "metadata": {},
   "outputs": [],
   "source": [
    "all_prob = model.predict(counts)\n",
    "android_prob = all_prob[:, 1]\n",
    "androidy = list(tweets['text'].iloc[android_prob.argsort()[::-1]])"
   ]
  },
  {
   "cell_type": "code",
   "execution_count": null,
   "metadata": {},
   "outputs": [],
   "source": []
  }
 ],
 "metadata": {
  "kernelspec": {
   "display_name": "Python 3",
   "language": "python",
   "name": "python3"
  },
  "language_info": {
   "codemirror_mode": {
    "name": "ipython",
    "version": 3
   },
   "file_extension": ".py",
   "mimetype": "text/x-python",
   "name": "python",
   "nbconvert_exporter": "python",
   "pygments_lexer": "ipython3",
   "version": "3.6.3"
  }
 },
 "nbformat": 4,
 "nbformat_minor": 2
}
