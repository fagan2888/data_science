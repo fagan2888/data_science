{
 "cells": [
  {
   "cell_type": "code",
   "execution_count": 93,
   "metadata": {},
   "outputs": [],
   "source": [
    "import numpy as np\n",
    "import pandas as pd\n",
    "import matplotlib.pyplot as plt\n",
    "import seaborn as sns\n",
    "import scipy\n",
    "import scipy.interpolate as interp\n",
    "import scipy.optimize as opt\n",
    "%matplotlib inline"
   ]
  },
  {
   "cell_type": "code",
   "execution_count": 2,
   "metadata": {},
   "outputs": [],
   "source": [
    "# parameters\n",
    "rho = 0.05 # discount rate\n",
    "alpha = 0.3 # capital elasticity\n",
    "delta = 0.1 # depreciation\n",
    "theta = 1.0 # crra param"
   ]
  },
  {
   "cell_type": "code",
   "execution_count": 14,
   "metadata": {},
   "outputs": [],
   "source": [
    "# algorithm\n",
    "S0 = 4096 # max number of steps in perturbation simulation\n",
    "K = 512 # size of capital grid\n",
    "ptol = 1.0e-4 # initial displacement for perturbation simulation\n",
    "dt_max = 1.0 # max time step in variable delt schemes"
   ]
  },
  {
   "cell_type": "code",
   "execution_count": 4,
   "metadata": {},
   "outputs": [],
   "source": [
    "# steady state\n",
    "k_ss = (alpha/(rho+delta))**(1.0/(1.0-alpha))\n",
    "i_ss = delta*k_ss\n",
    "y_ss = k_ss**alpha\n",
    "c_ss = y_ss - i_ss"
   ]
  },
  {
   "cell_type": "code",
   "execution_count": 81,
   "metadata": {},
   "outputs": [],
   "source": [
    "def simulate_ramsey(k0, c0, k_lo=0, k_hi=None, gk_targ=0.001, dt=None, direc=-1):\n",
    "    # initial values\n",
    "    k, c = k0, c0\n",
    "    kpath, cpath = [k], [c]\n",
    "\n",
    "    for t in range(S0):\n",
    "        # growth rates\n",
    "        gk = k**(alpha-1) - delta - c/k\n",
    "        gc = (1/theta)*(alpha*k**(alpha-1)-(rho+delta))\n",
    "\n",
    "        # adaptive step size\n",
    "        dt1 = direc*np.minimum(dt_max, gk_targ/np.abs(gk)) if dt is None else dt\n",
    "        k *= 1 + dt1*gk\n",
    "        c *= 1 + dt1*gc\n",
    "\n",
    "        # store\n",
    "        kpath.append(k)\n",
    "        cpath.append(c)\n",
    "\n",
    "        # terminal condition\n",
    "        if k_lo is not None and k <= k_lo:\n",
    "            break\n",
    "        if k_hi is not None and k >= k_hi:\n",
    "            break\n",
    "\n",
    "    return np.array(kpath), np.array(cpath)"
   ]
  },
  {
   "cell_type": "code",
   "execution_count": 82,
   "metadata": {},
   "outputs": [],
   "source": [
    "# capital grid around steady state\n",
    "k_lo, k_hi = 0.1*k_ss, 2.0*k_ss\n",
    "k_grid = np.linspace(k_lo, k_hi, K)\n",
    "\n",
    "# generate upper and lower paths\n",
    "kvec1, cvec1 = simulate_ramsey(k_ss-ptol, c_ss-ptol, k_lo, k_hi)\n",
    "kvec2, cvec2 = simulate_ramsey(k_ss+ptol, c_ss+ptol, k_lo, k_hi)\n",
    "\n",
    "# combined path\n",
    "kvec = np.concatenate([kvec1[::-1], kvec2])\n",
    "cvec = np.concatenate([cvec1[::-1], cvec2])\n",
    "\n",
    "# interpolate\n",
    "cpol = interp.interp1d(kvec, cvec)\n",
    "c_grid = cpol(k_grid)"
   ]
  },
  {
   "cell_type": "code",
   "execution_count": 83,
   "metadata": {},
   "outputs": [
    {
     "data": {
      "image/png": "[encoded data removed]",
      "text/plain": [
       "<matplotlib.figure.Figure at 0x7f6d590a45c0>"
      ]
     },
     "metadata": {},
     "output_type": "display_data"
    }
   ],
   "source": [
    "# plot results\n",
    "fig, ax = plt.subplots()\n",
    "ax.plot(k_grid, c_grid);\n",
    "ax.scatter([k_ss], [c_ss]);"
   ]
  },
  {
   "cell_type": "code",
   "execution_count": 84,
   "metadata": {},
   "outputs": [],
   "source": [
    "def forward_ramsey(k0, cf, dt=0.01, S=S0):\n",
    "    # initial values\n",
    "    k, c = k0, cf(k0)\n",
    "    kpath, cpath = [k], [c]\n",
    "\n",
    "    for t in range(S):\n",
    "        # growth rates\n",
    "        gk = k**(alpha-1) - delta - c/k\n",
    "\n",
    "        # adaptive step size\n",
    "        k *= 1 + dt*gk\n",
    "        c = cf(k)\n",
    "\n",
    "        # store\n",
    "        kpath.append(k)\n",
    "        cpath.append(c)\n",
    "\n",
    "    return np.array(kpath), np.array(cpath)"
   ]
  },
  {
   "cell_type": "code",
   "execution_count": 85,
   "metadata": {},
   "outputs": [],
   "source": [
    "def solow_policy(s):\n",
    "    return lambda k: (1-s)*k**alpha"
   ]
  },
  {
   "cell_type": "code",
   "execution_count": 92,
   "metadata": {},
   "outputs": [
    {
     "data": {
      "image/png": "[encoded data removed]",
      "text/plain": [
       "<matplotlib.figure.Figure at 0x7f6d596795f8>"
      ]
     },
     "metadata": {},
     "output_type": "display_data"
    }
   ],
   "source": [
    "k0 = 0.5\n",
    "c0 = float(cpol(k0))\n",
    "c1 = c0\n",
    "\n",
    "csol = solow_policy(0.2)\n",
    "\n",
    "dt = 0.1\n",
    "kfwd, cfwd = forward_ramsey(k0, cpol, dt=dt)\n",
    "ksol, csol = forward_ramsey(k0, csol, dt=dt)\n",
    "ksim, csim = simulate_ramsey(k0, c1, dt=0.1, k_lo=0.4, direc=1)\n",
    "\n",
    "\n",
    "fig, ax = plt.subplots()\n",
    "ax.plot(kfwd, cfwd);\n",
    "ax.plot(ksim, csim);\n",
    "ax.plot(ksol, csol);\n",
    "ax.scatter([k0, k_ss], [c0, c_ss]);"
   ]
  },
  {
   "cell_type": "code",
   "execution_count": null,
   "metadata": {},
   "outputs": [],
   "source": []
  }
 ],
 "metadata": {
  "kernelspec": {
   "display_name": "Python 3",
   "language": "python",
   "name": "python3"
  },
  "language_info": {
   "codemirror_mode": {
    "name": "ipython",
    "version": 3
   },
   "file_extension": ".py",
   "mimetype": "text/x-python",
   "name": "python",
   "nbconvert_exporter": "python",
   "pygments_lexer": "ipython3",
   "version": "3.6.3"
  }
 },
 "nbformat": 4,
 "nbformat_minor": 2
}
