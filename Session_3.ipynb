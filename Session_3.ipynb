{
 "cells": [
  {
   "cell_type": "code",
   "execution_count": 1,
   "metadata": {},
   "outputs": [],
   "source": [
    "import numpy as np\n",
    "import pandas as pd\n",
    "import scipy\n",
    "import scipy.interpolate as interp\n",
    "import scipy.optimize as opt"
   ]
  },
  {
   "cell_type": "code",
   "execution_count": 2,
   "metadata": {},
   "outputs": [],
   "source": [
    "import matplotlib as mpl\n",
    "import matplotlib.pyplot as plt\n",
    "import seaborn as sns\n",
    "%matplotlib inline\n",
    "sns.set(style='white', font_scale=1.5)\n",
    "mpl.rcParams['figure.figsize'] = (8, 6)\n",
    "col = mpl.rcParams['axes.prop_cycle'].by_key()['color']"
   ]
  },
  {
   "cell_type": "code",
   "execution_count": 3,
   "metadata": {},
   "outputs": [],
   "source": [
    "# parameters\n",
    "rho = 0.05 # discount rate\n",
    "alpha = 0.3 # capital elasticity\n",
    "delta = 0.1 # depreciation\n",
    "theta = 1.0 # crra param"
   ]
  },
  {
   "cell_type": "markdown",
   "metadata": {},
   "source": [
    "## Ramsey Model"
   ]
  },
  {
   "cell_type": "code",
   "execution_count": 4,
   "metadata": {},
   "outputs": [],
   "source": [
    "# algorithm\n",
    "S0 = 2**16 # max number of steps in perturbation simulation\n",
    "S1 = 4096 # short simulation\n",
    "K = 512 # size of capital grid\n",
    "ptol = 1.0e-4 # initial displacement for perturbation simulation\n",
    "dt_max = 1.0 # max time step in variable delt schemes"
   ]
  },
  {
   "cell_type": "code",
   "execution_count": 5,
   "metadata": {},
   "outputs": [],
   "source": [
    "# steady state\n",
    "k_ss = (alpha/(rho+delta))**(1.0/(1.0-alpha))\n",
    "i_ss = delta*k_ss\n",
    "y_ss = k_ss**alpha\n",
    "c_ss = y_ss - i_ss"
   ]
  },
  {
   "cell_type": "code",
   "execution_count": 6,
   "metadata": {},
   "outputs": [],
   "source": [
    "# grid it up\n",
    "k_lo, k_hi = 0.01, 2.0*k_ss\n",
    "k_grid = np.linspace(k_lo, k_hi, K)"
   ]
  },
  {
   "cell_type": "code",
   "execution_count": 7,
   "metadata": {},
   "outputs": [],
   "source": [
    "def simulate_ramsey(k0, c0, k_lo=0, k_hi=None, gk_targ=0.001, dt=None, S=S0, direc=-1):\n",
    "    # initial values\n",
    "    k, c = k0, c0\n",
    "    kpath, cpath = [k], [c]\n",
    "\n",
    "    for t in range(S):\n",
    "        # growth rates\n",
    "        gk = k**(alpha-1) - delta - c/k\n",
    "        gc = (1/theta)*(alpha*k**(alpha-1)-(rho+delta))\n",
    "\n",
    "        # adaptive step size\n",
    "        dt1 = direc*np.minimum(dt_max, gk_targ/np.abs(gk)) if dt is None else dt\n",
    "        k *= 1 + dt1*gk\n",
    "        c *= 1 + dt1*gc\n",
    "\n",
    "        # store\n",
    "        kpath.append(k)\n",
    "        cpath.append(c)\n",
    "\n",
    "        # terminal condition\n",
    "        if k_lo is not None and k <= k_lo:\n",
    "            break\n",
    "        if k_hi is not None and k >= k_hi:\n",
    "            break\n",
    "\n",
    "    return np.array(kpath), np.array(cpath)"
   ]
  },
  {
   "cell_type": "code",
   "execution_count": 8,
   "metadata": {},
   "outputs": [],
   "source": [
    "# generate upper and lower paths\n",
    "kvec1, cvec1 = simulate_ramsey(k_ss-ptol, c_ss-ptol, k_lo, k_hi)\n",
    "kvec2, cvec2 = simulate_ramsey(k_ss+ptol, c_ss+ptol, k_lo, k_hi)\n",
    "\n",
    "# combined path\n",
    "kvec = np.concatenate([kvec1[::-1], kvec2])\n",
    "cvec = np.concatenate([cvec1[::-1], cvec2])\n",
    "\n",
    "# interpolate\n",
    "cpol = interp.interp1d(kvec, cvec)"
   ]
  },
  {
   "cell_type": "code",
   "execution_count": 9,
   "metadata": {},
   "outputs": [
    {
     "data": {
      "image/png": "[encoded data removed]",
      "text/plain": [
       "<Figure size 432x288 with 1 Axes>"
      ]
     },
     "metadata": {},
     "output_type": "display_data"
    }
   ],
   "source": [
    "c_grid = cpol(k_grid)\n",
    "\n",
    "# plot results\n",
    "fig, ax = plt.subplots()\n",
    "ax.plot(k_grid, c_grid);\n",
    "ax.scatter([k_ss], [c_ss]);"
   ]
  },
  {
   "cell_type": "code",
   "execution_count": 10,
   "metadata": {},
   "outputs": [],
   "source": [
    "def forward_ramsey(k0, cf, dt=0.01, S=S0):\n",
    "    # initial values\n",
    "    k, c = k0, cf(k0)\n",
    "    kpath, cpath = [k], [c]\n",
    "\n",
    "    for t in range(S):\n",
    "        gk = k**(alpha-1) - delta - c/k\n",
    "\n",
    "        k *= 1 + dt*gk\n",
    "        c = cf(k)\n",
    "\n",
    "        # store\n",
    "        kpath.append(k)\n",
    "        cpath.append(c)\n",
    "\n",
    "    return np.array(kpath), np.array(cpath)"
   ]
  },
  {
   "cell_type": "code",
   "execution_count": 11,
   "metadata": {},
   "outputs": [],
   "source": [
    "def solow_policy(s):\n",
    "    return lambda k: (1-s)*k**alpha"
   ]
  },
  {
   "cell_type": "code",
   "execution_count": 12,
   "metadata": {},
   "outputs": [
    {
     "data": {
      "image/png": "[encoded data removed]",
      "text/plain": [
       "<Figure size 432x288 with 1 Axes>"
      ]
     },
     "metadata": {},
     "output_type": "display_data"
    }
   ],
   "source": [
    "k0 = 0.5\n",
    "c0 = float(cpol(k0))\n",
    "\n",
    "csol = solow_policy(0.25)\n",
    "\n",
    "dt = 0.1\n",
    "kfwd, cfwd = forward_ramsey(k0, cpol, dt=dt, S=S1)\n",
    "ksol, csol = forward_ramsey(k0, csol, dt=dt, S=S1)\n",
    "ksim, csim = simulate_ramsey(k0, c0, dt=dt, k_lo=0.4, direc=1)\n",
    "\n",
    "fig, ax = plt.subplots()\n",
    "ax.plot(kfwd, cfwd);\n",
    "ax.plot(ksim, csim);\n",
    "ax.plot(ksol, csol);\n",
    "ax.scatter([k0, k_ss], [c0, c_ss]);"
   ]
  },
  {
   "cell_type": "code",
   "execution_count": 17,
   "metadata": {},
   "outputs": [
    {
     "data": {
      "image/png": "[encoded data removed]",
      "text/plain": [
       "<Figure size 432x288 with 1 Axes>"
      ]
     },
     "metadata": {},
     "output_type": "display_data"
    }
   ],
   "source": [
    "kv0 = [0.8, 4.5]\n",
    "cv0 = cpol(kv0)\n",
    "dt = 0.1\n",
    "err = 0.1\n",
    "\n",
    "fig, ax = plt.subplots()\n",
    "\n",
    "for k0, c0 in zip(kv0, cv0):\n",
    "    kfwd, cfwd = forward_ramsey(k0, cpol, dt=dt, S=S1)\n",
    "    ksim1, csim1 = simulate_ramsey(k0, c0-err, dt=dt, k_hi=6.0, S=S1, direc=1)\n",
    "    ksim2, csim2 = simulate_ramsey(k0, c0+err, dt=dt, k_hi=6.0, S=S1, direc=1)\n",
    "\n",
    "    ax.plot(kfwd, cfwd, color=col[1]);\n",
    "    ax.plot(ksim1, csim1, color=col[2]);\n",
    "    ax.plot(ksim2, csim2, color=col[2]);\n",
    "    ax.vlines(k0, 0, 2, color='k', linestyle='--', linewidth=1);\n",
    "    \n",
    "ax.scatter(kv0, cv0, color=col[0], zorder=3);\n",
    "ax.scatter([k_ss], [c_ss], color=col[0], zorder=3);\n",
    "\n",
    "ax.set_xlim(0, 5.5);\n",
    "ax.set_ylim(0, 2);\n",
    "\n",
    "ax.set_xlabel('Capital (k)');\n",
    "ax.set_ylabel('Consumption (c)');\n",
    "\n",
    "fig.savefig('')"
   ]
  },
  {
   "cell_type": "markdown",
   "metadata": {},
   "source": [
    "Now try a policy change?"
   ]
  },
  {
   "cell_type": "markdown",
   "metadata": {},
   "source": [
    "## Value Functions"
   ]
  },
  {
   "cell_type": "code",
   "execution_count": 22,
   "metadata": {},
   "outputs": [],
   "source": [
    "from scipy.stats import norm"
   ]
  },
  {
   "cell_type": "code",
   "execution_count": 54,
   "metadata": {},
   "outputs": [],
   "source": [
    "delt = 0.1\n",
    "upd = 0.3\n",
    "sig = norm.cdf\n",
    "u = np.log\n",
    "up = lambda x: 1/x"
   ]
  },
  {
   "cell_type": "code",
   "execution_count": 69,
   "metadata": {},
   "outputs": [],
   "source": [
    "# grid it up\n",
    "k_lo, k_hi = 0.1, 2.0*k_ss\n",
    "k_grid = np.linspace(k_lo, k_hi, K)\n",
    "k_diff = np.diff(k_grid)\n",
    "y_grid = k_grid**alpha"
   ]
  },
  {
   "cell_type": "code",
   "execution_count": 76,
   "metadata": {},
   "outputs": [
    {
     "name": "stdout",
     "output_type": "stream",
     "text": [
      "0 0.0780832033601 0.3\n",
      "1000 2.27193561162e+45 0.5357742445\n",
      "2000 5.95303147659e+97 0.403569484812\n",
      "3000 1.55462112345e+150 1.66533453694e-16\n",
      "4000 4.04493290893e+202 1.66533453694e-16\n",
      "5000 1.0483874588e+255 1.66533453694e-16\n"
     ]
    },
    {
     "name": "stderr",
     "output_type": "stream",
     "text": [
      "/home/doug/.local/lib/python3.6/site-packages/ipykernel_launcher.py:6: RuntimeWarning: overflow encountered in true_divide\n",
      "  \n",
      "/home/doug/.local/lib/python3.6/site-packages/ipykernel_launcher.py:7: RuntimeWarning: overflow encountered in true_divide\n",
      "  import sys\n",
      "/home/doug/.local/lib/python3.6/site-packages/ipykernel_launcher.py:6: RuntimeWarning: invalid value encountered in subtract\n",
      "  \n",
      "/home/doug/.local/lib/python3.6/site-packages/ipykernel_launcher.py:7: RuntimeWarning: invalid value encountered in subtract\n",
      "  import sys\n",
      "/home/doug/.local/lib/python3.6/site-packages/scipy/stats/_distn_infrastructure.py:879: RuntimeWarning: invalid value encountered in greater\n",
      "  return (self.a < x) & (x < self.b)\n",
      "/home/doug/.local/lib/python3.6/site-packages/scipy/stats/_distn_infrastructure.py:879: RuntimeWarning: invalid value encountered in less\n",
      "  return (self.a < x) & (x < self.b)\n",
      "/home/doug/.local/lib/python3.6/site-packages/scipy/stats/_distn_infrastructure.py:1735: RuntimeWarning: invalid value encountered in greater_equal\n",
      "  cond2 = (x >= self.b) & cond0\n"
     ]
    },
    {
     "name": "stdout",
     "output_type": "stream",
     "text": [
      "6000 nan nan\n",
      "7000 nan nan\n",
      "8000 nan nan\n",
      "9000 nan nan\n",
      "10000 nan nan\n",
      "11000 nan nan\n",
      "12000 nan nan\n",
      "13000 nan nan\n",
      "14000 nan nan\n",
      "15000 nan nan\n",
      "16000 nan nan\n",
      "17000 nan nan\n",
      "18000 nan nan\n",
      "19000 nan nan\n"
     ]
    }
   ],
   "source": [
    "val = 0.1*np.log(y_grid)\n",
    "inv = np.zeros_like(k_grid)\n",
    "\n",
    "for i in range(20000):\n",
    "    adot = inv - delta*k_grid\n",
    "    vala_p = np.r_[val[1:]-val[:-1],val[-1]-val[-2]]/np.r_[k_diff,k_diff[-1]]\n",
    "    vala_n = np.r_[val[1]-val[0],val[1:]-val[:-1]]/np.r_[k_diff[0],k_diff]\n",
    "    vala = sig(adot)*vala_p + sig(-adot)*vala_n\n",
    "\n",
    "    inv_new = np.clip(y_grid - 1/vala, -0.3, 0.3)\n",
    "    val_new = delt*u(y_grid-adot) + (1-delt*rho)*(val + delt*adot*vala)\n",
    "\n",
    "    if i % 1000 == 0:\n",
    "        print(i, np.max(np.abs(val_new-val)), np.max(np.abs(inv_new-inv)))\n",
    "    \n",
    "    val[:] = upd*val_new + (1-upd)*val\n",
    "    inv[:] = upd*inv_new + (1-upd)*inv"
   ]
  },
  {
   "cell_type": "code",
   "execution_count": 66,
   "metadata": {},
   "outputs": [
    {
     "data": {
      "image/png": "[encoded data removed]",
      "text/plain": [
       "<matplotlib.figure.Figure at 0x7fb99e1fee80>"
      ]
     },
     "metadata": {},
     "output_type": "display_data"
    }
   ],
   "source": [
    "plt.plot(k_grid, inv);"
   ]
  },
  {
   "cell_type": "code",
   "execution_count": null,
   "metadata": {},
   "outputs": [],
   "source": []
  }
 ],
 "metadata": {
  "kernelspec": {
   "display_name": "Python 3",
   "language": "python",
   "name": "python3"
  },
  "language_info": {
   "codemirror_mode": {
    "name": "ipython",
    "version": 3
   },
   "file_extension": ".py",
   "mimetype": "text/x-python",
   "name": "python",
   "nbconvert_exporter": "python",
   "pygments_lexer": "ipython3",
   "version": "3.7.0"
  }
 },
 "nbformat": 4,
 "nbformat_minor": 2
}
